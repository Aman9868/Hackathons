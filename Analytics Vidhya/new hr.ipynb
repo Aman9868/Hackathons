{
 "cells": [
  {
   "cell_type": "code",
   "execution_count": 49,
   "metadata": {},
   "outputs": [],
   "source": [
    "import numpy as np\n",
    "import pandas as pd\n",
    "import seaborn as sns\n",
    "import matplotlib.pyplot as plt\n",
    "import scipy.stats as st\n",
    "from sklearn.model_selection import train_test_split,KFold,StratifiedKFold,GridSearchCV,RandomizedSearchCV,cross_val_score\n",
    "from sklearn.ensemble import RandomForestClassifier,BaggingClassifier,AdaBoostClassifier,GradientBoostingClassifier,RandomForestRegressor,BaggingRegressor,AdaBoostRegressor,GradientBoostingRegressor\n",
    "from sklearn.linear_model import LinearRegression,LogisticRegression,Lasso, Ridge\n",
    "from sklearn.tree import DecisionTreeClassifier,DecisionTreeRegressor\n",
    "from sklearn.naive_bayes import GaussianNB\n",
    "from sklearn.neighbors import KNeighborsClassifier,KNeighborsRegressor\n",
    "import sklearn.metrics as metrics\n",
    "from sklearn.metrics import r2_score,roc_auc_score,classification_report,mean_squared_error,accuracy_score,confusion_matrix\n",
    "from sklearn.preprocessing import LabelEncoder\n",
    "le=LabelEncoder()\n",
    "import warnings\n",
    "warnings.filterwarnings('ignore')"
   ]
  },
  {
   "cell_type": "code",
   "execution_count": 50,
   "metadata": {},
   "outputs": [],
   "source": [
    "train=pd.read_csv('D:/R/Hr analytics new/train.csv')\n",
    "test=pd.read_csv('D:/R/Hr analytics new/test.csv')"
   ]
  },
  {
   "cell_type": "code",
   "execution_count": 51,
   "metadata": {},
   "outputs": [
    {
     "name": "stdout",
     "output_type": "stream",
     "text": [
      "(18359, 14) (15021, 13) (33380, 14)\n"
     ]
    },
    {
     "data": {
      "text/html": [
       "<div>\n",
       "<style scoped>\n",
       "    .dataframe tbody tr th:only-of-type {\n",
       "        vertical-align: middle;\n",
       "    }\n",
       "\n",
       "    .dataframe tbody tr th {\n",
       "        vertical-align: top;\n",
       "    }\n",
       "\n",
       "    .dataframe thead th {\n",
       "        text-align: right;\n",
       "    }\n",
       "</style>\n",
       "<table border=\"1\" class=\"dataframe\">\n",
       "  <thead>\n",
       "    <tr style=\"text-align: right;\">\n",
       "      <th></th>\n",
       "      <th>enrollee_id</th>\n",
       "      <th>city</th>\n",
       "      <th>city_development_index</th>\n",
       "      <th>gender</th>\n",
       "      <th>relevent_experience</th>\n",
       "      <th>enrolled_university</th>\n",
       "      <th>education_level</th>\n",
       "      <th>major_discipline</th>\n",
       "      <th>experience</th>\n",
       "      <th>company_size</th>\n",
       "      <th>company_type</th>\n",
       "      <th>last_new_job</th>\n",
       "      <th>training_hours</th>\n",
       "      <th>target</th>\n",
       "    </tr>\n",
       "  </thead>\n",
       "  <tbody>\n",
       "    <tr>\n",
       "      <th>0</th>\n",
       "      <td>23798</td>\n",
       "      <td>city_149</td>\n",
       "      <td>0.689</td>\n",
       "      <td>Male</td>\n",
       "      <td>Has relevent experience</td>\n",
       "      <td>no_enrollment</td>\n",
       "      <td>Graduate</td>\n",
       "      <td>STEM</td>\n",
       "      <td>3</td>\n",
       "      <td>100-500</td>\n",
       "      <td>Pvt Ltd</td>\n",
       "      <td>1</td>\n",
       "      <td>106</td>\n",
       "      <td>0.0</td>\n",
       "    </tr>\n",
       "    <tr>\n",
       "      <th>1</th>\n",
       "      <td>29166</td>\n",
       "      <td>city_83</td>\n",
       "      <td>0.923</td>\n",
       "      <td>Male</td>\n",
       "      <td>Has relevent experience</td>\n",
       "      <td>no_enrollment</td>\n",
       "      <td>Graduate</td>\n",
       "      <td>STEM</td>\n",
       "      <td>14</td>\n",
       "      <td>&lt;10</td>\n",
       "      <td>Funded Startup</td>\n",
       "      <td>1</td>\n",
       "      <td>69</td>\n",
       "      <td>0.0</td>\n",
       "    </tr>\n",
       "    <tr>\n",
       "      <th>2</th>\n",
       "      <td>46</td>\n",
       "      <td>city_16</td>\n",
       "      <td>0.910</td>\n",
       "      <td>NaN</td>\n",
       "      <td>Has relevent experience</td>\n",
       "      <td>no_enrollment</td>\n",
       "      <td>Graduate</td>\n",
       "      <td>STEM</td>\n",
       "      <td>6</td>\n",
       "      <td>50-99</td>\n",
       "      <td>Public Sector</td>\n",
       "      <td>2</td>\n",
       "      <td>4</td>\n",
       "      <td>0.0</td>\n",
       "    </tr>\n",
       "    <tr>\n",
       "      <th>3</th>\n",
       "      <td>18527</td>\n",
       "      <td>city_64</td>\n",
       "      <td>0.666</td>\n",
       "      <td>Male</td>\n",
       "      <td>Has relevent experience</td>\n",
       "      <td>no_enrollment</td>\n",
       "      <td>Graduate</td>\n",
       "      <td>STEM</td>\n",
       "      <td>14</td>\n",
       "      <td>50-99</td>\n",
       "      <td>Pvt Ltd</td>\n",
       "      <td>1</td>\n",
       "      <td>26</td>\n",
       "      <td>0.0</td>\n",
       "    </tr>\n",
       "    <tr>\n",
       "      <th>4</th>\n",
       "      <td>21751</td>\n",
       "      <td>city_100</td>\n",
       "      <td>0.887</td>\n",
       "      <td>NaN</td>\n",
       "      <td>No relevent experience</td>\n",
       "      <td>no_enrollment</td>\n",
       "      <td>Masters</td>\n",
       "      <td>STEM</td>\n",
       "      <td>8</td>\n",
       "      <td>NaN</td>\n",
       "      <td>NaN</td>\n",
       "      <td>2</td>\n",
       "      <td>88</td>\n",
       "      <td>1.0</td>\n",
       "    </tr>\n",
       "  </tbody>\n",
       "</table>\n",
       "</div>"
      ],
      "text/plain": [
       "   enrollee_id      city  city_development_index gender  \\\n",
       "0        23798  city_149                   0.689   Male   \n",
       "1        29166   city_83                   0.923   Male   \n",
       "2           46   city_16                   0.910    NaN   \n",
       "3        18527   city_64                   0.666   Male   \n",
       "4        21751  city_100                   0.887    NaN   \n",
       "\n",
       "       relevent_experience enrolled_university education_level  \\\n",
       "0  Has relevent experience       no_enrollment        Graduate   \n",
       "1  Has relevent experience       no_enrollment        Graduate   \n",
       "2  Has relevent experience       no_enrollment        Graduate   \n",
       "3  Has relevent experience       no_enrollment        Graduate   \n",
       "4   No relevent experience       no_enrollment         Masters   \n",
       "\n",
       "  major_discipline experience company_size    company_type last_new_job  \\\n",
       "0             STEM          3      100-500         Pvt Ltd            1   \n",
       "1             STEM         14          <10  Funded Startup            1   \n",
       "2             STEM          6        50-99   Public Sector            2   \n",
       "3             STEM         14        50-99         Pvt Ltd            1   \n",
       "4             STEM          8          NaN             NaN            2   \n",
       "\n",
       "   training_hours  target  \n",
       "0             106     0.0  \n",
       "1              69     0.0  \n",
       "2               4     0.0  \n",
       "3              26     0.0  \n",
       "4              88     1.0  "
      ]
     },
     "execution_count": 51,
     "metadata": {},
     "output_type": "execute_result"
    }
   ],
   "source": [
    "#Combine test and train into one file\n",
    "master = pd.concat([train, test],ignore_index=True)\n",
    "print(train.shape, test.shape, master.shape)\n",
    "master.head()"
   ]
  },
  {
   "cell_type": "code",
   "execution_count": 52,
   "metadata": {},
   "outputs": [
    {
     "name": "stdout",
     "output_type": "stream",
     "text": [
      "<class 'pandas.core.frame.DataFrame'>\n",
      "RangeIndex: 33380 entries, 0 to 33379\n",
      "Data columns (total 14 columns):\n",
      " #   Column                  Non-Null Count  Dtype  \n",
      "---  ------                  --------------  -----  \n",
      " 0   enrollee_id             33380 non-null  int64  \n",
      " 1   city                    33380 non-null  object \n",
      " 2   city_development_index  33380 non-null  float64\n",
      " 3   gender                  25894 non-null  object \n",
      " 4   relevent_experience     33380 non-null  object \n",
      " 5   enrolled_university     32759 non-null  object \n",
      " 6   education_level         32528 non-null  object \n",
      " 7   major_discipline        28149 non-null  object \n",
      " 8   experience              33277 non-null  object \n",
      " 9   company_size            24550 non-null  object \n",
      " 10  company_type            24011 non-null  object \n",
      " 11  last_new_job            32709 non-null  object \n",
      " 12  training_hours          33380 non-null  int64  \n",
      " 13  target                  18359 non-null  float64\n",
      "dtypes: float64(2), int64(2), object(10)\n",
      "memory usage: 3.6+ MB\n"
     ]
    }
   ],
   "source": [
    "master.info()"
   ]
  },
  {
   "cell_type": "code",
   "execution_count": 53,
   "metadata": {},
   "outputs": [
    {
     "data": {
      "text/plain": [
       "enrollee_id                0.000000\n",
       "city                       0.000000\n",
       "city_development_index     0.000000\n",
       "gender                    22.426603\n",
       "relevent_experience        0.000000\n",
       "enrolled_university        1.860395\n",
       "education_level            2.552427\n",
       "major_discipline          15.671061\n",
       "experience                 0.308568\n",
       "company_size              26.452966\n",
       "company_type              28.067705\n",
       "last_new_job               2.010186\n",
       "training_hours             0.000000\n",
       "target                    45.000000\n",
       "dtype: float64"
      ]
     },
     "execution_count": 53,
     "metadata": {},
     "output_type": "execute_result"
    }
   ],
   "source": [
    "#CHECK NA\n",
    "master.isnull().sum()/len(master)*100"
   ]
  },
  {
   "cell_type": "code",
   "execution_count": 54,
   "metadata": {},
   "outputs": [
    {
     "data": {
      "text/plain": [
       "enrollee_id               33380\n",
       "city                        123\n",
       "city_development_index       93\n",
       "gender                        4\n",
       "relevent_experience           2\n",
       "enrolled_university           4\n",
       "education_level               6\n",
       "major_discipline              7\n",
       "experience                   23\n",
       "company_size                  9\n",
       "company_type                  7\n",
       "last_new_job                  7\n",
       "training_hours              241\n",
       "target                        3\n",
       "dtype: int64"
      ]
     },
     "execution_count": 54,
     "metadata": {},
     "output_type": "execute_result"
    }
   ],
   "source": [
    "# CHECK UNIQUE VALUES\n",
    "\n",
    "master.apply(lambda x : len(x.unique()))"
   ]
  },
  {
   "cell_type": "code",
   "execution_count": 55,
   "metadata": {},
   "outputs": [
    {
     "data": {
      "text/html": [
       "<div>\n",
       "<style scoped>\n",
       "    .dataframe tbody tr th:only-of-type {\n",
       "        vertical-align: middle;\n",
       "    }\n",
       "\n",
       "    .dataframe tbody tr th {\n",
       "        vertical-align: top;\n",
       "    }\n",
       "\n",
       "    .dataframe thead th {\n",
       "        text-align: right;\n",
       "    }\n",
       "</style>\n",
       "<table border=\"1\" class=\"dataframe\">\n",
       "  <thead>\n",
       "    <tr style=\"text-align: right;\">\n",
       "      <th></th>\n",
       "      <th>enrollee_id</th>\n",
       "      <th>city_development_index</th>\n",
       "      <th>gender</th>\n",
       "      <th>relevent_experience</th>\n",
       "      <th>enrolled_university</th>\n",
       "      <th>education_level</th>\n",
       "      <th>major_discipline</th>\n",
       "      <th>experience</th>\n",
       "      <th>company_size</th>\n",
       "      <th>company_type</th>\n",
       "      <th>last_new_job</th>\n",
       "      <th>training_hours</th>\n",
       "      <th>target</th>\n",
       "    </tr>\n",
       "  </thead>\n",
       "  <tbody>\n",
       "    <tr>\n",
       "      <th>0</th>\n",
       "      <td>23798</td>\n",
       "      <td>0.689</td>\n",
       "      <td>Male</td>\n",
       "      <td>Has relevent experience</td>\n",
       "      <td>no_enrollment</td>\n",
       "      <td>Graduate</td>\n",
       "      <td>STEM</td>\n",
       "      <td>3</td>\n",
       "      <td>100-500</td>\n",
       "      <td>Pvt Ltd</td>\n",
       "      <td>1</td>\n",
       "      <td>106</td>\n",
       "      <td>0.0</td>\n",
       "    </tr>\n",
       "    <tr>\n",
       "      <th>1</th>\n",
       "      <td>29166</td>\n",
       "      <td>0.923</td>\n",
       "      <td>Male</td>\n",
       "      <td>Has relevent experience</td>\n",
       "      <td>no_enrollment</td>\n",
       "      <td>Graduate</td>\n",
       "      <td>STEM</td>\n",
       "      <td>14</td>\n",
       "      <td>&lt;10</td>\n",
       "      <td>Funded Startup</td>\n",
       "      <td>1</td>\n",
       "      <td>69</td>\n",
       "      <td>0.0</td>\n",
       "    </tr>\n",
       "    <tr>\n",
       "      <th>2</th>\n",
       "      <td>46</td>\n",
       "      <td>0.910</td>\n",
       "      <td>NaN</td>\n",
       "      <td>Has relevent experience</td>\n",
       "      <td>no_enrollment</td>\n",
       "      <td>Graduate</td>\n",
       "      <td>STEM</td>\n",
       "      <td>6</td>\n",
       "      <td>50-99</td>\n",
       "      <td>Public Sector</td>\n",
       "      <td>2</td>\n",
       "      <td>4</td>\n",
       "      <td>0.0</td>\n",
       "    </tr>\n",
       "    <tr>\n",
       "      <th>3</th>\n",
       "      <td>18527</td>\n",
       "      <td>0.666</td>\n",
       "      <td>Male</td>\n",
       "      <td>Has relevent experience</td>\n",
       "      <td>no_enrollment</td>\n",
       "      <td>Graduate</td>\n",
       "      <td>STEM</td>\n",
       "      <td>14</td>\n",
       "      <td>50-99</td>\n",
       "      <td>Pvt Ltd</td>\n",
       "      <td>1</td>\n",
       "      <td>26</td>\n",
       "      <td>0.0</td>\n",
       "    </tr>\n",
       "    <tr>\n",
       "      <th>4</th>\n",
       "      <td>21751</td>\n",
       "      <td>0.887</td>\n",
       "      <td>NaN</td>\n",
       "      <td>No relevent experience</td>\n",
       "      <td>no_enrollment</td>\n",
       "      <td>Masters</td>\n",
       "      <td>STEM</td>\n",
       "      <td>8</td>\n",
       "      <td>NaN</td>\n",
       "      <td>NaN</td>\n",
       "      <td>2</td>\n",
       "      <td>88</td>\n",
       "      <td>1.0</td>\n",
       "    </tr>\n",
       "    <tr>\n",
       "      <th>...</th>\n",
       "      <td>...</td>\n",
       "      <td>...</td>\n",
       "      <td>...</td>\n",
       "      <td>...</td>\n",
       "      <td>...</td>\n",
       "      <td>...</td>\n",
       "      <td>...</td>\n",
       "      <td>...</td>\n",
       "      <td>...</td>\n",
       "      <td>...</td>\n",
       "      <td>...</td>\n",
       "      <td>...</td>\n",
       "      <td>...</td>\n",
       "    </tr>\n",
       "    <tr>\n",
       "      <th>33375</th>\n",
       "      <td>11308</td>\n",
       "      <td>0.762</td>\n",
       "      <td>NaN</td>\n",
       "      <td>Has relevent experience</td>\n",
       "      <td>no_enrollment</td>\n",
       "      <td>Masters</td>\n",
       "      <td>STEM</td>\n",
       "      <td>&gt;20</td>\n",
       "      <td>500-999</td>\n",
       "      <td>Pvt Ltd</td>\n",
       "      <td>&gt;4</td>\n",
       "      <td>68</td>\n",
       "      <td>NaN</td>\n",
       "    </tr>\n",
       "    <tr>\n",
       "      <th>33376</th>\n",
       "      <td>14612</td>\n",
       "      <td>0.624</td>\n",
       "      <td>Male</td>\n",
       "      <td>Has relevent experience</td>\n",
       "      <td>Full time course</td>\n",
       "      <td>Masters</td>\n",
       "      <td>STEM</td>\n",
       "      <td>4</td>\n",
       "      <td>1000-4999</td>\n",
       "      <td>Pvt Ltd</td>\n",
       "      <td>1</td>\n",
       "      <td>320</td>\n",
       "      <td>NaN</td>\n",
       "    </tr>\n",
       "    <tr>\n",
       "      <th>33377</th>\n",
       "      <td>33346</td>\n",
       "      <td>0.910</td>\n",
       "      <td>Male</td>\n",
       "      <td>Has relevent experience</td>\n",
       "      <td>no_enrollment</td>\n",
       "      <td>High School</td>\n",
       "      <td>NaN</td>\n",
       "      <td>9</td>\n",
       "      <td>1000-4999</td>\n",
       "      <td>Pvt Ltd</td>\n",
       "      <td>4</td>\n",
       "      <td>13</td>\n",
       "      <td>NaN</td>\n",
       "    </tr>\n",
       "    <tr>\n",
       "      <th>33378</th>\n",
       "      <td>14506</td>\n",
       "      <td>0.666</td>\n",
       "      <td>NaN</td>\n",
       "      <td>No relevent experience</td>\n",
       "      <td>Full time course</td>\n",
       "      <td>Graduate</td>\n",
       "      <td>STEM</td>\n",
       "      <td>5</td>\n",
       "      <td>NaN</td>\n",
       "      <td>NaN</td>\n",
       "      <td>1</td>\n",
       "      <td>38</td>\n",
       "      <td>NaN</td>\n",
       "    </tr>\n",
       "    <tr>\n",
       "      <th>33379</th>\n",
       "      <td>32641</td>\n",
       "      <td>0.624</td>\n",
       "      <td>Male</td>\n",
       "      <td>No relevent experience</td>\n",
       "      <td>no_enrollment</td>\n",
       "      <td>Graduate</td>\n",
       "      <td>NaN</td>\n",
       "      <td>3</td>\n",
       "      <td>NaN</td>\n",
       "      <td>NaN</td>\n",
       "      <td>NaN</td>\n",
       "      <td>100</td>\n",
       "      <td>NaN</td>\n",
       "    </tr>\n",
       "  </tbody>\n",
       "</table>\n",
       "<p>33380 rows × 13 columns</p>\n",
       "</div>"
      ],
      "text/plain": [
       "       enrollee_id  city_development_index gender      relevent_experience  \\\n",
       "0            23798                   0.689   Male  Has relevent experience   \n",
       "1            29166                   0.923   Male  Has relevent experience   \n",
       "2               46                   0.910    NaN  Has relevent experience   \n",
       "3            18527                   0.666   Male  Has relevent experience   \n",
       "4            21751                   0.887    NaN   No relevent experience   \n",
       "...            ...                     ...    ...                      ...   \n",
       "33375        11308                   0.762    NaN  Has relevent experience   \n",
       "33376        14612                   0.624   Male  Has relevent experience   \n",
       "33377        33346                   0.910   Male  Has relevent experience   \n",
       "33378        14506                   0.666    NaN   No relevent experience   \n",
       "33379        32641                   0.624   Male   No relevent experience   \n",
       "\n",
       "      enrolled_university education_level major_discipline experience  \\\n",
       "0           no_enrollment        Graduate             STEM          3   \n",
       "1           no_enrollment        Graduate             STEM         14   \n",
       "2           no_enrollment        Graduate             STEM          6   \n",
       "3           no_enrollment        Graduate             STEM         14   \n",
       "4           no_enrollment         Masters             STEM          8   \n",
       "...                   ...             ...              ...        ...   \n",
       "33375       no_enrollment         Masters             STEM        >20   \n",
       "33376    Full time course         Masters             STEM          4   \n",
       "33377       no_enrollment     High School              NaN          9   \n",
       "33378    Full time course        Graduate             STEM          5   \n",
       "33379       no_enrollment        Graduate              NaN          3   \n",
       "\n",
       "      company_size    company_type last_new_job  training_hours  target  \n",
       "0          100-500         Pvt Ltd            1             106     0.0  \n",
       "1              <10  Funded Startup            1              69     0.0  \n",
       "2            50-99   Public Sector            2               4     0.0  \n",
       "3            50-99         Pvt Ltd            1              26     0.0  \n",
       "4              NaN             NaN            2              88     1.0  \n",
       "...            ...             ...          ...             ...     ...  \n",
       "33375      500-999         Pvt Ltd           >4              68     NaN  \n",
       "33376    1000-4999         Pvt Ltd            1             320     NaN  \n",
       "33377    1000-4999         Pvt Ltd            4              13     NaN  \n",
       "33378          NaN             NaN            1              38     NaN  \n",
       "33379          NaN             NaN          NaN             100     NaN  \n",
       "\n",
       "[33380 rows x 13 columns]"
      ]
     },
     "execution_count": 55,
     "metadata": {},
     "output_type": "execute_result"
    }
   ],
   "source": [
    "##### DEALING WITH NULL VALUES######\n",
    "\n",
    "#1.CITY\n",
    "master['city'].value_counts()\n",
    "master.drop(['city'], axis=1)"
   ]
  },
  {
   "cell_type": "code",
   "execution_count": 56,
   "metadata": {},
   "outputs": [
    {
     "data": {
      "text/plain": [
       "2    30948\n",
       "1     2085\n",
       "0      347\n",
       "Name: gender, dtype: int64"
      ]
     },
     "execution_count": 56,
     "metadata": {},
     "output_type": "execute_result"
    },
    {
     "data": {
      "image/png": "[encoded data removed]",
      "text/plain": [
       "<Figure size 360x360 with 1 Axes>"
      ]
     },
     "metadata": {
      "needs_background": "light"
     },
     "output_type": "display_data"
    }
   ],
   "source": [
    "#2.GENDER\n",
    "\n",
    "sns.catplot(x=\"gender\", kind=\"count\", data=master);\n",
    "master['gender']=master['gender'].fillna('Male')\n",
    "gf={'Other':0,'Female':1,'Male':2}\n",
    "master.gender=master.gender.map(gf)\n",
    "master.gender=master.gender.astype(int)\n",
    "master['gender'].value_counts()"
   ]
  },
  {
   "cell_type": "code",
   "execution_count": 57,
   "metadata": {},
   "outputs": [
    {
     "data": {
      "text/plain": [
       "0    25508\n",
       "1     5752\n",
       "2     2120\n",
       "Name: enrolled_university, dtype: int64"
      ]
     },
     "execution_count": 57,
     "metadata": {},
     "output_type": "execute_result"
    },
    {
     "data": {
      "image/png": "[encoded data removed]",
      "text/plain": [
       "<Figure size 360x360 with 1 Axes>"
      ]
     },
     "metadata": {
      "needs_background": "light"
     },
     "output_type": "display_data"
    }
   ],
   "source": [
    "#3.ENROLLED UNIVERSITY\n",
    "\n",
    "\n",
    "sns.catplot(x=\"enrolled_university\", kind=\"count\", data=master);\n",
    "master['enrolled_university']=master['enrolled_university'].fillna('no_enrollment')\n",
    "gs={'no_enrollment':0,'Full time course':1,'Part time course':2}\n",
    "master.enrolled_university=master.enrolled_university.map(gs)\n",
    "master.enrolled_university=master.enrolled_university.astype(int)\n",
    "master['enrolled_university'].value_counts()"
   ]
  },
  {
   "cell_type": "code",
   "execution_count": 58,
   "metadata": {},
   "outputs": [
    {
     "data": {
      "text/plain": [
       "4    20364\n",
       "3     7797\n",
       "2     3708\n",
       "1      881\n",
       "0      630\n",
       "Name: education_level, dtype: int64"
      ]
     },
     "execution_count": 58,
     "metadata": {},
     "output_type": "execute_result"
    },
    {
     "data": {
      "image/png": "[encoded data removed]",
      "text/plain": [
       "<Figure size 360x360 with 1 Axes>"
      ]
     },
     "metadata": {
      "needs_background": "light"
     },
     "output_type": "display_data"
    }
   ],
   "source": [
    "#4.EDUCATION LEVEL\n",
    "\n",
    "\n",
    "sns.catplot(x=\"education_level\", kind=\"count\", data=master);\n",
    "master['education_level']=master['education_level'].fillna('Graduate')\n",
    "ge={'Primary School':0,'Phd':1,'High School':2,'Masters':3,'Graduate':4}\n",
    "master.education_level=master.education_level.map(ge)\n",
    "master.education_level=master.education_level.astype(int)\n",
    "master['education_level'].value_counts()"
   ]
  },
  {
   "cell_type": "code",
   "execution_count": 59,
   "metadata": {},
   "outputs": [
    {
     "data": {
      "text/plain": [
       "5    30086\n",
       "4     1212\n",
       "3      678\n",
       "2      585\n",
       "1      432\n",
       "0      387\n",
       "Name: major_discipline, dtype: int64"
      ]
     },
     "execution_count": 59,
     "metadata": {},
     "output_type": "execute_result"
    },
    {
     "data": {
      "image/png": "[encoded data removed]",
      "text/plain": [
       "<Figure size 432x288 with 1 Axes>"
      ]
     },
     "metadata": {
      "needs_background": "light"
     },
     "output_type": "display_data"
    },
    {
     "data": {
      "image/png": "[encoded data removed]",
      "text/plain": [
       "<Figure size 360x360 with 1 Axes>"
      ]
     },
     "metadata": {
      "needs_background": "light"
     },
     "output_type": "display_data"
    }
   ],
   "source": [
    "#5.Major Discipline\n",
    "\n",
    "sns.countplot(x='major_discipline',data=master,hue=\"target\")\n",
    "sns.catplot(x=\"major_discipline\", kind=\"count\", data=master);\n",
    "master['major_discipline']=master['major_discipline'].fillna('STEM')\n",
    "gt={'No Major':0,'Arts':1,'Business Degree':2,'Other':3,'Humanities':4,'STEM':5}\n",
    "master.major_discipline=master.major_discipline.map(gt)\n",
    "master.major_discipline=master.major_discipline.astype(int)\n",
    "master['major_discipline'].value_counts()"
   ]
  },
  {
   "cell_type": "code",
   "execution_count": 60,
   "metadata": {},
   "outputs": [
    {
     "data": {
      "image/png": "[encoded data removed]",
      "text/plain": [
       "<Figure size 432x288 with 1 Axes>"
      ]
     },
     "metadata": {
      "needs_background": "light"
     },
     "output_type": "display_data"
    }
   ],
   "source": [
    "#6.EXPERIENCE\n",
    "master['experience'].value_counts()\n",
    "sns.countplot(x='experience',data=master,hue=\"target\")\n",
    "master['experience'].replace({'<1':'1','>20':'20'},inplace=True)\n",
    "master['experience']=master['experience'].fillna('20')\n",
    "master['experience']=master['experience'].astype('int')"
   ]
  },
  {
   "cell_type": "code",
   "execution_count": 61,
   "metadata": {},
   "outputs": [
    {
     "data": {
      "image/png": "[encoded data removed]",
      "text/plain": [
       "<Figure size 360x360 with 1 Axes>"
      ]
     },
     "metadata": {
      "needs_background": "light"
     },
     "output_type": "display_data"
    }
   ],
   "source": [
    "#7.COMPANY SIZE\n",
    "master['company_size'].value_counts()\n",
    "master['company_size'].replace({'<10':'10','10/49':'30','50-99':'75','100-500':'300','500-999':'750',\n",
    "                            '1000-4999':'3000','5000-9999':'7500','10000+':'10000'},inplace=True)\n",
    "sns.catplot(x=\"company_size\", kind=\"count\", data=master);\n",
    "master['company_size']=master['company_size'].fillna('75')\n",
    "sns.countplot(x='company_size',data=master,hue=\"target\")\n",
    "master['company_size']=master['company_size'].astype('int')"
   ]
  },
  {
   "cell_type": "code",
   "execution_count": 62,
   "metadata": {},
   "outputs": [
    {
     "data": {
      "image/png": "[encoded data removed]",
      "text/plain": [
       "<Figure size 360x360 with 1 Axes>"
      ]
     },
     "metadata": {
      "needs_background": "light"
     },
     "output_type": "display_data"
    }
   ],
   "source": [
    "#8.LAST_NEWJOB\n",
    "master['last_new_job'].value_counts()\n",
    "sns.catplot(x=\"last_new_job\", kind=\"count\", data=master);\n",
    "sns.countplot(x='last_new_job',data=master,hue=\"target\")\n",
    "master['last_new_job'].replace({'>4':4,'never':0},inplace=True)\n",
    "master['last_new_job']=master['last_new_job'].fillna(1)\n",
    "master['last_new_job']=master['last_new_job'].astype('int')"
   ]
  },
  {
   "cell_type": "code",
   "execution_count": 63,
   "metadata": {},
   "outputs": [
    {
     "data": {
      "text/plain": [
       "5    27483\n",
       "4     1880\n",
       "3     1792\n",
       "2     1029\n",
       "1      973\n",
       "0      223\n",
       "Name: company_type, dtype: int64"
      ]
     },
     "execution_count": 63,
     "metadata": {},
     "output_type": "execute_result"
    },
    {
     "data": {
      "image/png": "[encoded data removed]",
      "text/plain": [
       "<Figure size 360x360 with 1 Axes>"
      ]
     },
     "metadata": {
      "needs_background": "light"
     },
     "output_type": "display_data"
    }
   ],
   "source": [
    "#9.COMPANY_TYPE\n",
    "\n",
    "sns.catplot(x=\"company_type\",kind=\"count\",data=master)\n",
    "sns.countplot(x=\"company_type\",data=master,hue=\"target\")\n",
    "master['company_type']=master['company_type'].fillna('Pvt Ltd')\n",
    "gy={'Other':0,'NGO':1,'Early Stage Startup':2,'Public Sector':3,'Funded Startup':4,'Pvt Ltd':5}\n",
    "master.company_type=master.company_type.map(gy)\n",
    "master.company_type=master.company_type.astype(int)\n",
    "master['company_type'].value_counts()"
   ]
  },
  {
   "cell_type": "code",
   "execution_count": 64,
   "metadata": {},
   "outputs": [
    {
     "data": {
      "text/plain": [
       "0.0    86.79122\n",
       "1.0    13.20878\n",
       "Name: target, dtype: float64"
      ]
     },
     "execution_count": 64,
     "metadata": {},
     "output_type": "execute_result"
    }
   ],
   "source": [
    "#TARGET VARIABLE #IMBALANCE DATASET\n",
    "master['target'].value_counts(normalize=True)*100"
   ]
  },
  {
   "cell_type": "code",
   "execution_count": 65,
   "metadata": {},
   "outputs": [
    {
     "data": {
      "text/html": [
       "<div>\n",
       "<style scoped>\n",
       "    .dataframe tbody tr th:only-of-type {\n",
       "        vertical-align: middle;\n",
       "    }\n",
       "\n",
       "    .dataframe tbody tr th {\n",
       "        vertical-align: top;\n",
       "    }\n",
       "\n",
       "    .dataframe thead th {\n",
       "        text-align: right;\n",
       "    }\n",
       "</style>\n",
       "<table border=\"1\" class=\"dataframe\">\n",
       "  <thead>\n",
       "    <tr style=\"text-align: right;\">\n",
       "      <th></th>\n",
       "      <th>enrollee_id</th>\n",
       "      <th>city</th>\n",
       "      <th>city_development_index</th>\n",
       "      <th>gender</th>\n",
       "      <th>relevent_experience</th>\n",
       "      <th>enrolled_university</th>\n",
       "      <th>education_level</th>\n",
       "      <th>major_discipline</th>\n",
       "      <th>experience</th>\n",
       "      <th>company_size</th>\n",
       "      <th>company_type</th>\n",
       "      <th>last_new_job</th>\n",
       "      <th>training_hours</th>\n",
       "      <th>target</th>\n",
       "    </tr>\n",
       "  </thead>\n",
       "  <tbody>\n",
       "    <tr>\n",
       "      <th>0</th>\n",
       "      <td>23798</td>\n",
       "      <td>city_149</td>\n",
       "      <td>0.689</td>\n",
       "      <td>2</td>\n",
       "      <td>Has relevent experience</td>\n",
       "      <td>0</td>\n",
       "      <td>4</td>\n",
       "      <td>5</td>\n",
       "      <td>3</td>\n",
       "      <td>300</td>\n",
       "      <td>5</td>\n",
       "      <td>1</td>\n",
       "      <td>106</td>\n",
       "      <td>0.0</td>\n",
       "    </tr>\n",
       "    <tr>\n",
       "      <th>1</th>\n",
       "      <td>29166</td>\n",
       "      <td>city_83</td>\n",
       "      <td>0.923</td>\n",
       "      <td>2</td>\n",
       "      <td>Has relevent experience</td>\n",
       "      <td>0</td>\n",
       "      <td>4</td>\n",
       "      <td>5</td>\n",
       "      <td>14</td>\n",
       "      <td>10</td>\n",
       "      <td>4</td>\n",
       "      <td>1</td>\n",
       "      <td>69</td>\n",
       "      <td>0.0</td>\n",
       "    </tr>\n",
       "    <tr>\n",
       "      <th>2</th>\n",
       "      <td>46</td>\n",
       "      <td>city_16</td>\n",
       "      <td>0.910</td>\n",
       "      <td>2</td>\n",
       "      <td>Has relevent experience</td>\n",
       "      <td>0</td>\n",
       "      <td>4</td>\n",
       "      <td>5</td>\n",
       "      <td>6</td>\n",
       "      <td>75</td>\n",
       "      <td>3</td>\n",
       "      <td>2</td>\n",
       "      <td>4</td>\n",
       "      <td>0.0</td>\n",
       "    </tr>\n",
       "    <tr>\n",
       "      <th>3</th>\n",
       "      <td>18527</td>\n",
       "      <td>city_64</td>\n",
       "      <td>0.666</td>\n",
       "      <td>2</td>\n",
       "      <td>Has relevent experience</td>\n",
       "      <td>0</td>\n",
       "      <td>4</td>\n",
       "      <td>5</td>\n",
       "      <td>14</td>\n",
       "      <td>75</td>\n",
       "      <td>5</td>\n",
       "      <td>1</td>\n",
       "      <td>26</td>\n",
       "      <td>0.0</td>\n",
       "    </tr>\n",
       "    <tr>\n",
       "      <th>4</th>\n",
       "      <td>21751</td>\n",
       "      <td>city_100</td>\n",
       "      <td>0.887</td>\n",
       "      <td>2</td>\n",
       "      <td>No relevent experience</td>\n",
       "      <td>0</td>\n",
       "      <td>3</td>\n",
       "      <td>5</td>\n",
       "      <td>8</td>\n",
       "      <td>75</td>\n",
       "      <td>5</td>\n",
       "      <td>2</td>\n",
       "      <td>88</td>\n",
       "      <td>1.0</td>\n",
       "    </tr>\n",
       "  </tbody>\n",
       "</table>\n",
       "</div>"
      ],
      "text/plain": [
       "   enrollee_id      city  city_development_index  gender  \\\n",
       "0        23798  city_149                   0.689       2   \n",
       "1        29166   city_83                   0.923       2   \n",
       "2           46   city_16                   0.910       2   \n",
       "3        18527   city_64                   0.666       2   \n",
       "4        21751  city_100                   0.887       2   \n",
       "\n",
       "       relevent_experience  enrolled_university  education_level  \\\n",
       "0  Has relevent experience                    0                4   \n",
       "1  Has relevent experience                    0                4   \n",
       "2  Has relevent experience                    0                4   \n",
       "3  Has relevent experience                    0                4   \n",
       "4   No relevent experience                    0                3   \n",
       "\n",
       "   major_discipline  experience  company_size  company_type  last_new_job  \\\n",
       "0                 5           3           300             5             1   \n",
       "1                 5          14            10             4             1   \n",
       "2                 5           6            75             3             2   \n",
       "3                 5          14            75             5             1   \n",
       "4                 5           8            75             5             2   \n",
       "\n",
       "   training_hours  target  \n",
       "0             106     0.0  \n",
       "1              69     0.0  \n",
       "2               4     0.0  \n",
       "3              26     0.0  \n",
       "4              88     1.0  "
      ]
     },
     "execution_count": 65,
     "metadata": {},
     "output_type": "execute_result"
    }
   ],
   "source": [
    "master.head()"
   ]
  },
  {
   "cell_type": "code",
   "execution_count": 66,
   "metadata": {},
   "outputs": [
    {
     "data": {
      "text/html": [
       "<div>\n",
       "<style scoped>\n",
       "    .dataframe tbody tr th:only-of-type {\n",
       "        vertical-align: middle;\n",
       "    }\n",
       "\n",
       "    .dataframe tbody tr th {\n",
       "        vertical-align: top;\n",
       "    }\n",
       "\n",
       "    .dataframe thead th {\n",
       "        text-align: right;\n",
       "    }\n",
       "</style>\n",
       "<table border=\"1\" class=\"dataframe\">\n",
       "  <thead>\n",
       "    <tr style=\"text-align: right;\">\n",
       "      <th></th>\n",
       "      <th>enrollee_id</th>\n",
       "      <th>city</th>\n",
       "      <th>city_development_index</th>\n",
       "      <th>gender</th>\n",
       "      <th>relevent_experience</th>\n",
       "      <th>enrolled_university</th>\n",
       "      <th>education_level</th>\n",
       "      <th>major_discipline</th>\n",
       "      <th>experience</th>\n",
       "      <th>company_size</th>\n",
       "      <th>company_type</th>\n",
       "      <th>last_new_job</th>\n",
       "      <th>training_hours</th>\n",
       "      <th>target</th>\n",
       "    </tr>\n",
       "  </thead>\n",
       "  <tbody>\n",
       "    <tr>\n",
       "      <th>0</th>\n",
       "      <td>23798</td>\n",
       "      <td>149</td>\n",
       "      <td>0.689</td>\n",
       "      <td>2</td>\n",
       "      <td>Has relevent experience</td>\n",
       "      <td>0</td>\n",
       "      <td>4</td>\n",
       "      <td>5</td>\n",
       "      <td>3</td>\n",
       "      <td>300</td>\n",
       "      <td>5</td>\n",
       "      <td>1</td>\n",
       "      <td>106</td>\n",
       "      <td>0.0</td>\n",
       "    </tr>\n",
       "    <tr>\n",
       "      <th>1</th>\n",
       "      <td>29166</td>\n",
       "      <td>83</td>\n",
       "      <td>0.923</td>\n",
       "      <td>2</td>\n",
       "      <td>Has relevent experience</td>\n",
       "      <td>0</td>\n",
       "      <td>4</td>\n",
       "      <td>5</td>\n",
       "      <td>14</td>\n",
       "      <td>10</td>\n",
       "      <td>4</td>\n",
       "      <td>1</td>\n",
       "      <td>69</td>\n",
       "      <td>0.0</td>\n",
       "    </tr>\n",
       "    <tr>\n",
       "      <th>2</th>\n",
       "      <td>46</td>\n",
       "      <td>16</td>\n",
       "      <td>0.910</td>\n",
       "      <td>2</td>\n",
       "      <td>Has relevent experience</td>\n",
       "      <td>0</td>\n",
       "      <td>4</td>\n",
       "      <td>5</td>\n",
       "      <td>6</td>\n",
       "      <td>75</td>\n",
       "      <td>3</td>\n",
       "      <td>2</td>\n",
       "      <td>4</td>\n",
       "      <td>0.0</td>\n",
       "    </tr>\n",
       "    <tr>\n",
       "      <th>3</th>\n",
       "      <td>18527</td>\n",
       "      <td>64</td>\n",
       "      <td>0.666</td>\n",
       "      <td>2</td>\n",
       "      <td>Has relevent experience</td>\n",
       "      <td>0</td>\n",
       "      <td>4</td>\n",
       "      <td>5</td>\n",
       "      <td>14</td>\n",
       "      <td>75</td>\n",
       "      <td>5</td>\n",
       "      <td>1</td>\n",
       "      <td>26</td>\n",
       "      <td>0.0</td>\n",
       "    </tr>\n",
       "    <tr>\n",
       "      <th>4</th>\n",
       "      <td>21751</td>\n",
       "      <td>100</td>\n",
       "      <td>0.887</td>\n",
       "      <td>2</td>\n",
       "      <td>No relevent experience</td>\n",
       "      <td>0</td>\n",
       "      <td>3</td>\n",
       "      <td>5</td>\n",
       "      <td>8</td>\n",
       "      <td>75</td>\n",
       "      <td>5</td>\n",
       "      <td>2</td>\n",
       "      <td>88</td>\n",
       "      <td>1.0</td>\n",
       "    </tr>\n",
       "  </tbody>\n",
       "</table>\n",
       "</div>"
      ],
      "text/plain": [
       "   enrollee_id  city  city_development_index  gender      relevent_experience  \\\n",
       "0        23798   149                   0.689       2  Has relevent experience   \n",
       "1        29166    83                   0.923       2  Has relevent experience   \n",
       "2           46    16                   0.910       2  Has relevent experience   \n",
       "3        18527    64                   0.666       2  Has relevent experience   \n",
       "4        21751   100                   0.887       2   No relevent experience   \n",
       "\n",
       "   enrolled_university  education_level  major_discipline  experience  \\\n",
       "0                    0                4                 5           3   \n",
       "1                    0                4                 5          14   \n",
       "2                    0                4                 5           6   \n",
       "3                    0                4                 5          14   \n",
       "4                    0                3                 5           8   \n",
       "\n",
       "   company_size  company_type  last_new_job  training_hours  target  \n",
       "0           300             5             1             106     0.0  \n",
       "1            10             4             1              69     0.0  \n",
       "2            75             3             2               4     0.0  \n",
       "3            75             5             1              26     0.0  \n",
       "4            75             5             2              88     1.0  "
      ]
     },
     "execution_count": 66,
     "metadata": {},
     "output_type": "execute_result"
    }
   ],
   "source": [
    "#REGION\n",
    "master.city=master.city.str.extract('(\\d+)')\n",
    "master.city=master.city.astype(int)\n",
    "master.head()"
   ]
  },
  {
   "cell_type": "code",
   "execution_count": 67,
   "metadata": {},
   "outputs": [
    {
     "data": {
      "text/plain": [
       "1    24698\n",
       "0     8682\n",
       "Name: relevent_experience, dtype: int64"
      ]
     },
     "execution_count": 67,
     "metadata": {},
     "output_type": "execute_result"
    },
    {
     "data": {
      "image/png": "[encoded data removed]",
      "text/plain": [
       "<Figure size 432x288 with 1 Axes>"
      ]
     },
     "metadata": {
      "needs_background": "light"
     },
     "output_type": "display_data"
    }
   ],
   "source": [
    "#RELEVTNT\n",
    "\n",
    "sns.countplot(x=\"relevent_experience\",data=master,hue=\"target\")\n",
    "gs={'Has relevent experience':1,'No relevent experience':0}\n",
    "master.relevent_experience=master.relevent_experience.map(gs)\n",
    "master.relevent_experience=master.relevent_experience.astype(int)\n",
    "master.relevent_experience.value_counts()"
   ]
  },
  {
   "cell_type": "code",
   "execution_count": 68,
   "metadata": {},
   "outputs": [
    {
     "data": {
      "text/html": [
       "<div>\n",
       "<style scoped>\n",
       "    .dataframe tbody tr th:only-of-type {\n",
       "        vertical-align: middle;\n",
       "    }\n",
       "\n",
       "    .dataframe tbody tr th {\n",
       "        vertical-align: top;\n",
       "    }\n",
       "\n",
       "    .dataframe thead th {\n",
       "        text-align: right;\n",
       "    }\n",
       "</style>\n",
       "<table border=\"1\" class=\"dataframe\">\n",
       "  <thead>\n",
       "    <tr style=\"text-align: right;\">\n",
       "      <th></th>\n",
       "      <th>enrollee_id</th>\n",
       "      <th>city</th>\n",
       "      <th>city_development_index</th>\n",
       "      <th>gender</th>\n",
       "      <th>relevent_experience</th>\n",
       "      <th>enrolled_university</th>\n",
       "      <th>education_level</th>\n",
       "      <th>major_discipline</th>\n",
       "      <th>experience</th>\n",
       "      <th>company_size</th>\n",
       "      <th>company_type</th>\n",
       "      <th>last_new_job</th>\n",
       "      <th>training_hours</th>\n",
       "      <th>target</th>\n",
       "      <th>Texp_Till</th>\n",
       "    </tr>\n",
       "  </thead>\n",
       "  <tbody>\n",
       "    <tr>\n",
       "      <th>0</th>\n",
       "      <td>23798</td>\n",
       "      <td>149</td>\n",
       "      <td>0.689</td>\n",
       "      <td>2</td>\n",
       "      <td>1</td>\n",
       "      <td>0</td>\n",
       "      <td>4</td>\n",
       "      <td>5</td>\n",
       "      <td>3</td>\n",
       "      <td>300</td>\n",
       "      <td>5</td>\n",
       "      <td>1</td>\n",
       "      <td>106</td>\n",
       "      <td>0.0</td>\n",
       "      <td>4</td>\n",
       "    </tr>\n",
       "    <tr>\n",
       "      <th>1</th>\n",
       "      <td>29166</td>\n",
       "      <td>83</td>\n",
       "      <td>0.923</td>\n",
       "      <td>2</td>\n",
       "      <td>1</td>\n",
       "      <td>0</td>\n",
       "      <td>4</td>\n",
       "      <td>5</td>\n",
       "      <td>14</td>\n",
       "      <td>10</td>\n",
       "      <td>4</td>\n",
       "      <td>1</td>\n",
       "      <td>69</td>\n",
       "      <td>0.0</td>\n",
       "      <td>15</td>\n",
       "    </tr>\n",
       "    <tr>\n",
       "      <th>2</th>\n",
       "      <td>46</td>\n",
       "      <td>16</td>\n",
       "      <td>0.910</td>\n",
       "      <td>2</td>\n",
       "      <td>1</td>\n",
       "      <td>0</td>\n",
       "      <td>4</td>\n",
       "      <td>5</td>\n",
       "      <td>6</td>\n",
       "      <td>75</td>\n",
       "      <td>3</td>\n",
       "      <td>2</td>\n",
       "      <td>4</td>\n",
       "      <td>0.0</td>\n",
       "      <td>8</td>\n",
       "    </tr>\n",
       "    <tr>\n",
       "      <th>3</th>\n",
       "      <td>18527</td>\n",
       "      <td>64</td>\n",
       "      <td>0.666</td>\n",
       "      <td>2</td>\n",
       "      <td>1</td>\n",
       "      <td>0</td>\n",
       "      <td>4</td>\n",
       "      <td>5</td>\n",
       "      <td>14</td>\n",
       "      <td>75</td>\n",
       "      <td>5</td>\n",
       "      <td>1</td>\n",
       "      <td>26</td>\n",
       "      <td>0.0</td>\n",
       "      <td>15</td>\n",
       "    </tr>\n",
       "    <tr>\n",
       "      <th>4</th>\n",
       "      <td>21751</td>\n",
       "      <td>100</td>\n",
       "      <td>0.887</td>\n",
       "      <td>2</td>\n",
       "      <td>0</td>\n",
       "      <td>0</td>\n",
       "      <td>3</td>\n",
       "      <td>5</td>\n",
       "      <td>8</td>\n",
       "      <td>75</td>\n",
       "      <td>5</td>\n",
       "      <td>2</td>\n",
       "      <td>88</td>\n",
       "      <td>1.0</td>\n",
       "      <td>10</td>\n",
       "    </tr>\n",
       "  </tbody>\n",
       "</table>\n",
       "</div>"
      ],
      "text/plain": [
       "   enrollee_id  city  city_development_index  gender  relevent_experience  \\\n",
       "0        23798   149                   0.689       2                    1   \n",
       "1        29166    83                   0.923       2                    1   \n",
       "2           46    16                   0.910       2                    1   \n",
       "3        18527    64                   0.666       2                    1   \n",
       "4        21751   100                   0.887       2                    0   \n",
       "\n",
       "   enrolled_university  education_level  major_discipline  experience  \\\n",
       "0                    0                4                 5           3   \n",
       "1                    0                4                 5          14   \n",
       "2                    0                4                 5           6   \n",
       "3                    0                4                 5          14   \n",
       "4                    0                3                 5           8   \n",
       "\n",
       "   company_size  company_type  last_new_job  training_hours  target  Texp_Till  \n",
       "0           300             5             1             106     0.0          4  \n",
       "1            10             4             1              69     0.0         15  \n",
       "2            75             3             2               4     0.0          8  \n",
       "3            75             5             1              26     0.0         15  \n",
       "4            75             5             2              88     1.0         10  "
      ]
     },
     "execution_count": 68,
     "metadata": {},
     "output_type": "execute_result"
    }
   ],
   "source": [
    "##FEATURE ENGINERING##\n",
    "master['Texp_Till']=master.experience + master.last_new_job\n",
    "master.head()"
   ]
  },
  {
   "cell_type": "code",
   "execution_count": 69,
   "metadata": {},
   "outputs": [
    {
     "data": {
      "image/png": "[encoded data removed]",
      "text/plain": [
       "<Figure size 864x648 with 2 Axes>"
      ]
     },
     "metadata": {
      "needs_background": "light"
     },
     "output_type": "display_data"
    }
   ],
   "source": [
    "\n",
    "contvars=master[['city_development_index','experience','training_hours','Texp_Till','last_new_job','city']]\n",
    "#####CORRELATION MATRIX######\n",
    "#correlation matrix\n",
    "corrmat = contvars.corr()\n",
    "f, ax = plt.subplots(figsize=(12, 9))\n",
    "sns.heatmap(corrmat, vmax=.8,annot = True,square=True);"
   ]
  },
  {
   "cell_type": "code",
   "execution_count": 70,
   "metadata": {},
   "outputs": [
    {
     "data": {
      "text/plain": [
       "((18359, 39), (18359,), (15021, 39))"
      ]
     },
     "execution_count": 70,
     "metadata": {},
     "output_type": "execute_result"
    }
   ],
   "source": [
    "\n",
    "cat=['gender','relevent_experience','enrolled_university','company_size','major_discipline','education_level','company_type']\n",
    "\n",
    "##########MODEL BUILDING###########\n",
    "\n",
    "master= pd.get_dummies(master, columns=cat)\n",
    "master.head()\n",
    "\n",
    "X = master[master['target'].isnull()!=True].drop(['enrollee_id','target'], axis=1)\n",
    "y = master[master['target'].isnull()!=True]['target']\n",
    "\n",
    "X_test = master[master['target'].isnull()==True].drop(['enrollee_id','target'], axis=1)\n",
    "\n",
    "X.shape, y.shape, X_test.shape\n",
    "\n"
   ]
  },
  {
   "cell_type": "code",
   "execution_count": 71,
   "metadata": {},
   "outputs": [],
   "source": [
    "###########SMOTE############3\n",
    "from imblearn.over_sampling import SMOTE\n",
    "\n",
    "oversample = SMOTE()\n",
    "X_smote, y_smote = oversample.fit_resample(X, y)"
   ]
  },
  {
   "cell_type": "code",
   "execution_count": 72,
   "metadata": {},
   "outputs": [],
   "source": [
    "seed=0\n",
    "import sklearn.ensemble as ensemble\n",
    "import sklearn.metrics as metrics\n",
    "\n",
    "X=X_smote\n",
    "y=y_smote\n",
    "X_trains, X_vals, y_trains, y_vals = train_test_split(X,y, test_size = 0.2, random_state =1)\n",
    "\n",
    "\n",
    "###SCALING##\n",
    "\n",
    "from sklearn.preprocessing import StandardScaler\n",
    "scaler = StandardScaler()\n",
    "X_trains = scaler.fit_transform(X_trains)\n",
    "X_vals = scaler.transform(X_vals)"
   ]
  },
  {
   "cell_type": "code",
   "execution_count": 73,
   "metadata": {},
   "outputs": [
    {
     "data": {
      "text/html": [
       "<div>\n",
       "<style scoped>\n",
       "    .dataframe tbody tr th:only-of-type {\n",
       "        vertical-align: middle;\n",
       "    }\n",
       "\n",
       "    .dataframe tbody tr th {\n",
       "        vertical-align: top;\n",
       "    }\n",
       "\n",
       "    .dataframe thead th {\n",
       "        text-align: right;\n",
       "    }\n",
       "</style>\n",
       "<table border=\"1\" class=\"dataframe\">\n",
       "  <thead>\n",
       "    <tr style=\"text-align: right;\">\n",
       "      <th></th>\n",
       "      <th>names</th>\n",
       "      <th>auc_score</th>\n",
       "      <th>training</th>\n",
       "      <th>testing</th>\n",
       "      <th>precision</th>\n",
       "      <th>recall</th>\n",
       "    </tr>\n",
       "  </thead>\n",
       "  <tbody>\n",
       "    <tr>\n",
       "      <th>0</th>\n",
       "      <td>Random Forest</td>\n",
       "      <td>0.947969</td>\n",
       "      <td>0.999176</td>\n",
       "      <td>0.911672</td>\n",
       "      <td>0.961827</td>\n",
       "      <td>0.855330</td>\n",
       "    </tr>\n",
       "    <tr>\n",
       "      <th>1</th>\n",
       "      <td>Bagging</td>\n",
       "      <td>0.942022</td>\n",
       "      <td>0.987840</td>\n",
       "      <td>0.903828</td>\n",
       "      <td>0.940952</td>\n",
       "      <td>0.859454</td>\n",
       "    </tr>\n",
       "    <tr>\n",
       "      <th>2</th>\n",
       "      <td>Logistic Regression</td>\n",
       "      <td>0.937861</td>\n",
       "      <td>0.904487</td>\n",
       "      <td>0.905083</td>\n",
       "      <td>0.999608</td>\n",
       "      <td>0.808376</td>\n",
       "    </tr>\n",
       "    <tr>\n",
       "      <th>3</th>\n",
       "      <td>bagged LR</td>\n",
       "      <td>0.937581</td>\n",
       "      <td>0.904487</td>\n",
       "      <td>0.905083</td>\n",
       "      <td>0.999608</td>\n",
       "      <td>0.808376</td>\n",
       "    </tr>\n",
       "    <tr>\n",
       "      <th>4</th>\n",
       "      <td>Ada boost</td>\n",
       "      <td>0.929647</td>\n",
       "      <td>0.892249</td>\n",
       "      <td>0.896611</td>\n",
       "      <td>0.981088</td>\n",
       "      <td>0.806472</td>\n",
       "    </tr>\n",
       "    <tr>\n",
       "      <th>5</th>\n",
       "      <td>KNN</td>\n",
       "      <td>0.926868</td>\n",
       "      <td>0.921040</td>\n",
       "      <td>0.898808</td>\n",
       "      <td>0.946562</td>\n",
       "      <td>0.842957</td>\n",
       "    </tr>\n",
       "    <tr>\n",
       "      <th>6</th>\n",
       "      <td>Naive-Bayes</td>\n",
       "      <td>0.881337</td>\n",
       "      <td>0.727151</td>\n",
       "      <td>0.730468</td>\n",
       "      <td>0.669664</td>\n",
       "      <td>0.897843</td>\n",
       "    </tr>\n",
       "    <tr>\n",
       "      <th>7</th>\n",
       "      <td>Decistion Tree</td>\n",
       "      <td>0.862445</td>\n",
       "      <td>0.999176</td>\n",
       "      <td>0.862253</td>\n",
       "      <td>0.845173</td>\n",
       "      <td>0.883249</td>\n",
       "    </tr>\n",
       "  </tbody>\n",
       "</table>\n",
       "</div>"
      ],
      "text/plain": [
       "                 names  auc_score  training   testing  precision    recall\n",
       "0        Random Forest   0.947969  0.999176  0.911672   0.961827  0.855330\n",
       "1              Bagging   0.942022  0.987840  0.903828   0.940952  0.859454\n",
       "2  Logistic Regression   0.937861  0.904487  0.905083   0.999608  0.808376\n",
       "3            bagged LR   0.937581  0.904487  0.905083   0.999608  0.808376\n",
       "4            Ada boost   0.929647  0.892249  0.896611   0.981088  0.806472\n",
       "5                  KNN   0.926868  0.921040  0.898808   0.946562  0.842957\n",
       "6          Naive-Bayes   0.881337  0.727151  0.730468   0.669664  0.897843\n",
       "7       Decistion Tree   0.862445  0.999176  0.862253   0.845173  0.883249"
      ]
     },
     "execution_count": 73,
     "metadata": {},
     "output_type": "execute_result"
    }
   ],
   "source": [
    "\n",
    "#declare the models\n",
    "lr = LogisticRegression()\n",
    "rf=RandomForestClassifier()\n",
    "adb=ensemble.AdaBoostClassifier()\n",
    "bgc=ensemble.BaggingClassifier()\n",
    "gnb = GaussianNB()\n",
    "knn=KNeighborsClassifier()\n",
    "dt = DecisionTreeClassifier()\n",
    "# ab_rf = AdaBoostClassifier(base_estimator=rf,random_state=0)\n",
    "# ab_dt = AdaBoostClassifier(base_estimator=dt,random_state=0)\n",
    "# ab_nb=  AdaBoostClassifier(base_estimator=gnb,random_state=0)\n",
    "# ab_lr=  AdaBoostClassifier(base_estimator=lr,random_state=0)\n",
    "bgcl_lr = BaggingClassifier(base_estimator=lr, random_state=0)\n",
    "\n",
    "# ,ab_rf,ab_dt,ab_nb,ab_lr,bgcl_lr\n",
    "\n",
    "models=[lr,rf,adb,bgc,gnb,knn,dt,bgcl_lr]\n",
    "sctr,scte,auc,ps,rs=[],[],[],[],[]\n",
    "def ens(X_trains,X_vals, y_trains, y_vals):\n",
    "    for model in models:\n",
    "            model.fit(X_trains, y_trains)\n",
    "            y_test_pred = model.predict(X_vals)\n",
    "            y_test_pred_new=model.predict_proba(X_vals)\n",
    "            y_test_pred_new=y_test_pred_new[:,1]\n",
    "            train_score=model.score(X_trains,y_trains)\n",
    "            test_score=model.score(X_vals,y_vals)\n",
    "            p_score=metrics.precision_score(y_vals,y_test_pred)\n",
    "            r_score=metrics.recall_score(y_vals,y_test_pred)\n",
    "            \n",
    "            ac=metrics.roc_auc_score(y_vals,y_test_pred_new)\n",
    "            \n",
    "            sctr.append(train_score)\n",
    "            scte.append(test_score)\n",
    "            ps.append(p_score)\n",
    "            rs.append(r_score)\n",
    "            auc.append(ac)\n",
    "    return sctr,scte,auc,ps,rs\n",
    "ens(X_trains,X_vals, y_trains, y_vals)\n",
    "# 'ab_rf','ab_dt','ab_nb','ab_lr','bgcl_lr'\n",
    "ensemble=pd.DataFrame({'names':['Logistic Regression','Random Forest','Ada boost','Bagging',\n",
    "                                'Naive-Bayes','KNN','Decistion Tree',\n",
    "                                'bagged LR'],\n",
    "                       'auc_score':auc,'training':sctr,'testing':scte,'precision':ps,'recall':rs})\n",
    "ensemble=ensemble.sort_values(by='auc_score',ascending=False).reset_index(drop=True)\n",
    "ensemble"
   ]
  },
  {
   "cell_type": "code",
   "execution_count": 80,
   "metadata": {},
   "outputs": [
    {
     "name": "stdout",
     "output_type": "stream",
     "text": [
      "99.92\n",
      "              precision    recall  f1-score   support\n",
      "\n",
      "         0.0       0.87      0.97      0.92      3222\n",
      "         1.0       0.96      0.86      0.91      3152\n",
      "\n",
      "    accuracy                           0.91      6374\n",
      "   macro avg       0.92      0.91      0.91      6374\n",
      "weighted avg       0.92      0.91      0.91      6374\n",
      "\n",
      "oob score: 91.35 %\n"
     ]
    }
   ],
   "source": [
    "### RANDOM FOREST###\n",
    "random_forest = RandomForestClassifier(n_estimators=1000, oob_score=True)\n",
    "random_forest.fit(X_trains, y_trains)\n",
    "Y_prediction = random_forest.predict(X_vals)\n",
    "\n",
    "random_forest.score(X_trains, y_trains)\n",
    "acc_random_forest = round(random_forest.score(X_trains, y_trains) * 100, 2)\n",
    "print(acc_random_forest)\n",
    "print(classification_report(y_vals,Y_prediction))\n",
    "print(\"oob score:\", round(random_forest.oob_score_, 4)*100, \"%\")"
   ]
  },
  {
   "cell_type": "code",
   "execution_count": 90,
   "metadata": {},
   "outputs": [],
   "source": [
    "##TUNNING###\n",
    "from sklearn.model_selection import RandomizedSearchCV\n",
    "\n",
    "from scipy.stats import randint\n",
    "\n",
    "est = RandomForestClassifier(n_jobs=-1)\n",
    "rf_p_dist={'max_depth':[3,5,10,None],\n",
    "              'n_estimators':[10,100,200,300,400,500],\n",
    "              'max_features':randint(1,3),\n",
    "               'criterion':['gini','entropy'],\n",
    "               'bootstrap':[True,False],\n",
    "               'min_samples_leaf':randint(1,4),\n",
    "              }\n",
    "def hypertuning_rscv(est, p_distr, nbr_iter,X_trains,y_trains):\n",
    "    rdmsearch = RandomizedSearchCV(est, param_distributions=p_distr,\n",
    "                                  n_jobs=-1, n_iter=nbr_iter, cv=9)\n",
    "    #CV = Cross-Validation ( here using Stratified KFold CV)\n",
    "    rdmsearch.fit(X_trains,y_trains)\n",
    "    ht_params = rdmsearch.best_params_\n",
    "    ht_score = rdmsearch.best_score_\n",
    "    return ht_params, ht_score\n",
    "\n",
    "rf_parameters, rf_ht_score = hypertuning_rscv(est, rf_p_dist, 40, X_trains, y_trains)"
   ]
  },
  {
   "cell_type": "code",
   "execution_count": 91,
   "metadata": {},
   "outputs": [
    {
     "data": {
      "text/plain": [
       "{'bootstrap': False,\n",
       " 'criterion': 'entropy',\n",
       " 'max_depth': None,\n",
       " 'max_features': 2,\n",
       " 'min_samples_leaf': 2,\n",
       " 'n_estimators': 300}"
      ]
     },
     "execution_count": 91,
     "metadata": {},
     "output_type": "execute_result"
    }
   ],
   "source": [
    "rf_parameters"
   ]
  },
  {
   "cell_type": "code",
   "execution_count": 90,
   "metadata": {},
   "outputs": [
    {
     "name": "stdout",
     "output_type": "stream",
     "text": [
      "              precision    recall  f1-score   support\n",
      "\n",
      "         0.0       0.86      0.98      0.92      3222\n",
      "         1.0       0.97      0.84      0.90      3152\n",
      "\n",
      "    accuracy                           0.91      6374\n",
      "   macro avg       0.92      0.91      0.91      6374\n",
      "weighted avg       0.92      0.91      0.91      6374\n",
      "\n",
      "93.89\n",
      "oob score: 91.07 %\n"
     ]
    }
   ],
   "source": [
    "###ANN###\n",
    "\n",
    "# MAKE RF BASE ON THAT PARAMETER####\n",
    "rf2 = RandomForestClassifier(criterion = \"entropy\", \n",
    "                                       min_samples_leaf = 2, \n",
    "                                       max_features= 2,\n",
    "                                       max_depth=None,\n",
    "                                       bootstrap=True,\n",
    "                                       n_estimators=300,oob_score=True,  \n",
    "                                       n_jobs=-1)\n",
    "\n",
    "rf2.fit(X_trains, y_trains)\n",
    "Y_prtu = rf2.predict(X_vals)\n",
    "rf2.score(X_trains, y_trains)\n",
    "from sklearn.model_selection import cross_val_predict\n",
    "predictions = cross_val_predict(rf2, X_trains, y_trains, cv=3)\n",
    "confusion_matrix(y_trains, predictions)\n",
    "print(classification_report(y_vals,Y_prtu))\n",
    "acc_rf = round(rf2.score(X_trains, y_trains) * 100, 2)\n",
    "print(acc_rf)\n",
    "print(\"oob score:\", round(rf2.oob_score_, 4)*100, \"%\")"
   ]
  },
  {
   "cell_type": "code",
   "execution_count": 100,
   "metadata": {},
   "outputs": [
    {
     "data": {
      "text/plain": [
       "(15021, 2)"
      ]
     },
     "execution_count": 100,
     "metadata": {},
     "output_type": "execute_result"
    }
   ],
   "source": [
    "##########   PREDICTIONS#####\n",
    "prediction = random_forest.predict(X_test)\n",
    "submission = pd.DataFrame()\n",
    "submission['enrollee_id'] = master[master['target'].isnull()==True]['enrollee_id']\n",
    "submission['target'] = prediction\n",
    "submission.to_csv('fis.csv', index=False, header=True)\n",
    "submission.shape\n"
   ]
  },
  {
   "cell_type": "code",
   "execution_count": 92,
   "metadata": {},
   "outputs": [
    {
     "data": {
      "text/plain": [
       "0.8987687523637433"
      ]
     },
     "execution_count": 92,
     "metadata": {},
     "output_type": "execute_result"
    }
   ],
   "source": [
    "from sklearn.metrics import f1_score,precision_score\n",
    "precision_score(y_trains, predictions)\n",
    "f1_score(y_trains, predictions)"
   ]
  },
  {
   "cell_type": "code",
   "execution_count": 93,
   "metadata": {},
   "outputs": [
    {
     "data": {
      "image/png": "[encoded data removed]",
      "text/plain": [
       "<Figure size 1008x504 with 1 Axes>"
      ]
     },
     "metadata": {
      "needs_background": "light"
     },
     "output_type": "display_data"
    }
   ],
   "source": [
    "########PRECESSION RECALL CURVE######\n",
    "\n",
    "from sklearn.metrics import precision_recall_curve\n",
    "\n",
    "# getting the probabilities of our predictions\n",
    "y_scores = random_forest.predict_proba(X_trains)\n",
    "y_scores = y_scores[:,1]\n",
    "\n",
    "precision, recall, threshold = precision_recall_curve(y_trains, y_scores)\n",
    "def plot_precision_and_recall(precision, recall, threshold):\n",
    "    plt.plot(threshold, precision[:-1], \"r-\", label=\"precision\", linewidth=5)\n",
    "    plt.plot(threshold, recall[:-1], \"b\", label=\"recall\", linewidth=5)\n",
    "    plt.xlabel(\"threshold\", fontsize=19)\n",
    "    plt.legend(loc=\"upper right\", fontsize=19)\n",
    "    plt.ylim([0, 1])\n",
    "\n",
    "plt.figure(figsize=(14, 7))\n",
    "plot_precision_and_recall(precision, recall, threshold)\n",
    "plt.show()"
   ]
  },
  {
   "cell_type": "code",
   "execution_count": 94,
   "metadata": {},
   "outputs": [
    {
     "data": {
      "image/png": "[encoded data removed]",
      "text/plain": [
       "<Figure size 1008x504 with 1 Axes>"
      ]
     },
     "metadata": {
      "needs_background": "light"
     },
     "output_type": "display_data"
    }
   ],
   "source": [
    "#######THRESHOLD ESTIMATING AS RECALL IS FALLING#####\n",
    "def plot_precision_vs_recall(precision, recall):\n",
    "    plt.plot(recall, precision, \"g--\", linewidth=2.5)\n",
    "    plt.ylabel(\"recall\", fontsize=19)\n",
    "    plt.xlabel(\"precision\", fontsize=19)\n",
    "    plt.axis([0, 1.5, 0, 1.5])\n",
    "\n",
    "plt.figure(figsize=(14, 7))\n",
    "plot_precision_vs_recall(precision, recall)\n",
    "plt.show()"
   ]
  },
  {
   "cell_type": "code",
   "execution_count": 95,
   "metadata": {},
   "outputs": [
    {
     "data": {
      "image/png": "[encoded data removed]",
      "text/plain": [
       "<Figure size 1008x504 with 1 Axes>"
      ]
     },
     "metadata": {
      "needs_background": "light"
     },
     "output_type": "display_data"
    },
    {
     "name": "stdout",
     "output_type": "stream",
     "text": [
      "ROC-AUC-Score: 0.999984367767015\n"
     ]
    }
   ],
   "source": [
    "############ROC CURVE#############3\n",
    "\n",
    "from sklearn.metrics import roc_curve\n",
    "\n",
    "# compute true positive rate and false positive rate\n",
    "false_positive_rate, true_positive_rate, thresholds = roc_curve(y_trains, y_scores)\n",
    "# plotting them against each other\n",
    "def plot_roc_curve(false_positive_rate, true_positive_rate, label=None):\n",
    "    plt.plot(false_positive_rate, true_positive_rate, linewidth=2, label=label)\n",
    "    plt.plot([0, 1], [0, 1], 'r', linewidth=4)\n",
    "    plt.axis([0, 1, 0, 1])\n",
    "    plt.xlabel('False Positive Rate (FPR)', fontsize=16)\n",
    "    plt.ylabel('True Positive Rate (TPR)', fontsize=16)\n",
    "\n",
    "plt.figure(figsize=(14, 7))\n",
    "plot_roc_curve(false_positive_rate, true_positive_rate)\n",
    "plt.show()\n",
    "\n",
    "\n",
    "##########ROC SCORE##########3\n",
    "\n",
    "from sklearn.metrics import roc_auc_score\n",
    "r_a_score = roc_auc_score(y_trains, y_scores)\n",
    "print(\"ROC-AUC-Score:\", r_a_score)"
   ]
  }
 ],
 "metadata": {
  "kernelspec": {
   "display_name": "Python 3",
   "language": "python",
   "name": "python3"
  },
  "language_info": {
   "codemirror_mode": {
    "name": "ipython",
    "version": 3
   },
   "file_extension": ".py",
   "mimetype": "text/x-python",
   "name": "python",
   "nbconvert_exporter": "python",
   "pygments_lexer": "ipython3",
   "version": "3.7.6"
  }
 },
 "nbformat": 4,
 "nbformat_minor": 4
}
