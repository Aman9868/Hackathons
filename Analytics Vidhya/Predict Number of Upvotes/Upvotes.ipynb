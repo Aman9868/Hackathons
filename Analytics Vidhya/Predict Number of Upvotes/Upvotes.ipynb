{
 "cells": [
  {
   "cell_type": "code",
   "execution_count": 1,
   "metadata": {},
   "outputs": [],
   "source": [
    "#LIBRARIES\n",
    "import numpy as np\n",
    "import pandas as pd\n",
    "import seaborn as sns\n",
    "import matplotlib.pyplot as plt\n",
    "import scipy.stats as st\n",
    "from sklearn.model_selection import train_test_split,KFold,StratifiedKFold,GridSearchCV,RandomizedSearchCV,cross_val_score\n",
    "from sklearn.ensemble import RandomForestClassifier,BaggingClassifier,AdaBoostClassifier,GradientBoostingClassifier,RandomForestRegressor,BaggingRegressor,AdaBoostRegressor,GradientBoostingRegressor\n",
    "from sklearn.linear_model import LinearRegression,LogisticRegression,Lasso, Ridge\n",
    "from sklearn.tree import DecisionTreeClassifier,DecisionTreeRegressor\n",
    "from sklearn.naive_bayes import GaussianNB\n",
    "from sklearn.neighbors import KNeighborsClassifier,KNeighborsRegressor\n",
    "import sklearn.metrics as metrics\n",
    "from sklearn.metrics import r2_score,roc_auc_score,classification_report,mean_squared_error,accuracy_score,confusion_matrix,precision_score,recall_score\n",
    "from sklearn.preprocessing import LabelEncoder\n",
    "import xgboost as xgb\n",
    "from sklearn import svm\n",
    "from sklearn.ensemble import GradientBoostingClassifier\n",
    "import warnings\n",
    "warnings.filterwarnings('ignore')"
   ]
  },
  {
   "cell_type": "code",
   "execution_count": 2,
   "metadata": {},
   "outputs": [],
   "source": [
    "#READING\n",
    "train=pd.read_csv('D:/R/upvotes prediction/train.csv')\n",
    "test=pd.read_csv('D:/R/upvotes prediction/test.csv')"
   ]
  },
  {
   "cell_type": "code",
   "execution_count": 3,
   "metadata": {},
   "outputs": [
    {
     "name": "stdout",
     "output_type": "stream",
     "text": [
      "(330045, 7) (141448, 6) (471493, 7)\n"
     ]
    },
    {
     "data": {
      "text/html": [
       "<div>\n",
       "<style scoped>\n",
       "    .dataframe tbody tr th:only-of-type {\n",
       "        vertical-align: middle;\n",
       "    }\n",
       "\n",
       "    .dataframe tbody tr th {\n",
       "        vertical-align: top;\n",
       "    }\n",
       "\n",
       "    .dataframe thead th {\n",
       "        text-align: right;\n",
       "    }\n",
       "</style>\n",
       "<table border=\"1\" class=\"dataframe\">\n",
       "  <thead>\n",
       "    <tr style=\"text-align: right;\">\n",
       "      <th></th>\n",
       "      <th>ID</th>\n",
       "      <th>Tag</th>\n",
       "      <th>Reputation</th>\n",
       "      <th>Answers</th>\n",
       "      <th>Username</th>\n",
       "      <th>Views</th>\n",
       "      <th>Upvotes</th>\n",
       "    </tr>\n",
       "  </thead>\n",
       "  <tbody>\n",
       "    <tr>\n",
       "      <th>0</th>\n",
       "      <td>52664</td>\n",
       "      <td>a</td>\n",
       "      <td>3942.0</td>\n",
       "      <td>2.0</td>\n",
       "      <td>155623</td>\n",
       "      <td>7855.0</td>\n",
       "      <td>42.0</td>\n",
       "    </tr>\n",
       "    <tr>\n",
       "      <th>1</th>\n",
       "      <td>327662</td>\n",
       "      <td>a</td>\n",
       "      <td>26046.0</td>\n",
       "      <td>12.0</td>\n",
       "      <td>21781</td>\n",
       "      <td>55801.0</td>\n",
       "      <td>1175.0</td>\n",
       "    </tr>\n",
       "    <tr>\n",
       "      <th>2</th>\n",
       "      <td>468453</td>\n",
       "      <td>c</td>\n",
       "      <td>1358.0</td>\n",
       "      <td>4.0</td>\n",
       "      <td>56177</td>\n",
       "      <td>8067.0</td>\n",
       "      <td>60.0</td>\n",
       "    </tr>\n",
       "    <tr>\n",
       "      <th>3</th>\n",
       "      <td>96996</td>\n",
       "      <td>a</td>\n",
       "      <td>264.0</td>\n",
       "      <td>3.0</td>\n",
       "      <td>168793</td>\n",
       "      <td>27064.0</td>\n",
       "      <td>9.0</td>\n",
       "    </tr>\n",
       "    <tr>\n",
       "      <th>4</th>\n",
       "      <td>131465</td>\n",
       "      <td>c</td>\n",
       "      <td>4271.0</td>\n",
       "      <td>4.0</td>\n",
       "      <td>112223</td>\n",
       "      <td>13986.0</td>\n",
       "      <td>83.0</td>\n",
       "    </tr>\n",
       "  </tbody>\n",
       "</table>\n",
       "</div>"
      ],
      "text/plain": [
       "       ID Tag  Reputation  Answers  Username    Views  Upvotes\n",
       "0   52664   a      3942.0      2.0    155623   7855.0     42.0\n",
       "1  327662   a     26046.0     12.0     21781  55801.0   1175.0\n",
       "2  468453   c      1358.0      4.0     56177   8067.0     60.0\n",
       "3   96996   a       264.0      3.0    168793  27064.0      9.0\n",
       "4  131465   c      4271.0      4.0    112223  13986.0     83.0"
      ]
     },
     "execution_count": 3,
     "metadata": {},
     "output_type": "execute_result"
    }
   ],
   "source": [
    "# BINDING\n",
    "master=pd.concat([train,test],ignore_index=True)\n",
    "print(train.shape,test.shape,master.shape)\n",
    "master.head()"
   ]
  },
  {
   "cell_type": "code",
   "execution_count": 4,
   "metadata": {},
   "outputs": [
    {
     "name": "stdout",
     "output_type": "stream",
     "text": [
      "<class 'pandas.core.frame.DataFrame'>\n",
      "RangeIndex: 471493 entries, 0 to 471492\n",
      "Data columns (total 7 columns):\n",
      " #   Column      Non-Null Count   Dtype  \n",
      "---  ------      --------------   -----  \n",
      " 0   ID          471493 non-null  int64  \n",
      " 1   Tag         471493 non-null  object \n",
      " 2   Reputation  471493 non-null  float64\n",
      " 3   Answers     471493 non-null  float64\n",
      " 4   Username    471493 non-null  int64  \n",
      " 5   Views       471493 non-null  float64\n",
      " 6   Upvotes     330045 non-null  float64\n",
      "dtypes: float64(4), int64(2), object(1)\n",
      "memory usage: 25.2+ MB\n"
     ]
    }
   ],
   "source": [
    "### Chck Dtypes\n",
    "master.info()"
   ]
  },
  {
   "cell_type": "code",
   "execution_count": 5,
   "metadata": {},
   "outputs": [
    {
     "name": "stdout",
     "output_type": "stream",
     "text": [
      "Index(['ID', 'Tag', 'Reputation', 'Answers', 'Username', 'Views', 'Upvotes'], dtype='object')\n"
     ]
    }
   ],
   "source": [
    "# Check column names\n",
    "print(master.columns)"
   ]
  },
  {
   "cell_type": "code",
   "execution_count": 6,
   "metadata": {},
   "outputs": [
    {
     "data": {
      "text/plain": [
       "ID             0.000000\n",
       "Tag            0.000000\n",
       "Reputation     0.000000\n",
       "Answers        0.000000\n",
       "Username       0.000000\n",
       "Views          0.000000\n",
       "Upvotes       30.000021\n",
       "dtype: float64"
      ]
     },
     "execution_count": 6,
     "metadata": {},
     "output_type": "execute_result"
    }
   ],
   "source": [
    "# check na\n",
    "master.isnull().sum()/len(master)*100"
   ]
  },
  {
   "cell_type": "code",
   "execution_count": 7,
   "metadata": {},
   "outputs": [
    {
     "data": {
      "text/plain": [
       "ID            471493\n",
       "Tag               10\n",
       "Reputation     17414\n",
       "Answers           65\n",
       "Username      175739\n",
       "Views          97801\n",
       "Upvotes         7240\n",
       "dtype: int64"
      ]
     },
     "execution_count": 7,
     "metadata": {},
     "output_type": "execute_result"
    }
   ],
   "source": [
    "# CHECK UNIQUE VALUES\n",
    "\n",
    "master.apply(lambda x : len(x.unique()))"
   ]
  },
  {
   "cell_type": "code",
   "execution_count": 8,
   "metadata": {},
   "outputs": [
    {
     "data": {
      "image/png": "[encoded data removed]",
      "text/plain": [
       "<Figure size 360x360 with 1 Axes>"
      ]
     },
     "metadata": {
      "needs_background": "light"
     },
     "output_type": "display_data"
    }
   ],
   "source": [
    "# Check Tag\n",
    "sns.catplot(x='Tag',kind='count',data=master)\n",
    "a={'a':0,'c':1,'r':2,'j':3,'p':4,'s':5,'h':6,'o':7,'i':8,'x':9}\n",
    "master.Tag=master.Tag.map(a)\n",
    "master.Tag=master.Tag.astype(int)"
   ]
  },
  {
   "cell_type": "code",
   "execution_count": 9,
   "metadata": {},
   "outputs": [
    {
     "data": {
      "image/png": "[encoded data removed]",
      "text/plain": [
       "<Figure size 720x1440 with 3 Axes>"
      ]
     },
     "metadata": {
      "needs_background": "light"
     },
     "output_type": "display_data"
    }
   ],
   "source": [
    "# Check Numerical Variables\n",
    "\n",
    "num=['Reputation','Answers','Views','Upvotes']\n",
    "final=master[num]\n",
    "\n",
    "#Numerical\n",
    "fig, ax=plt.subplots(3,figsize=(10,20))\n",
    "for variable,subplot in zip(num,ax.flatten()):\n",
    "    sns.distplot(final[variable], ax=subplot)\n",
    "    for label in subplot.get_xticklabels():\n",
    "        label.set_rotation(90)"
   ]
  },
  {
   "cell_type": "code",
   "execution_count": 10,
   "metadata": {},
   "outputs": [
    {
     "data": {
      "text/plain": [
       "<matplotlib.axes._subplots.AxesSubplot at 0x19fbbb33dc8>"
      ]
     },
     "execution_count": 10,
     "metadata": {},
     "output_type": "execute_result"
    },
    {
     "data": {
      "image/png": "[encoded data removed]",
      "text/plain": [
       "<Figure size 432x288 with 1 Axes>"
      ]
     },
     "metadata": {
      "needs_background": "light"
     },
     "output_type": "display_data"
    }
   ],
   "source": [
    "######skewness check####\n",
    "#CHECK TARGET VARIABLE BEFORE TRANSFORMATION\n",
    "sns.distplot(master.Upvotes)"
   ]
  },
  {
   "cell_type": "code",
   "execution_count": 11,
   "metadata": {},
   "outputs": [
    {
     "data": {
      "text/html": [
       "<div>\n",
       "<style scoped>\n",
       "    .dataframe tbody tr th:only-of-type {\n",
       "        vertical-align: middle;\n",
       "    }\n",
       "\n",
       "    .dataframe tbody tr th {\n",
       "        vertical-align: top;\n",
       "    }\n",
       "\n",
       "    .dataframe thead th {\n",
       "        text-align: right;\n",
       "    }\n",
       "</style>\n",
       "<table border=\"1\" class=\"dataframe\">\n",
       "  <thead>\n",
       "    <tr style=\"text-align: right;\">\n",
       "      <th></th>\n",
       "      <th>ID</th>\n",
       "      <th>Tag</th>\n",
       "      <th>Reputation</th>\n",
       "      <th>Answers</th>\n",
       "      <th>Views</th>\n",
       "      <th>Upvotes</th>\n",
       "    </tr>\n",
       "  </thead>\n",
       "  <tbody>\n",
       "    <tr>\n",
       "      <th>0</th>\n",
       "      <td>52664</td>\n",
       "      <td>0</td>\n",
       "      <td>3942.0</td>\n",
       "      <td>2.0</td>\n",
       "      <td>7855.0</td>\n",
       "      <td>42.0</td>\n",
       "    </tr>\n",
       "    <tr>\n",
       "      <th>1</th>\n",
       "      <td>327662</td>\n",
       "      <td>0</td>\n",
       "      <td>26046.0</td>\n",
       "      <td>12.0</td>\n",
       "      <td>55801.0</td>\n",
       "      <td>1175.0</td>\n",
       "    </tr>\n",
       "    <tr>\n",
       "      <th>2</th>\n",
       "      <td>468453</td>\n",
       "      <td>1</td>\n",
       "      <td>1358.0</td>\n",
       "      <td>4.0</td>\n",
       "      <td>8067.0</td>\n",
       "      <td>60.0</td>\n",
       "    </tr>\n",
       "    <tr>\n",
       "      <th>3</th>\n",
       "      <td>96996</td>\n",
       "      <td>0</td>\n",
       "      <td>264.0</td>\n",
       "      <td>3.0</td>\n",
       "      <td>27064.0</td>\n",
       "      <td>9.0</td>\n",
       "    </tr>\n",
       "    <tr>\n",
       "      <th>4</th>\n",
       "      <td>131465</td>\n",
       "      <td>1</td>\n",
       "      <td>4271.0</td>\n",
       "      <td>4.0</td>\n",
       "      <td>13986.0</td>\n",
       "      <td>83.0</td>\n",
       "    </tr>\n",
       "  </tbody>\n",
       "</table>\n",
       "</div>"
      ],
      "text/plain": [
       "       ID  Tag  Reputation  Answers    Views  Upvotes\n",
       "0   52664    0      3942.0      2.0   7855.0     42.0\n",
       "1  327662    0     26046.0     12.0  55801.0   1175.0\n",
       "2  468453    1      1358.0      4.0   8067.0     60.0\n",
       "3   96996    0       264.0      3.0  27064.0      9.0\n",
       "4  131465    1      4271.0      4.0  13986.0     83.0"
      ]
     },
     "execution_count": 11,
     "metadata": {},
     "output_type": "execute_result"
    }
   ],
   "source": [
    "#DROP OUT COLOUMNS\n",
    "\n",
    "master=master.drop(['Username'],axis=1)\n",
    "master.head()"
   ]
  },
  {
   "cell_type": "code",
   "execution_count": 12,
   "metadata": {},
   "outputs": [
    {
     "data": {
      "image/png": "[encoded data removed]",
      "text/plain": [
       "<Figure size 1440x1440 with 3 Axes>"
      ]
     },
     "metadata": {
      "needs_background": "light"
     },
     "output_type": "display_data"
    }
   ],
   "source": [
    "num={'Answers','Reputation','Views'}\n",
    "\n",
    "fig, ax=plt.subplots(3,figsize=(20,20))\n",
    "for variable,subplot in zip(num,ax.flatten()):\n",
    "    sns.boxplot(final[variable], ax=subplot)\n",
    "    for label in subplot.get_xticklabels():\n",
    "        label.set_rotation(90)"
   ]
  },
  {
   "cell_type": "code",
   "execution_count": 13,
   "metadata": {},
   "outputs": [],
   "source": [
    "#FEATURE ENGINEERIN#\n",
    "master['Watched']=master.Answers * master.Views"
   ]
  },
  {
   "cell_type": "code",
   "execution_count": 14,
   "metadata": {},
   "outputs": [
    {
     "name": "stdout",
     "output_type": "stream",
     "text": [
      "<class 'pandas.core.frame.DataFrame'>\n",
      "RangeIndex: 471493 entries, 0 to 471492\n",
      "Data columns (total 7 columns):\n",
      " #   Column      Non-Null Count   Dtype  \n",
      "---  ------      --------------   -----  \n",
      " 0   ID          471493 non-null  int64  \n",
      " 1   Tag         471493 non-null  int32  \n",
      " 2   Reputation  471493 non-null  float64\n",
      " 3   Answers     471493 non-null  float64\n",
      " 4   Views       471493 non-null  float64\n",
      " 5   Upvotes     330045 non-null  float64\n",
      " 6   Watched     471493 non-null  float64\n",
      "dtypes: float64(5), int32(1), int64(1)\n",
      "memory usage: 23.4 MB\n"
     ]
    },
    {
     "data": {
      "image/png": "[encoded data removed]",
      "text/plain": [
       "<Figure size 864x648 with 2 Axes>"
      ]
     },
     "metadata": {
      "needs_background": "light"
     },
     "output_type": "display_data"
    }
   ],
   "source": [
    "master.info()\n",
    "contvars=master[['Answers','Reputation','Views','Upvotes','Watched']]\n",
    "#####CORRELATION MATRIX######\n",
    "#correlation matrix\n",
    "corrmat = contvars.corr()\n",
    "f, ax = plt.subplots(figsize=(12, 9))\n",
    "sns.heatmap(corrmat, vmax=.8,annot = True,square=True);"
   ]
  },
  {
   "cell_type": "code",
   "execution_count": 15,
   "metadata": {},
   "outputs": [
    {
     "name": "stdout",
     "output_type": "stream",
     "text": [
      "\n",
      "Skew in numerical master: \n",
      "\n"
     ]
    },
    {
     "data": {
      "text/html": [
       "<div>\n",
       "<style scoped>\n",
       "    .dataframe tbody tr th:only-of-type {\n",
       "        vertical-align: middle;\n",
       "    }\n",
       "\n",
       "    .dataframe tbody tr th {\n",
       "        vertical-align: top;\n",
       "    }\n",
       "\n",
       "    .dataframe thead th {\n",
       "        text-align: right;\n",
       "    }\n",
       "</style>\n",
       "<table border=\"1\" class=\"dataframe\">\n",
       "  <thead>\n",
       "    <tr style=\"text-align: right;\">\n",
       "      <th></th>\n",
       "      <th>Skew</th>\n",
       "    </tr>\n",
       "  </thead>\n",
       "  <tbody>\n",
       "    <tr>\n",
       "      <th>Upvotes</th>\n",
       "      <td>74.249352</td>\n",
       "    </tr>\n",
       "    <tr>\n",
       "      <th>Watched</th>\n",
       "      <td>58.097271</td>\n",
       "    </tr>\n",
       "    <tr>\n",
       "      <th>Views</th>\n",
       "      <td>14.123456</td>\n",
       "    </tr>\n",
       "    <tr>\n",
       "      <th>Reputation</th>\n",
       "      <td>11.261825</td>\n",
       "    </tr>\n",
       "    <tr>\n",
       "      <th>Answers</th>\n",
       "      <td>3.385518</td>\n",
       "    </tr>\n",
       "  </tbody>\n",
       "</table>\n",
       "</div>"
      ],
      "text/plain": [
       "                 Skew\n",
       "Upvotes     74.249352\n",
       "Watched     58.097271\n",
       "Views       14.123456\n",
       "Reputation  11.261825\n",
       "Answers      3.385518"
      ]
     },
     "execution_count": 15,
     "metadata": {},
     "output_type": "execute_result"
    }
   ],
   "source": [
    "######SKEWNESS#####\n",
    "from scipy import stats\n",
    "from scipy.stats import norm, skew\n",
    "numeric_feats = {'Answers','Reputation','Views','Upvotes','Watched'}\n",
    "#Check the skew of all numerical master\n",
    "skewed_feats = master[numeric_feats].apply(lambda x: skew(x.dropna())).sort_values(ascending=False)\n",
    "print(\"\\nSkew in numerical master: \\n\")\n",
    "skewness = pd.DataFrame({'Skew' :skewed_feats})\n",
    "skewness.head(50)"
   ]
  },
  {
   "cell_type": "code",
   "execution_count": 16,
   "metadata": {},
   "outputs": [
    {
     "name": "stdout",
     "output_type": "stream",
     "text": [
      "There are 5 skewed numerical features to Box Cox transform\n"
     ]
    }
   ],
   "source": [
    "skewness = skewness[abs(skewness) > 0.75]\n",
    "print(\"There are {} skewed numerical features to Box Cox transform\".format(skewness.shape[0]))\n",
    "\n",
    "from scipy.special import boxcox1p\n",
    "skewed_features = skewness.index\n",
    "lam = 0.15\n",
    "for i in skewed_features:\n",
    "    #master[feat] += 1\n",
    "    master[i] = boxcox1p(master[i], lam)"
   ]
  },
  {
   "cell_type": "code",
   "execution_count": 17,
   "metadata": {},
   "outputs": [
    {
     "data": {
      "text/plain": [
       "((330045, 14), (330045,), (141448, 14))"
      ]
     },
     "execution_count": 17,
     "metadata": {},
     "output_type": "execute_result"
    }
   ],
   "source": [
    "##########MODEL BUILDING###########\n",
    "\n",
    "master= pd.get_dummies(master, columns=['Tag'])\n",
    "master.head()\n",
    "\n",
    "X = master[master['Upvotes'].isnull()!=True].drop(['ID','Upvotes'], axis=1)\n",
    "y = master[master['Upvotes'].isnull()!=True]['Upvotes']\n",
    "\n",
    "X_test = master[master['Upvotes'].isnull()==True].drop(['ID','Upvotes'], axis=1)\n",
    "\n",
    "X.shape, y.shape, X_test.shape\n",
    "\n"
   ]
  },
  {
   "cell_type": "code",
   "execution_count": 18,
   "metadata": {},
   "outputs": [],
   "source": [
    "########SPLITTING#####\n",
    "x_train, x_val, y_train, y_val = train_test_split(X, y, test_size=0.2)\n"
   ]
  },
  {
   "cell_type": "code",
   "execution_count": 19,
   "metadata": {},
   "outputs": [],
   "source": [
    "###SCALING##\n",
    "\n",
    "from sklearn.preprocessing import StandardScaler\n",
    "scaler = StandardScaler()\n",
    "x_train = scaler.fit_transform(x_train)\n",
    "x_val = scaler.transform(x_val)\n"
   ]
  },
  {
   "cell_type": "code",
   "execution_count": 20,
   "metadata": {},
   "outputs": [
    {
     "data": {
      "text/html": [
       "<div>\n",
       "<style scoped>\n",
       "    .dataframe tbody tr th:only-of-type {\n",
       "        vertical-align: middle;\n",
       "    }\n",
       "\n",
       "    .dataframe tbody tr th {\n",
       "        vertical-align: top;\n",
       "    }\n",
       "\n",
       "    .dataframe thead th {\n",
       "        text-align: right;\n",
       "    }\n",
       "</style>\n",
       "<table border=\"1\" class=\"dataframe\">\n",
       "  <thead>\n",
       "    <tr style=\"text-align: right;\">\n",
       "      <th></th>\n",
       "      <th>ALPHA</th>\n",
       "      <th>R2SCORE</th>\n",
       "    </tr>\n",
       "  </thead>\n",
       "  <tbody>\n",
       "    <tr>\n",
       "      <th>0</th>\n",
       "      <td>0.0018</td>\n",
       "      <td>0.779171</td>\n",
       "    </tr>\n",
       "    <tr>\n",
       "      <th>1</th>\n",
       "      <td>0.0020</td>\n",
       "      <td>0.779124</td>\n",
       "    </tr>\n",
       "    <tr>\n",
       "      <th>2</th>\n",
       "      <td>0.0050</td>\n",
       "      <td>0.778356</td>\n",
       "    </tr>\n",
       "    <tr>\n",
       "      <th>3</th>\n",
       "      <td>0.0800</td>\n",
       "      <td>0.772560</td>\n",
       "    </tr>\n",
       "    <tr>\n",
       "      <th>4</th>\n",
       "      <td>0.0900</td>\n",
       "      <td>0.771885</td>\n",
       "    </tr>\n",
       "    <tr>\n",
       "      <th>5</th>\n",
       "      <td>0.1000</td>\n",
       "      <td>0.771170</td>\n",
       "    </tr>\n",
       "    <tr>\n",
       "      <th>6</th>\n",
       "      <td>0.5000</td>\n",
       "      <td>0.725573</td>\n",
       "    </tr>\n",
       "  </tbody>\n",
       "</table>\n",
       "</div>"
      ],
      "text/plain": [
       "    ALPHA   R2SCORE\n",
       "0  0.0018  0.779171\n",
       "1  0.0020  0.779124\n",
       "2  0.0050  0.778356\n",
       "3  0.0800  0.772560\n",
       "4  0.0900  0.771885\n",
       "5  0.1000  0.771170\n",
       "6  0.5000  0.725573"
      ]
     },
     "execution_count": 20,
     "metadata": {},
     "output_type": "execute_result"
    }
   ],
   "source": [
    "##########RIDGE REGRESSION##########\n",
    "\n",
    "list1=[0.0018,0.002,0.005,0.08,0.09,0.1,0.5]\n",
    "list2=[]\n",
    "for i in list1:\n",
    "    ridge_reg = Ridge(alpha=i,normalize=True)\n",
    "    ridge_reg.fit(x_train,y_train)\n",
    "    y_pred_r=ridge_reg.predict(x_val)\n",
    "    r2score_r= r2_score(y_val,y_pred_r)\n",
    "    list2.append(r2score_r)\n",
    "\n",
    "ridge_rscore_df=pd.DataFrame({\"ALPHA\":list1,\"R2SCORE\":list2})\n",
    "ridge_rscore_df "
   ]
  },
  {
   "cell_type": "code",
   "execution_count": null,
   "metadata": {},
   "outputs": [],
   "source": [
    "#SVM\n",
    "from sklearn.datasets import make_blobs\n",
    "from sklearn.model_selection import RepeatedStratifiedKFold\n",
    "from sklearn.svm import SVR\n",
    "param_grid = {'C': [0.1, 1, 10, 100, 1000],  \n",
    "              'gamma': [1, 0.1, 0.01, 0.001, 0.0001], \n",
    "              'kernel': ['rbf','poly','linear']}  \n",
    "  \n",
    "sv = SVR()\n",
    "grid_search = GridSearchCV(estimator=sv,param_grid=param_grid,\n",
    "                           scoring = 'neg_mean_squared_error',\n",
    "                           cv = 10,\n",
    "                           n_jobs = -1)\n",
    "grid_result=grid_search.fit(x_train, y_train)\n",
    "# summarize results\n",
    "print(\"Best: %f using %s\" % (grid_result.best_score_, grid_result.best_params_))\n",
    "means = grid_result.cv_results_['mean_test_score']\n",
    "stds = grid_result.cv_results_['std_test_score']\n",
    "params = grid_result.cv_results_['params']\n",
    "for mean, stdev, param in zip(means, stds, params):\n",
    "    print(\"%f (%f) with: %r\" % (mean, stdev, param))\n",
    " "
   ]
  },
  {
   "cell_type": "code",
   "execution_count": 21,
   "metadata": {},
   "outputs": [
    {
     "name": "stdout",
     "output_type": "stream",
     "text": [
      "R2 sq:  0.7785361925135675\n",
      "Acc:  77.85\n"
     ]
    }
   ],
   "source": [
    "#####LINEAR REGRESSION###\n",
    "logmodel = LinearRegression()\n",
    "logmodel.fit(x_train,y_train)\n",
    "predictions = logmodel.predict(x_val)\n",
    "\n",
    "model_score = logmodel.score(x_train,y_train)\n",
    "# Have a look at R sq to give an idea of the fit ,\n",
    "# Explained variance score: 1 is perfect prediction\n",
    "print('R2 sq: ',model_score)\n",
    "# Accuracy Score\n",
    "acc_log = round(logmodel.score(x_train, y_train) * 100, 2)\n",
    "print('Acc: ',acc_log)"
   ]
  },
  {
   "cell_type": "code",
   "execution_count": 22,
   "metadata": {},
   "outputs": [
    {
     "name": "stdout",
     "output_type": "stream",
     "text": [
      "R2 sq:  0.8899843039878012\n",
      "Mean squared error: 1.42\n",
      "Test Variance score: 0.89\n",
      "Acc:  89.0\n"
     ]
    }
   ],
   "source": [
    "### GBM###\n",
    "from sklearn import ensemble\n",
    "# Fit regression model\n",
    "params = {'n_estimators': 500, 'max_depth': 4, 'min_samples_split': 2,\n",
    "          'learning_rate': 0.01, 'loss': 'ls'}\n",
    "model = ensemble.GradientBoostingRegressor(**params)\n",
    "\n",
    "model.fit(x_train, y_train)\n",
    "\n",
    "\n",
    "from sklearn.metrics import mean_squared_error, r2_score\n",
    "model_score = model.score(x_train,y_train)\n",
    "\n",
    "# Have a look at R sq to give an idea of the fit ,\n",
    "# Explained variance score: 1 is perfect prediction\n",
    "print('R2 sq: ',model_score)\n",
    "y_predicted = model.predict(x_val)\n",
    "\n",
    "# The mean squared error\n",
    "print(\"Mean squared error: %.2f\"% mean_squared_error(y_val, y_predicted))\n",
    "# Explained variance score: 1 is perfect prediction\n",
    "print('Test Variance score: %.2f' % r2_score(y_val, y_predicted))\n",
    "# Accuracy Score\n",
    "acc_log = round(model.score(x_train, y_train) * 100, 2)\n",
    "print('Acc: ',acc_log)"
   ]
  },
  {
   "cell_type": "code",
   "execution_count": 23,
   "metadata": {},
   "outputs": [
    {
     "data": {
      "image/png": "[encoded data removed]",
      "text/plain": [
       "<Figure size 432x288 with 1 Axes>"
      ]
     },
     "metadata": {
      "needs_background": "light"
     },
     "output_type": "display_data"
    }
   ],
   "source": [
    "fig, ax = plt.subplots()\n",
    "ax.scatter(y_val, y_predicted, edgecolors=(0, 0, 0))\n",
    "ax.plot([y_val.min(), y_val.max()], [y_val.min(), y_val.max()], 'k--', lw=4)\n",
    "ax.set_xlabel('Actual')\n",
    "ax.set_ylabel('Predicted')\n",
    "ax.set_title(\"Ground Truth vs Predicted\")\n",
    "plt.show()"
   ]
  },
  {
   "cell_type": "code",
   "execution_count": null,
   "metadata": {},
   "outputs": [
    {
     "name": "stdout",
     "output_type": "stream",
     "text": [
      "Fitting 3 folds for each of 100 candidates, totalling 300 fits\n"
     ]
    },
    {
     "name": "stderr",
     "output_type": "stream",
     "text": [
      "[Parallel(n_jobs=-1)]: Using backend LokyBackend with 8 concurrent workers.\n"
     ]
    }
   ],
   "source": [
    "gbmr = GradientBoostingRegressor()\n",
    "gb_grid = {\n",
    "    'n_estimators'     : range(100,1000,100),\n",
    "    'max_depth'        : [5,10,15,20,25,35,None],\n",
    "    'loss'             :['ls','lad','huber','quantile'],\n",
    "    'subsample'        : [0.8, 0.9, 1.0],\n",
    "    'min_samples_leaf' : [1,2,5,10],\n",
    "    'min_samples_split': [2,5,10,15,100],\n",
    "    'learning_rate'    : [0.1,0.03,0.4,0.5,0.7]\n",
    "\n",
    "}\n",
    "\n",
    "search = RandomizedSearchCV(gbmr,gb_grid,scoring='neg_mean_squared_error',cv=3, verbose=2, n_jobs=-1, n_iter = 100)\n",
    "search.fit(x_train,y_train)\n",
    "print(search.best_params_)\n"
   ]
  },
  {
   "cell_type": "code",
   "execution_count": null,
   "metadata": {},
   "outputs": [],
   "source": []
  },
  {
   "cell_type": "code",
   "execution_count": 103,
   "metadata": {},
   "outputs": [
    {
     "data": {
      "text/plain": [
       "(141448, 2)"
      ]
     },
     "execution_count": 103,
     "metadata": {},
     "output_type": "execute_result"
    }
   ],
   "source": [
    "prediction = model.predict(X_test)\n",
    "submission = pd.DataFrame()\n",
    "submission['ID'] = master[master['Upvotes'].isnull()==True]['ID']\n",
    "submission['Upvotes'] = prediction\n",
    "submission.to_csv('upvs.csv', index=False, header=True)\n",
    "submission.shape"
   ]
  }
 ],
 "metadata": {
  "kernelspec": {
   "display_name": "Python 3",
   "language": "python",
   "name": "python3"
  },
  "language_info": {
   "codemirror_mode": {
    "name": "ipython",
    "version": 3
   },
   "file_extension": ".py",
   "mimetype": "text/x-python",
   "name": "python",
   "nbconvert_exporter": "python",
   "pygments_lexer": "ipython3",
   "version": "3.7.6"
  }
 },
 "nbformat": 4,
 "nbformat_minor": 4
}
