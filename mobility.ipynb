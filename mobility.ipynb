{
 "cells": [
  {
   "cell_type": "code",
   "execution_count": 1,
   "metadata": {},
   "outputs": [],
   "source": [
    "#LIBRARIES\n",
    "import numpy as np\n",
    "import pandas as pd\n",
    "import seaborn as sns\n",
    "import matplotlib.pyplot as plt\n",
    "import scipy.stats as st\n",
    "from sklearn.model_selection import train_test_split,KFold,StratifiedKFold,GridSearchCV,RandomizedSearchCV,cross_val_score\n",
    "from sklearn.ensemble import RandomForestClassifier,BaggingClassifier,AdaBoostClassifier,GradientBoostingClassifier,RandomForestRegressor,BaggingRegressor,AdaBoostRegressor,GradientBoostingRegressor\n",
    "from sklearn.linear_model import LinearRegression,LogisticRegression,Lasso, Ridge\n",
    "from sklearn.tree import DecisionTreeClassifier,DecisionTreeRegressor\n",
    "from sklearn.naive_bayes import GaussianNB\n",
    "from sklearn.neighbors import KNeighborsClassifier,KNeighborsRegressor\n",
    "import sklearn.metrics as metrics\n",
    "from sklearn.metrics import r2_score,roc_auc_score,classification_report,mean_squared_error,accuracy_score,confusion_matrix\n",
    "from sklearn.preprocessing import LabelEncoder\n",
    "le=LabelEncoder()\n",
    "import warnings\n",
    "warnings.filterwarnings('ignore')"
   ]
  },
  {
   "cell_type": "code",
   "execution_count": 2,
   "metadata": {},
   "outputs": [],
   "source": [
    "#READING\n",
    "train=pd.read_csv('D:/R/Mobility Analytics/train.csv')\n",
    "test=pd.read_csv('D:/R/Mobility Analytics/test.csv')"
   ]
  },
  {
   "cell_type": "code",
   "execution_count": 3,
   "metadata": {},
   "outputs": [
    {
     "name": "stdout",
     "output_type": "stream",
     "text": [
      "(131662, 14) (87395, 13) (219057, 14)\n"
     ]
    },
    {
     "data": {
      "text/html": [
       "<div>\n",
       "<style scoped>\n",
       "    .dataframe tbody tr th:only-of-type {\n",
       "        vertical-align: middle;\n",
       "    }\n",
       "\n",
       "    .dataframe tbody tr th {\n",
       "        vertical-align: top;\n",
       "    }\n",
       "\n",
       "    .dataframe thead th {\n",
       "        text-align: right;\n",
       "    }\n",
       "</style>\n",
       "<table border=\"1\" class=\"dataframe\">\n",
       "  <thead>\n",
       "    <tr style=\"text-align: right;\">\n",
       "      <th></th>\n",
       "      <th>Trip_ID</th>\n",
       "      <th>Trip_Distance</th>\n",
       "      <th>Type_of_Cab</th>\n",
       "      <th>Customer_Since_Months</th>\n",
       "      <th>Life_Style_Index</th>\n",
       "      <th>Confidence_Life_Style_Index</th>\n",
       "      <th>Destination_Type</th>\n",
       "      <th>Customer_Rating</th>\n",
       "      <th>Cancellation_Last_1Month</th>\n",
       "      <th>Var1</th>\n",
       "      <th>Var2</th>\n",
       "      <th>Var3</th>\n",
       "      <th>Gender</th>\n",
       "      <th>Surge_Pricing_Type</th>\n",
       "    </tr>\n",
       "  </thead>\n",
       "  <tbody>\n",
       "    <tr>\n",
       "      <th>0</th>\n",
       "      <td>T0005689460</td>\n",
       "      <td>6.77</td>\n",
       "      <td>B</td>\n",
       "      <td>1.0</td>\n",
       "      <td>2.42769</td>\n",
       "      <td>A</td>\n",
       "      <td>A</td>\n",
       "      <td>3.90500</td>\n",
       "      <td>0</td>\n",
       "      <td>40.0</td>\n",
       "      <td>46</td>\n",
       "      <td>60</td>\n",
       "      <td>Female</td>\n",
       "      <td>2.0</td>\n",
       "    </tr>\n",
       "    <tr>\n",
       "      <th>1</th>\n",
       "      <td>T0005689461</td>\n",
       "      <td>29.47</td>\n",
       "      <td>B</td>\n",
       "      <td>10.0</td>\n",
       "      <td>2.78245</td>\n",
       "      <td>B</td>\n",
       "      <td>A</td>\n",
       "      <td>3.45000</td>\n",
       "      <td>0</td>\n",
       "      <td>38.0</td>\n",
       "      <td>56</td>\n",
       "      <td>78</td>\n",
       "      <td>Male</td>\n",
       "      <td>2.0</td>\n",
       "    </tr>\n",
       "    <tr>\n",
       "      <th>2</th>\n",
       "      <td>T0005689464</td>\n",
       "      <td>41.58</td>\n",
       "      <td>NaN</td>\n",
       "      <td>10.0</td>\n",
       "      <td>NaN</td>\n",
       "      <td>NaN</td>\n",
       "      <td>E</td>\n",
       "      <td>3.50125</td>\n",
       "      <td>2</td>\n",
       "      <td>NaN</td>\n",
       "      <td>56</td>\n",
       "      <td>77</td>\n",
       "      <td>Male</td>\n",
       "      <td>2.0</td>\n",
       "    </tr>\n",
       "    <tr>\n",
       "      <th>3</th>\n",
       "      <td>T0005689465</td>\n",
       "      <td>61.56</td>\n",
       "      <td>C</td>\n",
       "      <td>10.0</td>\n",
       "      <td>NaN</td>\n",
       "      <td>NaN</td>\n",
       "      <td>A</td>\n",
       "      <td>3.45375</td>\n",
       "      <td>0</td>\n",
       "      <td>NaN</td>\n",
       "      <td>52</td>\n",
       "      <td>74</td>\n",
       "      <td>Male</td>\n",
       "      <td>3.0</td>\n",
       "    </tr>\n",
       "    <tr>\n",
       "      <th>4</th>\n",
       "      <td>T0005689467</td>\n",
       "      <td>54.95</td>\n",
       "      <td>C</td>\n",
       "      <td>10.0</td>\n",
       "      <td>3.03453</td>\n",
       "      <td>B</td>\n",
       "      <td>A</td>\n",
       "      <td>3.40250</td>\n",
       "      <td>4</td>\n",
       "      <td>51.0</td>\n",
       "      <td>49</td>\n",
       "      <td>102</td>\n",
       "      <td>Male</td>\n",
       "      <td>2.0</td>\n",
       "    </tr>\n",
       "  </tbody>\n",
       "</table>\n",
       "</div>"
      ],
      "text/plain": [
       "       Trip_ID  Trip_Distance Type_of_Cab  Customer_Since_Months  \\\n",
       "0  T0005689460           6.77           B                    1.0   \n",
       "1  T0005689461          29.47           B                   10.0   \n",
       "2  T0005689464          41.58         NaN                   10.0   \n",
       "3  T0005689465          61.56           C                   10.0   \n",
       "4  T0005689467          54.95           C                   10.0   \n",
       "\n",
       "   Life_Style_Index Confidence_Life_Style_Index Destination_Type  \\\n",
       "0           2.42769                           A                A   \n",
       "1           2.78245                           B                A   \n",
       "2               NaN                         NaN                E   \n",
       "3               NaN                         NaN                A   \n",
       "4           3.03453                           B                A   \n",
       "\n",
       "   Customer_Rating  Cancellation_Last_1Month  Var1  Var2  Var3  Gender  \\\n",
       "0          3.90500                         0  40.0    46    60  Female   \n",
       "1          3.45000                         0  38.0    56    78    Male   \n",
       "2          3.50125                         2   NaN    56    77    Male   \n",
       "3          3.45375                         0   NaN    52    74    Male   \n",
       "4          3.40250                         4  51.0    49   102    Male   \n",
       "\n",
       "   Surge_Pricing_Type  \n",
       "0                 2.0  \n",
       "1                 2.0  \n",
       "2                 2.0  \n",
       "3                 3.0  \n",
       "4                 2.0  "
      ]
     },
     "execution_count": 3,
     "metadata": {},
     "output_type": "execute_result"
    }
   ],
   "source": [
    "#Combine test and train into one file\n",
    "master= pd.concat([train, test],ignore_index=True)\n",
    "print(train.shape, test.shape, master.shape)\n",
    "master.head()"
   ]
  },
  {
   "cell_type": "code",
   "execution_count": 4,
   "metadata": {},
   "outputs": [
    {
     "name": "stdout",
     "output_type": "stream",
     "text": [
      "<class 'pandas.core.frame.DataFrame'>\n",
      "RangeIndex: 219057 entries, 0 to 219056\n",
      "Data columns (total 14 columns):\n",
      " #   Column                       Non-Null Count   Dtype  \n",
      "---  ------                       --------------   -----  \n",
      " 0   Trip_ID                      219057 non-null  object \n",
      " 1   Trip_Distance                219057 non-null  float64\n",
      " 2   Type_of_Cab                  185689 non-null  object \n",
      " 3   Customer_Since_Months        209171 non-null  float64\n",
      " 4   Life_Style_Index             185537 non-null  float64\n",
      " 5   Confidence_Life_Style_Index  185537 non-null  object \n",
      " 6   Destination_Type             219057 non-null  object \n",
      " 7   Customer_Rating              219057 non-null  float64\n",
      " 8   Cancellation_Last_1Month     219057 non-null  int64  \n",
      " 9   Var1                         101238 non-null  float64\n",
      " 10  Var2                         219057 non-null  int64  \n",
      " 11  Var3                         219057 non-null  int64  \n",
      " 12  Gender                       219057 non-null  object \n",
      " 13  Surge_Pricing_Type           131662 non-null  float64\n",
      "dtypes: float64(6), int64(3), object(5)\n",
      "memory usage: 23.4+ MB\n"
     ]
    }
   ],
   "source": [
    "# DATA TYPES\n",
    "master.info()"
   ]
  },
  {
   "cell_type": "code",
   "execution_count": 5,
   "metadata": {},
   "outputs": [
    {
     "name": "stdout",
     "output_type": "stream",
     "text": [
      "Index(['Trip_ID', 'Trip_Distance', 'Type_of_Cab', 'Customer_Since_Months',\n",
      "       'Life_Style_Index', 'Confidence_Life_Style_Index', 'Destination_Type',\n",
      "       'Customer_Rating', 'Cancellation_Last_1Month', 'Var1', 'Var2', 'Var3',\n",
      "       'Gender', 'Surge_Pricing_Type'],\n",
      "      dtype='object')\n"
     ]
    }
   ],
   "source": [
    "# Check column names\n",
    "print(master.columns)"
   ]
  },
  {
   "cell_type": "code",
   "execution_count": 6,
   "metadata": {},
   "outputs": [
    {
     "data": {
      "text/plain": [
       "Trip_ID                         0.000000\n",
       "Trip_Distance                   0.000000\n",
       "Type_of_Cab                    15.232565\n",
       "Customer_Since_Months           4.512981\n",
       "Life_Style_Index               15.301953\n",
       "Confidence_Life_Style_Index    15.301953\n",
       "Destination_Type                0.000000\n",
       "Customer_Rating                 0.000000\n",
       "Cancellation_Last_1Month        0.000000\n",
       "Var1                           53.784631\n",
       "Var2                            0.000000\n",
       "Var3                            0.000000\n",
       "Gender                          0.000000\n",
       "Surge_Pricing_Type             39.896009\n",
       "dtype: float64"
      ]
     },
     "execution_count": 6,
     "metadata": {},
     "output_type": "execute_result"
    }
   ],
   "source": [
    "# check na\n",
    "master.isnull().sum()/len(master)*100"
   ]
  },
  {
   "cell_type": "code",
   "execution_count": 7,
   "metadata": {},
   "outputs": [
    {
     "data": {
      "text/plain": [
       "Trip_ID                        219057\n",
       "Trip_Distance                   10594\n",
       "Type_of_Cab                         6\n",
       "Customer_Since_Months              12\n",
       "Life_Style_Index                69678\n",
       "Confidence_Life_Style_Index         4\n",
       "Destination_Type                   14\n",
       "Customer_Rating                  3976\n",
       "Cancellation_Last_1Month            9\n",
       "Var1                              131\n",
       "Var2                               61\n",
       "Var3                              102\n",
       "Gender                              2\n",
       "Surge_Pricing_Type                  4\n",
       "dtype: int64"
      ]
     },
     "execution_count": 7,
     "metadata": {},
     "output_type": "execute_result"
    }
   ],
   "source": [
    "# CHECK UNIQUE VALUES\n",
    "\n",
    "master.apply(lambda x : len(x.unique()))"
   ]
  },
  {
   "cell_type": "code",
   "execution_count": 8,
   "metadata": {},
   "outputs": [],
   "source": [
    "# VISUALISING CATEGORICAL\n",
    "categorical_columns=['Type_of_Cab','Confidence_Life_Style_Index','Destination_Type','Cancellation_Last_1Month','Gender']\n",
    "numerical=['Customer_Rating','Trip_Distance','Life_Style_Index','Var1','Var2','Var3']\n",
    "final=master[categorical_columns+numerical]\n"
   ]
  },
  {
   "cell_type": "code",
   "execution_count": 9,
   "metadata": {},
   "outputs": [
    {
     "data": {
      "image/png": "[encoded data removed]",
      "text/plain": [
       "<Figure size 720x1440 with 6 Axes>"
      ]
     },
     "metadata": {
      "needs_background": "light"
     },
     "output_type": "display_data"
    }
   ],
   "source": [
    "#VISUALISING NUMERICAL\n",
    "fig, ax=plt.subplots(3,2,figsize=(10,20))\n",
    "for variable,subplot in zip(numerical,ax.flatten()):\n",
    "    sns.distplot(final[variable], ax=subplot)\n",
    "    for label in subplot.get_xticklabels():\n",
    "        label.set_rotation(90)"
   ]
  },
  {
   "cell_type": "code",
   "execution_count": 10,
   "metadata": {},
   "outputs": [
    {
     "data": {
      "image/png": "[encoded data removed]",
      "text/plain": [
       "<Figure size 720x1440 with 6 Axes>"
      ]
     },
     "metadata": {
      "needs_background": "light"
     },
     "output_type": "display_data"
    }
   ],
   "source": [
    "#CATEGORICAL\n",
    "fig, ax=plt.subplots(6,figsize=(10,20))\n",
    "for variable,subplot in zip(categorical_columns,ax.flatten()):\n",
    "    sns.countplot(final[variable], ax=subplot)\n",
    "    for label in subplot.get_xticklabels():\n",
    "        label.set_rotation(90)"
   ]
  },
  {
   "cell_type": "code",
   "execution_count": 11,
   "metadata": {},
   "outputs": [
    {
     "data": {
      "image/png": "[encoded data removed]",
      "text/plain": [
       "<Figure size 1440x1440 with 6 Axes>"
      ]
     },
     "metadata": {
      "needs_background": "light"
     },
     "output_type": "display_data"
    }
   ],
   "source": [
    "# VISUALISING BOXPLOT\n",
    "fig, ax=plt.subplots(3,2,figsize=(20,20))\n",
    "for variable,subplot in zip(numerical,ax.flatten()):\n",
    "    sns.boxplot(final[variable], ax=subplot)\n",
    "    for label in subplot.get_xticklabels():\n",
    "        label.set_rotation(90)"
   ]
  },
  {
   "cell_type": "code",
   "execution_count": 12,
   "metadata": {},
   "outputs": [
    {
     "data": {
      "image/png": "[encoded data removed]",
      "text/plain": [
       "<Figure size 720x1440 with 6 Axes>"
      ]
     },
     "metadata": {
      "needs_background": "light"
     },
     "output_type": "display_data"
    }
   ],
   "source": [
    "#### VISUALIZING CATEGORICAL WITH TARGET #####\n",
    "\n",
    "fig,axes = plt.subplots(3,2,figsize=(10,20))\n",
    "for idx,cat_col in enumerate(categorical_columns):\n",
    "    row,col = idx//2,idx%2\n",
    "    sns.countplot(x=cat_col,data=train,hue='Surge_Pricing_Type',ax=axes[row,col])\n",
    "\n",
    "\n",
    "plt.subplots_adjust(hspace=1)"
   ]
  },
  {
   "cell_type": "code",
   "execution_count": 13,
   "metadata": {},
   "outputs": [
    {
     "data": {
      "text/plain": [
       "<seaborn.axisgrid.FacetGrid at 0x1ff59bbe208>"
      ]
     },
     "execution_count": 13,
     "metadata": {},
     "output_type": "execute_result"
    },
    {
     "data": {
      "image/png": "[encoded data removed]",
      "text/plain": [
       "<Figure size 465.609x360 with 1 Axes>"
      ]
     },
     "metadata": {
      "needs_background": "light"
     },
     "output_type": "display_data"
    }
   ],
   "source": [
    "#SURGE 3 ARE SEEMS TO BE HIGH \n",
    "sns.FacetGrid(master,hue=\"Surge_Pricing_Type\",size=5).map(sns.distplot,\"Trip_Distance\").add_legend()"
   ]
  },
  {
   "cell_type": "code",
   "execution_count": 14,
   "metadata": {},
   "outputs": [],
   "source": [
    "#############DATA CLEANING#############\n",
    "\n",
    "#1.TYPE OF CAB\n",
    "master['Type_of_Cab'].value_counts(dropna=False)\n",
    "Missing_cab = master[master.Type_of_Cab.isna()]\n",
    "Missing_cab.head()\n",
    "\n",
    "#FILL NA\n",
    "master['Type_of_Cab']=master['Type_of_Cab'].fillna('B')"
   ]
  },
  {
   "cell_type": "code",
   "execution_count": 15,
   "metadata": {},
   "outputs": [
    {
     "data": {
      "text/plain": [
       "<seaborn.axisgrid.FacetGrid at 0x1ff55b79608>"
      ]
     },
     "execution_count": 15,
     "metadata": {},
     "output_type": "execute_result"
    },
    {
     "data": {
      "image/png": "[encoded data removed]",
      "text/plain": [
       "<Figure size 360x360 with 1 Axes>"
      ]
     },
     "metadata": {
      "needs_background": "light"
     },
     "output_type": "display_data"
    }
   ],
   "source": [
    "#2. CUSTOMER SINCE MONTHS\n",
    "master['Customer_Since_Months'].value_counts(dropna=False)\n",
    "Missing_c = master[master.Customer_Since_Months.isna()]\n",
    "Missing_c.head()\n",
    "master.Customer_Since_Months.fillna(master.Customer_Since_Months.median(),inplace=True)\n",
    "master.Customer_Since_Months = master.Customer_Since_Months.astype(int)\n",
    "\n",
    "sns.catplot(x=\"Customer_Since_Months\",kind=\"count\",data=master)"
   ]
  },
  {
   "cell_type": "code",
   "execution_count": 16,
   "metadata": {},
   "outputs": [
    {
     "data": {
      "text/plain": [
       "<seaborn.axisgrid.FacetGrid at 0x1ff527f2608>"
      ]
     },
     "execution_count": 16,
     "metadata": {},
     "output_type": "execute_result"
    },
    {
     "data": {
      "image/png": "[encoded data removed]",
      "text/plain": [
       "<Figure size 360x360 with 1 Axes>"
      ]
     },
     "metadata": {
      "needs_background": "light"
     },
     "output_type": "display_data"
    }
   ],
   "source": [
    "#LIFESTYLEINDEX\n",
    "master.Life_Style_Index.fillna(master.Life_Style_Index.mean(),inplace=True)\n",
    "\n",
    "#CONFIDENCE LIFESTYLE\n",
    "master.Confidence_Life_Style_Index.value_counts(dropna=False)\n",
    "master.Confidence_Life_Style_Index.fillna('D',inplace=True)\n",
    "sns.catplot(x=\"Confidence_Life_Style_Index\",kind=\"count\",data=master)"
   ]
  },
  {
   "cell_type": "code",
   "execution_count": 17,
   "metadata": {},
   "outputs": [],
   "source": [
    "###VAR1######\n",
    "master.Var1.fillna(master.Var1.median(),inplace=True)"
   ]
  },
  {
   "cell_type": "code",
   "execution_count": 18,
   "metadata": {},
   "outputs": [
    {
     "name": "stdout",
     "output_type": "stream",
     "text": [
      "0.22585999999999995\n",
      "2.34926 3.2527\n"
     ]
    }
   ],
   "source": [
    "###################OUTLIER TREATMENT###############  # z\n",
    "#LIFESTYLE\n",
    "sorted(master['Life_Style_Index'])\n",
    "quantile1,quantile3=np.percentile(master.Life_Style_Index,[25,75])\n",
    "\n",
    "#IQR\n",
    "iqr=quantile3-quantile1\n",
    "print(iqr)\n",
    "#UPPER AND LOWER BOUND\n",
    "lb=quantile1 -(1.5 * iqr)\n",
    "up=quantile3 +(1.5 * iqr)\n",
    "print(lb,up)"
   ]
  },
  {
   "cell_type": "code",
   "execution_count": 19,
   "metadata": {},
   "outputs": [
    {
     "data": {
      "text/plain": [
       "<matplotlib.axes._subplots.AxesSubplot at 0x1ff52948488>"
      ]
     },
     "execution_count": 19,
     "metadata": {},
     "output_type": "execute_result"
    },
    {
     "data": {
      "image/png": "[encoded data removed]",
      "text/plain": [
       "<Figure size 432x288 with 1 Axes>"
      ]
     },
     "metadata": {
      "needs_background": "light"
     },
     "output_type": "display_data"
    }
   ],
   "source": [
    "#TREATMENT\n",
    "master.Life_Style_Index.loc[master.Life_Style_Index > 3.257]=3.2527\n",
    "master.Life_Style_Index.loc[master.Life_Style_Index < 2.34296]=2.34296\n",
    "\n",
    "sns.boxplot(master.Life_Style_Index)\n"
   ]
  },
  {
   "cell_type": "code",
   "execution_count": 20,
   "metadata": {},
   "outputs": [
    {
     "data": {
      "text/html": [
       "<div>\n",
       "<style scoped>\n",
       "    .dataframe tbody tr th:only-of-type {\n",
       "        vertical-align: middle;\n",
       "    }\n",
       "\n",
       "    .dataframe tbody tr th {\n",
       "        vertical-align: top;\n",
       "    }\n",
       "\n",
       "    .dataframe thead th {\n",
       "        text-align: right;\n",
       "    }\n",
       "</style>\n",
       "<table border=\"1\" class=\"dataframe\">\n",
       "  <thead>\n",
       "    <tr style=\"text-align: right;\">\n",
       "      <th></th>\n",
       "      <th>Trip_ID</th>\n",
       "      <th>Trip_Distance</th>\n",
       "      <th>Type_of_Cab</th>\n",
       "      <th>Customer_Since_Months</th>\n",
       "      <th>Life_Style_Index</th>\n",
       "      <th>Confidence_Life_Style_Index</th>\n",
       "      <th>Destination_Type</th>\n",
       "      <th>Customer_Rating</th>\n",
       "      <th>Cancellation_Last_1Month</th>\n",
       "      <th>Gender</th>\n",
       "      <th>Surge_Pricing_Type</th>\n",
       "    </tr>\n",
       "  </thead>\n",
       "  <tbody>\n",
       "    <tr>\n",
       "      <th>0</th>\n",
       "      <td>T0005689460</td>\n",
       "      <td>6.77</td>\n",
       "      <td>B</td>\n",
       "      <td>1</td>\n",
       "      <td>2.427690</td>\n",
       "      <td>A</td>\n",
       "      <td>A</td>\n",
       "      <td>3.90500</td>\n",
       "      <td>0</td>\n",
       "      <td>Female</td>\n",
       "      <td>2.0</td>\n",
       "    </tr>\n",
       "    <tr>\n",
       "      <th>1</th>\n",
       "      <td>T0005689461</td>\n",
       "      <td>29.47</td>\n",
       "      <td>B</td>\n",
       "      <td>10</td>\n",
       "      <td>2.782450</td>\n",
       "      <td>B</td>\n",
       "      <td>A</td>\n",
       "      <td>3.45000</td>\n",
       "      <td>0</td>\n",
       "      <td>Male</td>\n",
       "      <td>2.0</td>\n",
       "    </tr>\n",
       "    <tr>\n",
       "      <th>2</th>\n",
       "      <td>T0005689464</td>\n",
       "      <td>41.58</td>\n",
       "      <td>B</td>\n",
       "      <td>10</td>\n",
       "      <td>2.802594</td>\n",
       "      <td>D</td>\n",
       "      <td>E</td>\n",
       "      <td>3.50125</td>\n",
       "      <td>2</td>\n",
       "      <td>Male</td>\n",
       "      <td>2.0</td>\n",
       "    </tr>\n",
       "    <tr>\n",
       "      <th>3</th>\n",
       "      <td>T0005689465</td>\n",
       "      <td>61.56</td>\n",
       "      <td>C</td>\n",
       "      <td>10</td>\n",
       "      <td>2.802594</td>\n",
       "      <td>D</td>\n",
       "      <td>A</td>\n",
       "      <td>3.45375</td>\n",
       "      <td>0</td>\n",
       "      <td>Male</td>\n",
       "      <td>3.0</td>\n",
       "    </tr>\n",
       "    <tr>\n",
       "      <th>4</th>\n",
       "      <td>T0005689467</td>\n",
       "      <td>54.95</td>\n",
       "      <td>C</td>\n",
       "      <td>10</td>\n",
       "      <td>3.034530</td>\n",
       "      <td>B</td>\n",
       "      <td>A</td>\n",
       "      <td>3.40250</td>\n",
       "      <td>4</td>\n",
       "      <td>Male</td>\n",
       "      <td>2.0</td>\n",
       "    </tr>\n",
       "  </tbody>\n",
       "</table>\n",
       "</div>"
      ],
      "text/plain": [
       "       Trip_ID  Trip_Distance Type_of_Cab  Customer_Since_Months  \\\n",
       "0  T0005689460           6.77           B                      1   \n",
       "1  T0005689461          29.47           B                     10   \n",
       "2  T0005689464          41.58           B                     10   \n",
       "3  T0005689465          61.56           C                     10   \n",
       "4  T0005689467          54.95           C                     10   \n",
       "\n",
       "   Life_Style_Index Confidence_Life_Style_Index Destination_Type  \\\n",
       "0          2.427690                           A                A   \n",
       "1          2.782450                           B                A   \n",
       "2          2.802594                           D                E   \n",
       "3          2.802594                           D                A   \n",
       "4          3.034530                           B                A   \n",
       "\n",
       "   Customer_Rating  Cancellation_Last_1Month  Gender  Surge_Pricing_Type  \n",
       "0          3.90500                         0  Female                 2.0  \n",
       "1          3.45000                         0    Male                 2.0  \n",
       "2          3.50125                         2    Male                 2.0  \n",
       "3          3.45375                         0    Male                 3.0  \n",
       "4          3.40250                         4    Male                 2.0  "
      ]
     },
     "execution_count": 20,
     "metadata": {},
     "output_type": "execute_result"
    }
   ],
   "source": [
    "# REMOVING COLOUMN#\n",
    "master=master.drop(['Var1', 'Var2','Var3'], axis = 1)\n",
    "master.head()\n",
    "\n",
    "##########################ALL DATA ARE CLEANED AND TRANSFORMED NOW##############\n"
   ]
  },
  {
   "cell_type": "code",
   "execution_count": 21,
   "metadata": {},
   "outputs": [
    {
     "name": "stdout",
     "output_type": "stream",
     "text": [
      "<class 'pandas.core.frame.DataFrame'>\n",
      "RangeIndex: 219057 entries, 0 to 219056\n",
      "Data columns (total 11 columns):\n",
      " #   Column                       Non-Null Count   Dtype  \n",
      "---  ------                       --------------   -----  \n",
      " 0   Trip_ID                      219057 non-null  object \n",
      " 1   Trip_Distance                219057 non-null  float64\n",
      " 2   Type_of_Cab                  219057 non-null  object \n",
      " 3   Customer_Since_Months        219057 non-null  int32  \n",
      " 4   Life_Style_Index             219057 non-null  float64\n",
      " 5   Confidence_Life_Style_Index  219057 non-null  object \n",
      " 6   Destination_Type             219057 non-null  object \n",
      " 7   Customer_Rating              219057 non-null  float64\n",
      " 8   Cancellation_Last_1Month     219057 non-null  int64  \n",
      " 9   Gender                       219057 non-null  object \n",
      " 10  Surge_Pricing_Type           131662 non-null  float64\n",
      "dtypes: float64(4), int32(1), int64(1), object(5)\n",
      "memory usage: 17.5+ MB\n"
     ]
    },
    {
     "data": {
      "image/png": "[encoded data removed]",
      "text/plain": [
       "<Figure size 864x648 with 2 Axes>"
      ]
     },
     "metadata": {
      "needs_background": "light"
     },
     "output_type": "display_data"
    }
   ],
   "source": [
    "master.info()\n",
    "contvars=master[['Trip_Distance','Customer_Since_Months','Life_Style_Index','Customer_Rating']]\n",
    "#####CORRELATION MATRIX######\n",
    "#correlation matrix\n",
    "corrmat = contvars.corr()\n",
    "f, ax = plt.subplots(figsize=(12, 9))\n",
    "sns.heatmap(corrmat, vmax=.8,annot = True,square=True);\n"
   ]
  },
  {
   "cell_type": "code",
   "execution_count": 22,
   "metadata": {},
   "outputs": [],
   "source": [
    "\n",
    "####FEATURE ENGINEERING#####\n",
    "master['Trpper_Lif']=master['Trip_Distance'] / master['Life_Style_Index']"
   ]
  },
  {
   "cell_type": "code",
   "execution_count": 23,
   "metadata": {},
   "outputs": [
    {
     "data": {
      "text/plain": [
       "2.0    43.086084\n",
       "3.0    36.244323\n",
       "1.0    20.669593\n",
       "Name: Surge_Pricing_Type, dtype: float64"
      ]
     },
     "execution_count": 23,
     "metadata": {},
     "output_type": "execute_result"
    }
   ],
   "source": [
    "# CHECK TARGET VARIABLE###\n",
    "\n",
    "master['Surge_Pricing_Type'].value_counts(normalize=True)*100"
   ]
  },
  {
   "cell_type": "code",
   "execution_count": 24,
   "metadata": {},
   "outputs": [
    {
     "data": {
      "text/plain": [
       "<matplotlib.axes._subplots.AxesSubplot at 0x1ff52a3c688>"
      ]
     },
     "execution_count": 24,
     "metadata": {},
     "output_type": "execute_result"
    },
    {
     "data": {
      "image/png": "[encoded data removed]",
      "text/plain": [
       "<Figure size 432x288 with 1 Axes>"
      ]
     },
     "metadata": {
      "needs_background": "light"
     },
     "output_type": "display_data"
    }
   ],
   "source": [
    "sns.countplot(master.Surge_Pricing_Type)"
   ]
  },
  {
   "cell_type": "code",
   "execution_count": 25,
   "metadata": {},
   "outputs": [
    {
     "data": {
      "text/html": [
       "<div>\n",
       "<style scoped>\n",
       "    .dataframe tbody tr th:only-of-type {\n",
       "        vertical-align: middle;\n",
       "    }\n",
       "\n",
       "    .dataframe tbody tr th {\n",
       "        vertical-align: top;\n",
       "    }\n",
       "\n",
       "    .dataframe thead th {\n",
       "        text-align: right;\n",
       "    }\n",
       "</style>\n",
       "<table border=\"1\" class=\"dataframe\">\n",
       "  <thead>\n",
       "    <tr style=\"text-align: right;\">\n",
       "      <th></th>\n",
       "      <th>Trip_ID</th>\n",
       "      <th>Trip_Distance</th>\n",
       "      <th>Customer_Since_Months</th>\n",
       "      <th>Life_Style_Index</th>\n",
       "      <th>Customer_Rating</th>\n",
       "      <th>Surge_Pricing_Type</th>\n",
       "      <th>Trpper_Lif</th>\n",
       "      <th>Type_of_Cab_A</th>\n",
       "      <th>Type_of_Cab_B</th>\n",
       "      <th>Type_of_Cab_C</th>\n",
       "      <th>...</th>\n",
       "      <th>Cancellation_Last_1Month_1</th>\n",
       "      <th>Cancellation_Last_1Month_2</th>\n",
       "      <th>Cancellation_Last_1Month_3</th>\n",
       "      <th>Cancellation_Last_1Month_4</th>\n",
       "      <th>Cancellation_Last_1Month_5</th>\n",
       "      <th>Cancellation_Last_1Month_6</th>\n",
       "      <th>Cancellation_Last_1Month_7</th>\n",
       "      <th>Cancellation_Last_1Month_8</th>\n",
       "      <th>Gender_Female</th>\n",
       "      <th>Gender_Male</th>\n",
       "    </tr>\n",
       "  </thead>\n",
       "  <tbody>\n",
       "    <tr>\n",
       "      <th>0</th>\n",
       "      <td>T0005689460</td>\n",
       "      <td>6.77</td>\n",
       "      <td>1</td>\n",
       "      <td>2.427690</td>\n",
       "      <td>3.90500</td>\n",
       "      <td>2.0</td>\n",
       "      <td>2.788659</td>\n",
       "      <td>0</td>\n",
       "      <td>1</td>\n",
       "      <td>0</td>\n",
       "      <td>...</td>\n",
       "      <td>0</td>\n",
       "      <td>0</td>\n",
       "      <td>0</td>\n",
       "      <td>0</td>\n",
       "      <td>0</td>\n",
       "      <td>0</td>\n",
       "      <td>0</td>\n",
       "      <td>0</td>\n",
       "      <td>1</td>\n",
       "      <td>0</td>\n",
       "    </tr>\n",
       "    <tr>\n",
       "      <th>1</th>\n",
       "      <td>T0005689461</td>\n",
       "      <td>29.47</td>\n",
       "      <td>10</td>\n",
       "      <td>2.782450</td>\n",
       "      <td>3.45000</td>\n",
       "      <td>2.0</td>\n",
       "      <td>10.591385</td>\n",
       "      <td>0</td>\n",
       "      <td>1</td>\n",
       "      <td>0</td>\n",
       "      <td>...</td>\n",
       "      <td>0</td>\n",
       "      <td>0</td>\n",
       "      <td>0</td>\n",
       "      <td>0</td>\n",
       "      <td>0</td>\n",
       "      <td>0</td>\n",
       "      <td>0</td>\n",
       "      <td>0</td>\n",
       "      <td>0</td>\n",
       "      <td>1</td>\n",
       "    </tr>\n",
       "    <tr>\n",
       "      <th>2</th>\n",
       "      <td>T0005689464</td>\n",
       "      <td>41.58</td>\n",
       "      <td>10</td>\n",
       "      <td>2.802594</td>\n",
       "      <td>3.50125</td>\n",
       "      <td>2.0</td>\n",
       "      <td>14.836255</td>\n",
       "      <td>0</td>\n",
       "      <td>1</td>\n",
       "      <td>0</td>\n",
       "      <td>...</td>\n",
       "      <td>0</td>\n",
       "      <td>1</td>\n",
       "      <td>0</td>\n",
       "      <td>0</td>\n",
       "      <td>0</td>\n",
       "      <td>0</td>\n",
       "      <td>0</td>\n",
       "      <td>0</td>\n",
       "      <td>0</td>\n",
       "      <td>1</td>\n",
       "    </tr>\n",
       "    <tr>\n",
       "      <th>3</th>\n",
       "      <td>T0005689465</td>\n",
       "      <td>61.56</td>\n",
       "      <td>10</td>\n",
       "      <td>2.802594</td>\n",
       "      <td>3.45375</td>\n",
       "      <td>3.0</td>\n",
       "      <td>21.965364</td>\n",
       "      <td>0</td>\n",
       "      <td>0</td>\n",
       "      <td>1</td>\n",
       "      <td>...</td>\n",
       "      <td>0</td>\n",
       "      <td>0</td>\n",
       "      <td>0</td>\n",
       "      <td>0</td>\n",
       "      <td>0</td>\n",
       "      <td>0</td>\n",
       "      <td>0</td>\n",
       "      <td>0</td>\n",
       "      <td>0</td>\n",
       "      <td>1</td>\n",
       "    </tr>\n",
       "    <tr>\n",
       "      <th>4</th>\n",
       "      <td>T0005689467</td>\n",
       "      <td>54.95</td>\n",
       "      <td>10</td>\n",
       "      <td>3.034530</td>\n",
       "      <td>3.40250</td>\n",
       "      <td>2.0</td>\n",
       "      <td>18.108241</td>\n",
       "      <td>0</td>\n",
       "      <td>0</td>\n",
       "      <td>1</td>\n",
       "      <td>...</td>\n",
       "      <td>0</td>\n",
       "      <td>0</td>\n",
       "      <td>0</td>\n",
       "      <td>1</td>\n",
       "      <td>0</td>\n",
       "      <td>0</td>\n",
       "      <td>0</td>\n",
       "      <td>0</td>\n",
       "      <td>0</td>\n",
       "      <td>1</td>\n",
       "    </tr>\n",
       "  </tbody>\n",
       "</table>\n",
       "<p>5 rows × 41 columns</p>\n",
       "</div>"
      ],
      "text/plain": [
       "       Trip_ID  Trip_Distance  Customer_Since_Months  Life_Style_Index  \\\n",
       "0  T0005689460           6.77                      1          2.427690   \n",
       "1  T0005689461          29.47                     10          2.782450   \n",
       "2  T0005689464          41.58                     10          2.802594   \n",
       "3  T0005689465          61.56                     10          2.802594   \n",
       "4  T0005689467          54.95                     10          3.034530   \n",
       "\n",
       "   Customer_Rating  Surge_Pricing_Type  Trpper_Lif  Type_of_Cab_A  \\\n",
       "0          3.90500                 2.0    2.788659              0   \n",
       "1          3.45000                 2.0   10.591385              0   \n",
       "2          3.50125                 2.0   14.836255              0   \n",
       "3          3.45375                 3.0   21.965364              0   \n",
       "4          3.40250                 2.0   18.108241              0   \n",
       "\n",
       "   Type_of_Cab_B  Type_of_Cab_C  ...  Cancellation_Last_1Month_1  \\\n",
       "0              1              0  ...                           0   \n",
       "1              1              0  ...                           0   \n",
       "2              1              0  ...                           0   \n",
       "3              0              1  ...                           0   \n",
       "4              0              1  ...                           0   \n",
       "\n",
       "   Cancellation_Last_1Month_2  Cancellation_Last_1Month_3  \\\n",
       "0                           0                           0   \n",
       "1                           0                           0   \n",
       "2                           1                           0   \n",
       "3                           0                           0   \n",
       "4                           0                           0   \n",
       "\n",
       "   Cancellation_Last_1Month_4  Cancellation_Last_1Month_5  \\\n",
       "0                           0                           0   \n",
       "1                           0                           0   \n",
       "2                           0                           0   \n",
       "3                           0                           0   \n",
       "4                           1                           0   \n",
       "\n",
       "   Cancellation_Last_1Month_6  Cancellation_Last_1Month_7  \\\n",
       "0                           0                           0   \n",
       "1                           0                           0   \n",
       "2                           0                           0   \n",
       "3                           0                           0   \n",
       "4                           0                           0   \n",
       "\n",
       "   Cancellation_Last_1Month_8  Gender_Female  Gender_Male  \n",
       "0                           0              1            0  \n",
       "1                           0              0            1  \n",
       "2                           0              0            1  \n",
       "3                           0              0            1  \n",
       "4                           0              0            1  \n",
       "\n",
       "[5 rows x 41 columns]"
      ]
     },
     "execution_count": 25,
     "metadata": {},
     "output_type": "execute_result"
    }
   ],
   "source": [
    "################BUILDING DUMMY##########\n",
    "master= pd.get_dummies(master, columns=categorical_columns)\n",
    "master.head()"
   ]
  },
  {
   "cell_type": "code",
   "execution_count": 26,
   "metadata": {},
   "outputs": [],
   "source": [
    "##########3MODEL############3\n",
    "###########MODEL BUILDING###########3\n",
    "X = master[master['Surge_Pricing_Type'].isnull()!=True].drop(['Trip_ID','Surge_Pricing_Type'], axis=1)\n",
    "y = master[master['Surge_Pricing_Type'].isnull()!=True]['Surge_Pricing_Type']\n",
    "\n",
    "X_test = master[master['Surge_Pricing_Type'].isnull()==True].drop(['Trip_ID','Surge_Pricing_Type'], axis=1)\n",
    "\n",
    "X.shape, y.shape, X_test.shape\n",
    "\n",
    "########SPLITTING#####\n",
    "x_train, x_val, y_train, y_val = train_test_split(X, y, test_size=0.2)\n"
   ]
  },
  {
   "cell_type": "code",
   "execution_count": 27,
   "metadata": {},
   "outputs": [
    {
     "name": "stdout",
     "output_type": "stream",
     "text": [
      "100.0\n",
      "              precision    recall  f1-score   support\n",
      "\n",
      "         1.0       0.50      0.49      0.49      5543\n",
      "         2.0       0.58      0.58      0.58     11267\n",
      "         3.0       0.57      0.57      0.57      9523\n",
      "\n",
      "    accuracy                           0.56     26333\n",
      "   macro avg       0.55      0.55      0.55     26333\n",
      "weighted avg       0.56      0.56      0.56     26333\n",
      "\n"
     ]
    }
   ],
   "source": [
    "###DECISION TREE####\n",
    "decision_tree = DecisionTreeClassifier() \n",
    "decision_tree.fit(x_train, y_train)  \n",
    "Y_pred = decision_tree.predict(x_val)  \n",
    "acc_decision_tree = round(decision_tree.score(x_train, y_train) * 100, 2)\n",
    "print(acc_decision_tree)\n",
    "print(classification_report(y_val,Y_pred))"
   ]
  },
  {
   "cell_type": "code",
   "execution_count": 28,
   "metadata": {},
   "outputs": [
    {
     "name": "stdout",
     "output_type": "stream",
     "text": [
      "100.0\n",
      "              precision    recall  f1-score   support\n",
      "\n",
      "         1.0       0.71      0.53      0.61      5543\n",
      "         2.0       0.64      0.77      0.70     11267\n",
      "         3.0       0.70      0.63      0.66      9523\n",
      "\n",
      "    accuracy                           0.67     26333\n",
      "   macro avg       0.68      0.64      0.66     26333\n",
      "weighted avg       0.67      0.67      0.66     26333\n",
      "\n"
     ]
    }
   ],
   "source": [
    "### RANDOM FOREST###\n",
    "random_forest = RandomForestClassifier(n_estimators=100)\n",
    "random_forest.fit(x_train, y_train)\n",
    "\n",
    "Y_prediction = random_forest.predict(x_val)\n",
    "\n",
    "random_forest.score(x_train, y_train)\n",
    "acc_random_forest = round(random_forest.score(x_train, y_train) * 100, 2)\n",
    "print(acc_random_forest)\n",
    "print(classification_report(y_val,Y_prediction))"
   ]
  },
  {
   "cell_type": "code",
   "execution_count": null,
   "metadata": {},
   "outputs": [],
   "source": [
    "####SVM###\n",
    "from sklearn import svm\n",
    "linear_svc = svm.SVC(decision_function_shape='ovo')\n",
    "linear_svc.fit(x_train, y_train)\n",
    "\n",
    "Y_pred = linear_svc.predict(x_val)\n",
    "\n",
    "acc_linear_svc = round(linear_svc.score(x_train, y_train) * 100, 2)\n",
    "print(acc_linear_svc)\n",
    "print(classification_report(y_val,Y_pred))"
   ]
  },
  {
   "cell_type": "code",
   "execution_count": 78,
   "metadata": {},
   "outputs": [
    {
     "name": "stdout",
     "output_type": "stream",
     "text": [
      "51.02\n",
      "              precision    recall  f1-score   support\n",
      "\n",
      "         1.0       0.35      0.85      0.50      5386\n",
      "         2.0       0.61      0.35      0.45     11352\n",
      "         3.0       0.74      0.51      0.60      9595\n",
      "\n",
      "    accuracy                           0.51     26333\n",
      "   macro avg       0.57      0.57      0.52     26333\n",
      "weighted avg       0.60      0.51      0.51     26333\n",
      "\n"
     ]
    }
   ],
   "source": [
    "########NAIVE BYES#########3\n",
    "gaussian = GaussianNB() \n",
    "gaussian.fit(x_train,y_train)\n",
    "y_pred=gaussian.predict(x_val)\n",
    "acc_gaussian_nb=round(gaussian.score(x_train,y_train) * 100, 2)\n",
    "print(acc_gaussian_nb)\n",
    "print(classification_report(y_val,y_pred))"
   ]
  },
  {
   "cell_type": "code",
   "execution_count": 82,
   "metadata": {},
   "outputs": [
    {
     "name": "stdout",
     "output_type": "stream",
     "text": [
      "(105329, 39)\n"
     ]
    }
   ],
   "source": [
    "print(x_train.shape)#USE FOR CHOOSING K I.E SQRT(X_TRAIN)"
   ]
  },
  {
   "cell_type": "code",
   "execution_count": 84,
   "metadata": {},
   "outputs": [
    {
     "name": "stdout",
     "output_type": "stream",
     "text": [
      "57.12\n",
      "              precision    recall  f1-score   support\n",
      "\n",
      "         1.0       0.84      0.21      0.33      5386\n",
      "         2.0       0.52      0.85      0.64     11352\n",
      "         3.0       0.64      0.43      0.52      9595\n",
      "\n",
      "    accuracy                           0.56     26333\n",
      "   macro avg       0.67      0.50      0.50     26333\n",
      "weighted avg       0.63      0.56      0.53     26333\n",
      "\n"
     ]
    }
   ],
   "source": [
    "##########KNN#########\n",
    "knn=KNeighborsClassifier(n_neighbors=325)\n",
    "knn.fit(x_train,y_train)\n",
    "y_p=knn.predict(x_val)\n",
    "acc_knn=round(knn.score(x_train,y_train) *100, 2)\n",
    "print(acc_knn)\n",
    "print(classification_report(y_val,y_p))"
   ]
  },
  {
   "cell_type": "code",
   "execution_count": 85,
   "metadata": {},
   "outputs": [
    {
     "name": "stdout",
     "output_type": "stream",
     "text": [
      "Scores: [0.6636286  0.66619197 0.66609703 0.66030571 0.67131871 0.67055919\n",
      " 0.66904016 0.67748979 0.66543245 0.66312191]\n",
      "Mean: 0.6673185523774249\n",
      "Standard Deviation: 0.0046866554604531865\n"
     ]
    }
   ],
   "source": [
    "#KFOLD CROSS VALIDATION\n",
    "from sklearn.model_selection import cross_val_score\n",
    "rf = RandomForestClassifier(n_estimators=100)\n",
    "scores = cross_val_score(rf, x_train, y_train, cv=10, scoring = \"accuracy\")\n",
    "print(\"Scores:\", scores)\n",
    "print(\"Mean:\", scores.mean())\n",
    "print(\"Standard Deviation:\", scores.std())\n"
   ]
  },
  {
   "cell_type": "code",
   "execution_count": 86,
   "metadata": {},
   "outputs": [
    {
     "data": {
      "text/html": [
       "<div>\n",
       "<style scoped>\n",
       "    .dataframe tbody tr th:only-of-type {\n",
       "        vertical-align: middle;\n",
       "    }\n",
       "\n",
       "    .dataframe tbody tr th {\n",
       "        vertical-align: top;\n",
       "    }\n",
       "\n",
       "    .dataframe thead th {\n",
       "        text-align: right;\n",
       "    }\n",
       "</style>\n",
       "<table border=\"1\" class=\"dataframe\">\n",
       "  <thead>\n",
       "    <tr style=\"text-align: right;\">\n",
       "      <th></th>\n",
       "      <th>importance</th>\n",
       "    </tr>\n",
       "    <tr>\n",
       "      <th>feature</th>\n",
       "      <th></th>\n",
       "    </tr>\n",
       "  </thead>\n",
       "  <tbody>\n",
       "    <tr>\n",
       "      <th>Customer_Rating</th>\n",
       "      <td>0.147</td>\n",
       "    </tr>\n",
       "    <tr>\n",
       "      <th>Trpper_Lif</th>\n",
       "      <td>0.147</td>\n",
       "    </tr>\n",
       "    <tr>\n",
       "      <th>Trip_Distance</th>\n",
       "      <td>0.144</td>\n",
       "    </tr>\n",
       "    <tr>\n",
       "      <th>Life_Style_Index</th>\n",
       "      <td>0.122</td>\n",
       "    </tr>\n",
       "    <tr>\n",
       "      <th>Type_of_Cab_A</th>\n",
       "      <td>0.080</td>\n",
       "    </tr>\n",
       "    <tr>\n",
       "      <th>Customer_Since_Months</th>\n",
       "      <td>0.071</td>\n",
       "    </tr>\n",
       "    <tr>\n",
       "      <th>Type_of_Cab_D</th>\n",
       "      <td>0.059</td>\n",
       "    </tr>\n",
       "    <tr>\n",
       "      <th>Type_of_Cab_B</th>\n",
       "      <td>0.057</td>\n",
       "    </tr>\n",
       "    <tr>\n",
       "      <th>Type_of_Cab_C</th>\n",
       "      <td>0.030</td>\n",
       "    </tr>\n",
       "    <tr>\n",
       "      <th>Type_of_Cab_E</th>\n",
       "      <td>0.025</td>\n",
       "    </tr>\n",
       "    <tr>\n",
       "      <th>Cancellation_Last_1Month_0</th>\n",
       "      <td>0.013</td>\n",
       "    </tr>\n",
       "    <tr>\n",
       "      <th>Destination_Type_B</th>\n",
       "      <td>0.009</td>\n",
       "    </tr>\n",
       "    <tr>\n",
       "      <th>Gender_Female</th>\n",
       "      <td>0.009</td>\n",
       "    </tr>\n",
       "    <tr>\n",
       "      <th>Gender_Male</th>\n",
       "      <td>0.009</td>\n",
       "    </tr>\n",
       "    <tr>\n",
       "      <th>Confidence_Life_Style_Index_A</th>\n",
       "      <td>0.009</td>\n",
       "    </tr>\n",
       "  </tbody>\n",
       "</table>\n",
       "</div>"
      ],
      "text/plain": [
       "                               importance\n",
       "feature                                  \n",
       "Customer_Rating                     0.147\n",
       "Trpper_Lif                          0.147\n",
       "Trip_Distance                       0.144\n",
       "Life_Style_Index                    0.122\n",
       "Type_of_Cab_A                       0.080\n",
       "Customer_Since_Months               0.071\n",
       "Type_of_Cab_D                       0.059\n",
       "Type_of_Cab_B                       0.057\n",
       "Type_of_Cab_C                       0.030\n",
       "Type_of_Cab_E                       0.025\n",
       "Cancellation_Last_1Month_0          0.013\n",
       "Destination_Type_B                  0.009\n",
       "Gender_Female                       0.009\n",
       "Gender_Male                         0.009\n",
       "Confidence_Life_Style_Index_A       0.009"
      ]
     },
     "execution_count": 86,
     "metadata": {},
     "output_type": "execute_result"
    }
   ],
   "source": [
    "#FOREST IMPT\n",
    "importances = pd.DataFrame({'feature':x_train.columns,'importance':np.round(random_forest.feature_importances_,3)})\n",
    "importances = importances.sort_values('importance',ascending=False).set_index('feature')\n",
    "importances.head(15)"
   ]
  },
  {
   "cell_type": "code",
   "execution_count": 88,
   "metadata": {},
   "outputs": [
    {
     "name": "stdout",
     "output_type": "stream",
     "text": [
      "100.0 %\n",
      "oob score: 67.02 %\n",
      "              precision    recall  f1-score   support\n",
      "\n",
      "         1.0       0.71      0.51      0.59      5386\n",
      "         2.0       0.64      0.78      0.70     11352\n",
      "         3.0       0.70      0.62      0.66      9595\n",
      "\n",
      "    accuracy                           0.67     26333\n",
      "   macro avg       0.68      0.64      0.65     26333\n",
      "weighted avg       0.67      0.67      0.66     26333\n",
      "\n"
     ]
    }
   ],
   "source": [
    "#############TUNNING PARAMETER################ WITH HIS OUT OF BAG SCORE\n",
    "random_forest = RandomForestClassifier(n_estimators=1000, oob_score = True)\n",
    "random_forest.fit(x_train, y_train)\n",
    "Y_prediction = random_forest.predict(x_val)\n",
    "\n",
    "random_forest.score(x_train, y_train)\n",
    "\n",
    "acc_random_forest = round(random_forest.score(x_train, y_train) * 100, 2)\n",
    "print(round(acc_random_forest,2,), \"%\")\n",
    "print(\"oob score:\", round(random_forest.oob_score_, 4)*100, \"%\")\n",
    "print(classification_report(y_val,Y_prediction))"
   ]
  },
  {
   "cell_type": "code",
   "execution_count": 91,
   "metadata": {},
   "outputs": [
    {
     "ename": "KeyboardInterrupt",
     "evalue": "",
     "output_type": "error",
     "traceback": [
      "\u001b[1;31m---------------------------------------------------------------------------\u001b[0m",
      "\u001b[1;31mKeyboardInterrupt\u001b[0m                         Traceback (most recent call last)",
      "\u001b[1;32m<ipython-input-91-bd8f91fdbdd6>\u001b[0m in \u001b[0;36m<module>\u001b[1;34m\u001b[0m\n\u001b[0;32m      4\u001b[0m \u001b[0mrf\u001b[0m \u001b[1;33m=\u001b[0m \u001b[0mRandomForestClassifier\u001b[0m\u001b[1;33m(\u001b[0m\u001b[0mn_estimators\u001b[0m\u001b[1;33m=\u001b[0m\u001b[1;36m100\u001b[0m\u001b[1;33m,\u001b[0m \u001b[0mmax_features\u001b[0m\u001b[1;33m=\u001b[0m\u001b[1;34m'auto'\u001b[0m\u001b[1;33m,\u001b[0m \u001b[0moob_score\u001b[0m\u001b[1;33m=\u001b[0m\u001b[1;32mTrue\u001b[0m\u001b[1;33m,\u001b[0m \u001b[0mrandom_state\u001b[0m\u001b[1;33m=\u001b[0m\u001b[1;36m1\u001b[0m\u001b[1;33m,\u001b[0m \u001b[0mn_jobs\u001b[0m\u001b[1;33m=\u001b[0m\u001b[1;36m1\u001b[0m\u001b[1;33m)\u001b[0m\u001b[1;33m\u001b[0m\u001b[1;33m\u001b[0m\u001b[0m\n\u001b[0;32m      5\u001b[0m \u001b[0mclf\u001b[0m \u001b[1;33m=\u001b[0m \u001b[0mGridSearchCV\u001b[0m\u001b[1;33m(\u001b[0m\u001b[0mestimator\u001b[0m\u001b[1;33m=\u001b[0m\u001b[0mrf\u001b[0m\u001b[1;33m,\u001b[0m \u001b[0mparam_grid\u001b[0m\u001b[1;33m=\u001b[0m\u001b[0mparam_grid\u001b[0m\u001b[1;33m,\u001b[0m \u001b[0mn_jobs\u001b[0m\u001b[1;33m=\u001b[0m\u001b[1;36m1\u001b[0m\u001b[1;33m)\u001b[0m\u001b[1;33m\u001b[0m\u001b[1;33m\u001b[0m\u001b[0m\n\u001b[1;32m----> 6\u001b[1;33m \u001b[0mclf\u001b[0m\u001b[1;33m.\u001b[0m\u001b[0mfit\u001b[0m\u001b[1;33m(\u001b[0m\u001b[0mx_train\u001b[0m\u001b[1;33m,\u001b[0m \u001b[0my_train\u001b[0m\u001b[1;33m)\u001b[0m\u001b[1;33m\u001b[0m\u001b[1;33m\u001b[0m\u001b[0m\n\u001b[0m\u001b[0;32m      7\u001b[0m \u001b[0mprint\u001b[0m\u001b[1;33m(\u001b[0m\u001b[0mclf\u001b[0m\u001b[1;33m.\u001b[0m\u001b[0mbest_estimator_\u001b[0m\u001b[1;33m)\u001b[0m\u001b[1;33m\u001b[0m\u001b[1;33m\u001b[0m\u001b[0m\n",
      "\u001b[1;32m~\\anaconda3\\lib\\site-packages\\sklearn\\model_selection\\_search.py\u001b[0m in \u001b[0;36mfit\u001b[1;34m(self, X, y, groups, **fit_params)\u001b[0m\n\u001b[0;32m    708\u001b[0m                 \u001b[1;32mreturn\u001b[0m \u001b[0mresults\u001b[0m\u001b[1;33m\u001b[0m\u001b[1;33m\u001b[0m\u001b[0m\n\u001b[0;32m    709\u001b[0m \u001b[1;33m\u001b[0m\u001b[0m\n\u001b[1;32m--> 710\u001b[1;33m             \u001b[0mself\u001b[0m\u001b[1;33m.\u001b[0m\u001b[0m_run_search\u001b[0m\u001b[1;33m(\u001b[0m\u001b[0mevaluate_candidates\u001b[0m\u001b[1;33m)\u001b[0m\u001b[1;33m\u001b[0m\u001b[1;33m\u001b[0m\u001b[0m\n\u001b[0m\u001b[0;32m    711\u001b[0m \u001b[1;33m\u001b[0m\u001b[0m\n\u001b[0;32m    712\u001b[0m         \u001b[1;31m# For multi-metric evaluation, store the best_index_, best_params_ and\u001b[0m\u001b[1;33m\u001b[0m\u001b[1;33m\u001b[0m\u001b[1;33m\u001b[0m\u001b[0m\n",
      "\u001b[1;32m~\\anaconda3\\lib\\site-packages\\sklearn\\model_selection\\_search.py\u001b[0m in \u001b[0;36m_run_search\u001b[1;34m(self, evaluate_candidates)\u001b[0m\n\u001b[0;32m   1149\u001b[0m     \u001b[1;32mdef\u001b[0m \u001b[0m_run_search\u001b[0m\u001b[1;33m(\u001b[0m\u001b[0mself\u001b[0m\u001b[1;33m,\u001b[0m \u001b[0mevaluate_candidates\u001b[0m\u001b[1;33m)\u001b[0m\u001b[1;33m:\u001b[0m\u001b[1;33m\u001b[0m\u001b[1;33m\u001b[0m\u001b[0m\n\u001b[0;32m   1150\u001b[0m         \u001b[1;34m\"\"\"Search all candidates in param_grid\"\"\"\u001b[0m\u001b[1;33m\u001b[0m\u001b[1;33m\u001b[0m\u001b[0m\n\u001b[1;32m-> 1151\u001b[1;33m         \u001b[0mevaluate_candidates\u001b[0m\u001b[1;33m(\u001b[0m\u001b[0mParameterGrid\u001b[0m\u001b[1;33m(\u001b[0m\u001b[0mself\u001b[0m\u001b[1;33m.\u001b[0m\u001b[0mparam_grid\u001b[0m\u001b[1;33m)\u001b[0m\u001b[1;33m)\u001b[0m\u001b[1;33m\u001b[0m\u001b[1;33m\u001b[0m\u001b[0m\n\u001b[0m\u001b[0;32m   1152\u001b[0m \u001b[1;33m\u001b[0m\u001b[0m\n\u001b[0;32m   1153\u001b[0m \u001b[1;33m\u001b[0m\u001b[0m\n",
      "\u001b[1;32m~\\anaconda3\\lib\\site-packages\\sklearn\\model_selection\\_search.py\u001b[0m in \u001b[0;36mevaluate_candidates\u001b[1;34m(candidate_params)\u001b[0m\n\u001b[0;32m    687\u001b[0m                                \u001b[1;32mfor\u001b[0m \u001b[0mparameters\u001b[0m\u001b[1;33m,\u001b[0m \u001b[1;33m(\u001b[0m\u001b[0mtrain\u001b[0m\u001b[1;33m,\u001b[0m \u001b[0mtest\u001b[0m\u001b[1;33m)\u001b[0m\u001b[1;33m\u001b[0m\u001b[1;33m\u001b[0m\u001b[0m\n\u001b[0;32m    688\u001b[0m                                in product(candidate_params,\n\u001b[1;32m--> 689\u001b[1;33m                                           cv.split(X, y, groups)))\n\u001b[0m\u001b[0;32m    690\u001b[0m \u001b[1;33m\u001b[0m\u001b[0m\n\u001b[0;32m    691\u001b[0m                 \u001b[1;32mif\u001b[0m \u001b[0mlen\u001b[0m\u001b[1;33m(\u001b[0m\u001b[0mout\u001b[0m\u001b[1;33m)\u001b[0m \u001b[1;33m<\u001b[0m \u001b[1;36m1\u001b[0m\u001b[1;33m:\u001b[0m\u001b[1;33m\u001b[0m\u001b[1;33m\u001b[0m\u001b[0m\n",
      "\u001b[1;32m~\\anaconda3\\lib\\site-packages\\joblib\\parallel.py\u001b[0m in \u001b[0;36m__call__\u001b[1;34m(self, iterable)\u001b[0m\n\u001b[0;32m   1005\u001b[0m                 \u001b[0mself\u001b[0m\u001b[1;33m.\u001b[0m\u001b[0m_iterating\u001b[0m \u001b[1;33m=\u001b[0m \u001b[0mself\u001b[0m\u001b[1;33m.\u001b[0m\u001b[0m_original_iterator\u001b[0m \u001b[1;32mis\u001b[0m \u001b[1;32mnot\u001b[0m \u001b[1;32mNone\u001b[0m\u001b[1;33m\u001b[0m\u001b[1;33m\u001b[0m\u001b[0m\n\u001b[0;32m   1006\u001b[0m \u001b[1;33m\u001b[0m\u001b[0m\n\u001b[1;32m-> 1007\u001b[1;33m             \u001b[1;32mwhile\u001b[0m \u001b[0mself\u001b[0m\u001b[1;33m.\u001b[0m\u001b[0mdispatch_one_batch\u001b[0m\u001b[1;33m(\u001b[0m\u001b[0miterator\u001b[0m\u001b[1;33m)\u001b[0m\u001b[1;33m:\u001b[0m\u001b[1;33m\u001b[0m\u001b[1;33m\u001b[0m\u001b[0m\n\u001b[0m\u001b[0;32m   1008\u001b[0m                 \u001b[1;32mpass\u001b[0m\u001b[1;33m\u001b[0m\u001b[1;33m\u001b[0m\u001b[0m\n\u001b[0;32m   1009\u001b[0m \u001b[1;33m\u001b[0m\u001b[0m\n",
      "\u001b[1;32m~\\anaconda3\\lib\\site-packages\\joblib\\parallel.py\u001b[0m in \u001b[0;36mdispatch_one_batch\u001b[1;34m(self, iterator)\u001b[0m\n\u001b[0;32m    833\u001b[0m                 \u001b[1;32mreturn\u001b[0m \u001b[1;32mFalse\u001b[0m\u001b[1;33m\u001b[0m\u001b[1;33m\u001b[0m\u001b[0m\n\u001b[0;32m    834\u001b[0m             \u001b[1;32melse\u001b[0m\u001b[1;33m:\u001b[0m\u001b[1;33m\u001b[0m\u001b[1;33m\u001b[0m\u001b[0m\n\u001b[1;32m--> 835\u001b[1;33m                 \u001b[0mself\u001b[0m\u001b[1;33m.\u001b[0m\u001b[0m_dispatch\u001b[0m\u001b[1;33m(\u001b[0m\u001b[0mtasks\u001b[0m\u001b[1;33m)\u001b[0m\u001b[1;33m\u001b[0m\u001b[1;33m\u001b[0m\u001b[0m\n\u001b[0m\u001b[0;32m    836\u001b[0m                 \u001b[1;32mreturn\u001b[0m \u001b[1;32mTrue\u001b[0m\u001b[1;33m\u001b[0m\u001b[1;33m\u001b[0m\u001b[0m\n\u001b[0;32m    837\u001b[0m \u001b[1;33m\u001b[0m\u001b[0m\n",
      "\u001b[1;32m~\\anaconda3\\lib\\site-packages\\joblib\\parallel.py\u001b[0m in \u001b[0;36m_dispatch\u001b[1;34m(self, batch)\u001b[0m\n\u001b[0;32m    752\u001b[0m         \u001b[1;32mwith\u001b[0m \u001b[0mself\u001b[0m\u001b[1;33m.\u001b[0m\u001b[0m_lock\u001b[0m\u001b[1;33m:\u001b[0m\u001b[1;33m\u001b[0m\u001b[1;33m\u001b[0m\u001b[0m\n\u001b[0;32m    753\u001b[0m             \u001b[0mjob_idx\u001b[0m \u001b[1;33m=\u001b[0m \u001b[0mlen\u001b[0m\u001b[1;33m(\u001b[0m\u001b[0mself\u001b[0m\u001b[1;33m.\u001b[0m\u001b[0m_jobs\u001b[0m\u001b[1;33m)\u001b[0m\u001b[1;33m\u001b[0m\u001b[1;33m\u001b[0m\u001b[0m\n\u001b[1;32m--> 754\u001b[1;33m             \u001b[0mjob\u001b[0m \u001b[1;33m=\u001b[0m \u001b[0mself\u001b[0m\u001b[1;33m.\u001b[0m\u001b[0m_backend\u001b[0m\u001b[1;33m.\u001b[0m\u001b[0mapply_async\u001b[0m\u001b[1;33m(\u001b[0m\u001b[0mbatch\u001b[0m\u001b[1;33m,\u001b[0m \u001b[0mcallback\u001b[0m\u001b[1;33m=\u001b[0m\u001b[0mcb\u001b[0m\u001b[1;33m)\u001b[0m\u001b[1;33m\u001b[0m\u001b[1;33m\u001b[0m\u001b[0m\n\u001b[0m\u001b[0;32m    755\u001b[0m             \u001b[1;31m# A job can complete so quickly than its callback is\u001b[0m\u001b[1;33m\u001b[0m\u001b[1;33m\u001b[0m\u001b[1;33m\u001b[0m\u001b[0m\n\u001b[0;32m    756\u001b[0m             \u001b[1;31m# called before we get here, causing self._jobs to\u001b[0m\u001b[1;33m\u001b[0m\u001b[1;33m\u001b[0m\u001b[1;33m\u001b[0m\u001b[0m\n",
      "\u001b[1;32m~\\anaconda3\\lib\\site-packages\\joblib\\_parallel_backends.py\u001b[0m in \u001b[0;36mapply_async\u001b[1;34m(self, func, callback)\u001b[0m\n\u001b[0;32m    207\u001b[0m     \u001b[1;32mdef\u001b[0m \u001b[0mapply_async\u001b[0m\u001b[1;33m(\u001b[0m\u001b[0mself\u001b[0m\u001b[1;33m,\u001b[0m \u001b[0mfunc\u001b[0m\u001b[1;33m,\u001b[0m \u001b[0mcallback\u001b[0m\u001b[1;33m=\u001b[0m\u001b[1;32mNone\u001b[0m\u001b[1;33m)\u001b[0m\u001b[1;33m:\u001b[0m\u001b[1;33m\u001b[0m\u001b[1;33m\u001b[0m\u001b[0m\n\u001b[0;32m    208\u001b[0m         \u001b[1;34m\"\"\"Schedule a func to be run\"\"\"\u001b[0m\u001b[1;33m\u001b[0m\u001b[1;33m\u001b[0m\u001b[0m\n\u001b[1;32m--> 209\u001b[1;33m         \u001b[0mresult\u001b[0m \u001b[1;33m=\u001b[0m \u001b[0mImmediateResult\u001b[0m\u001b[1;33m(\u001b[0m\u001b[0mfunc\u001b[0m\u001b[1;33m)\u001b[0m\u001b[1;33m\u001b[0m\u001b[1;33m\u001b[0m\u001b[0m\n\u001b[0m\u001b[0;32m    210\u001b[0m         \u001b[1;32mif\u001b[0m \u001b[0mcallback\u001b[0m\u001b[1;33m:\u001b[0m\u001b[1;33m\u001b[0m\u001b[1;33m\u001b[0m\u001b[0m\n\u001b[0;32m    211\u001b[0m             \u001b[0mcallback\u001b[0m\u001b[1;33m(\u001b[0m\u001b[0mresult\u001b[0m\u001b[1;33m)\u001b[0m\u001b[1;33m\u001b[0m\u001b[1;33m\u001b[0m\u001b[0m\n",
      "\u001b[1;32m~\\anaconda3\\lib\\site-packages\\joblib\\_parallel_backends.py\u001b[0m in \u001b[0;36m__init__\u001b[1;34m(self, batch)\u001b[0m\n\u001b[0;32m    588\u001b[0m         \u001b[1;31m# Don't delay the application, to avoid keeping the input\u001b[0m\u001b[1;33m\u001b[0m\u001b[1;33m\u001b[0m\u001b[1;33m\u001b[0m\u001b[0m\n\u001b[0;32m    589\u001b[0m         \u001b[1;31m# arguments in memory\u001b[0m\u001b[1;33m\u001b[0m\u001b[1;33m\u001b[0m\u001b[1;33m\u001b[0m\u001b[0m\n\u001b[1;32m--> 590\u001b[1;33m         \u001b[0mself\u001b[0m\u001b[1;33m.\u001b[0m\u001b[0mresults\u001b[0m \u001b[1;33m=\u001b[0m \u001b[0mbatch\u001b[0m\u001b[1;33m(\u001b[0m\u001b[1;33m)\u001b[0m\u001b[1;33m\u001b[0m\u001b[1;33m\u001b[0m\u001b[0m\n\u001b[0m\u001b[0;32m    591\u001b[0m \u001b[1;33m\u001b[0m\u001b[0m\n\u001b[0;32m    592\u001b[0m     \u001b[1;32mdef\u001b[0m \u001b[0mget\u001b[0m\u001b[1;33m(\u001b[0m\u001b[0mself\u001b[0m\u001b[1;33m)\u001b[0m\u001b[1;33m:\u001b[0m\u001b[1;33m\u001b[0m\u001b[1;33m\u001b[0m\u001b[0m\n",
      "\u001b[1;32m~\\anaconda3\\lib\\site-packages\\joblib\\parallel.py\u001b[0m in \u001b[0;36m__call__\u001b[1;34m(self)\u001b[0m\n\u001b[0;32m    254\u001b[0m         \u001b[1;32mwith\u001b[0m \u001b[0mparallel_backend\u001b[0m\u001b[1;33m(\u001b[0m\u001b[0mself\u001b[0m\u001b[1;33m.\u001b[0m\u001b[0m_backend\u001b[0m\u001b[1;33m,\u001b[0m \u001b[0mn_jobs\u001b[0m\u001b[1;33m=\u001b[0m\u001b[0mself\u001b[0m\u001b[1;33m.\u001b[0m\u001b[0m_n_jobs\u001b[0m\u001b[1;33m)\u001b[0m\u001b[1;33m:\u001b[0m\u001b[1;33m\u001b[0m\u001b[1;33m\u001b[0m\u001b[0m\n\u001b[0;32m    255\u001b[0m             return [func(*args, **kwargs)\n\u001b[1;32m--> 256\u001b[1;33m                     for func, args, kwargs in self.items]\n\u001b[0m\u001b[0;32m    257\u001b[0m \u001b[1;33m\u001b[0m\u001b[0m\n\u001b[0;32m    258\u001b[0m     \u001b[1;32mdef\u001b[0m \u001b[0m__len__\u001b[0m\u001b[1;33m(\u001b[0m\u001b[0mself\u001b[0m\u001b[1;33m)\u001b[0m\u001b[1;33m:\u001b[0m\u001b[1;33m\u001b[0m\u001b[1;33m\u001b[0m\u001b[0m\n",
      "\u001b[1;32m~\\anaconda3\\lib\\site-packages\\joblib\\parallel.py\u001b[0m in \u001b[0;36m<listcomp>\u001b[1;34m(.0)\u001b[0m\n\u001b[0;32m    254\u001b[0m         \u001b[1;32mwith\u001b[0m \u001b[0mparallel_backend\u001b[0m\u001b[1;33m(\u001b[0m\u001b[0mself\u001b[0m\u001b[1;33m.\u001b[0m\u001b[0m_backend\u001b[0m\u001b[1;33m,\u001b[0m \u001b[0mn_jobs\u001b[0m\u001b[1;33m=\u001b[0m\u001b[0mself\u001b[0m\u001b[1;33m.\u001b[0m\u001b[0m_n_jobs\u001b[0m\u001b[1;33m)\u001b[0m\u001b[1;33m:\u001b[0m\u001b[1;33m\u001b[0m\u001b[1;33m\u001b[0m\u001b[0m\n\u001b[0;32m    255\u001b[0m             return [func(*args, **kwargs)\n\u001b[1;32m--> 256\u001b[1;33m                     for func, args, kwargs in self.items]\n\u001b[0m\u001b[0;32m    257\u001b[0m \u001b[1;33m\u001b[0m\u001b[0m\n\u001b[0;32m    258\u001b[0m     \u001b[1;32mdef\u001b[0m \u001b[0m__len__\u001b[0m\u001b[1;33m(\u001b[0m\u001b[0mself\u001b[0m\u001b[1;33m)\u001b[0m\u001b[1;33m:\u001b[0m\u001b[1;33m\u001b[0m\u001b[1;33m\u001b[0m\u001b[0m\n",
      "\u001b[1;32m~\\anaconda3\\lib\\site-packages\\sklearn\\model_selection\\_validation.py\u001b[0m in \u001b[0;36m_fit_and_score\u001b[1;34m(estimator, X, y, scorer, train, test, verbose, parameters, fit_params, return_train_score, return_parameters, return_n_test_samples, return_times, return_estimator, error_score)\u001b[0m\n\u001b[0;32m    513\u001b[0m             \u001b[0mestimator\u001b[0m\u001b[1;33m.\u001b[0m\u001b[0mfit\u001b[0m\u001b[1;33m(\u001b[0m\u001b[0mX_train\u001b[0m\u001b[1;33m,\u001b[0m \u001b[1;33m**\u001b[0m\u001b[0mfit_params\u001b[0m\u001b[1;33m)\u001b[0m\u001b[1;33m\u001b[0m\u001b[1;33m\u001b[0m\u001b[0m\n\u001b[0;32m    514\u001b[0m         \u001b[1;32melse\u001b[0m\u001b[1;33m:\u001b[0m\u001b[1;33m\u001b[0m\u001b[1;33m\u001b[0m\u001b[0m\n\u001b[1;32m--> 515\u001b[1;33m             \u001b[0mestimator\u001b[0m\u001b[1;33m.\u001b[0m\u001b[0mfit\u001b[0m\u001b[1;33m(\u001b[0m\u001b[0mX_train\u001b[0m\u001b[1;33m,\u001b[0m \u001b[0my_train\u001b[0m\u001b[1;33m,\u001b[0m \u001b[1;33m**\u001b[0m\u001b[0mfit_params\u001b[0m\u001b[1;33m)\u001b[0m\u001b[1;33m\u001b[0m\u001b[1;33m\u001b[0m\u001b[0m\n\u001b[0m\u001b[0;32m    516\u001b[0m \u001b[1;33m\u001b[0m\u001b[0m\n\u001b[0;32m    517\u001b[0m     \u001b[1;32mexcept\u001b[0m \u001b[0mException\u001b[0m \u001b[1;32mas\u001b[0m \u001b[0me\u001b[0m\u001b[1;33m:\u001b[0m\u001b[1;33m\u001b[0m\u001b[1;33m\u001b[0m\u001b[0m\n",
      "\u001b[1;32m~\\anaconda3\\lib\\site-packages\\sklearn\\ensemble\\_forest.py\u001b[0m in \u001b[0;36mfit\u001b[1;34m(self, X, y, sample_weight)\u001b[0m\n\u001b[0;32m    387\u001b[0m \u001b[1;33m\u001b[0m\u001b[0m\n\u001b[0;32m    388\u001b[0m         \u001b[1;32mif\u001b[0m \u001b[0mself\u001b[0m\u001b[1;33m.\u001b[0m\u001b[0moob_score\u001b[0m\u001b[1;33m:\u001b[0m\u001b[1;33m\u001b[0m\u001b[1;33m\u001b[0m\u001b[0m\n\u001b[1;32m--> 389\u001b[1;33m             \u001b[0mself\u001b[0m\u001b[1;33m.\u001b[0m\u001b[0m_set_oob_score\u001b[0m\u001b[1;33m(\u001b[0m\u001b[0mX\u001b[0m\u001b[1;33m,\u001b[0m \u001b[0my\u001b[0m\u001b[1;33m)\u001b[0m\u001b[1;33m\u001b[0m\u001b[1;33m\u001b[0m\u001b[0m\n\u001b[0m\u001b[0;32m    390\u001b[0m \u001b[1;33m\u001b[0m\u001b[0m\n\u001b[0;32m    391\u001b[0m         \u001b[1;31m# Decapsulate classes_ attributes\u001b[0m\u001b[1;33m\u001b[0m\u001b[1;33m\u001b[0m\u001b[1;33m\u001b[0m\u001b[0m\n",
      "\u001b[1;32m~\\anaconda3\\lib\\site-packages\\sklearn\\ensemble\\_forest.py\u001b[0m in \u001b[0;36m_set_oob_score\u001b[1;34m(self, X, y)\u001b[0m\n\u001b[0;32m    511\u001b[0m                 estimator.random_state, n_samples, n_samples_bootstrap)\n\u001b[0;32m    512\u001b[0m             p_estimator = estimator.predict_proba(X[unsampled_indices, :],\n\u001b[1;32m--> 513\u001b[1;33m                                                   check_input=False)\n\u001b[0m\u001b[0;32m    514\u001b[0m \u001b[1;33m\u001b[0m\u001b[0m\n\u001b[0;32m    515\u001b[0m             \u001b[1;32mif\u001b[0m \u001b[0mself\u001b[0m\u001b[1;33m.\u001b[0m\u001b[0mn_outputs_\u001b[0m \u001b[1;33m==\u001b[0m \u001b[1;36m1\u001b[0m\u001b[1;33m:\u001b[0m\u001b[1;33m\u001b[0m\u001b[1;33m\u001b[0m\u001b[0m\n",
      "\u001b[1;32m~\\anaconda3\\lib\\site-packages\\sklearn\\tree\\_classes.py\u001b[0m in \u001b[0;36mpredict_proba\u001b[1;34m(self, X, check_input)\u001b[0m\n\u001b[0;32m    904\u001b[0m         \u001b[0mcheck_is_fitted\u001b[0m\u001b[1;33m(\u001b[0m\u001b[0mself\u001b[0m\u001b[1;33m)\u001b[0m\u001b[1;33m\u001b[0m\u001b[1;33m\u001b[0m\u001b[0m\n\u001b[0;32m    905\u001b[0m         \u001b[0mX\u001b[0m \u001b[1;33m=\u001b[0m \u001b[0mself\u001b[0m\u001b[1;33m.\u001b[0m\u001b[0m_validate_X_predict\u001b[0m\u001b[1;33m(\u001b[0m\u001b[0mX\u001b[0m\u001b[1;33m,\u001b[0m \u001b[0mcheck_input\u001b[0m\u001b[1;33m)\u001b[0m\u001b[1;33m\u001b[0m\u001b[1;33m\u001b[0m\u001b[0m\n\u001b[1;32m--> 906\u001b[1;33m         \u001b[0mproba\u001b[0m \u001b[1;33m=\u001b[0m \u001b[0mself\u001b[0m\u001b[1;33m.\u001b[0m\u001b[0mtree_\u001b[0m\u001b[1;33m.\u001b[0m\u001b[0mpredict\u001b[0m\u001b[1;33m(\u001b[0m\u001b[0mX\u001b[0m\u001b[1;33m)\u001b[0m\u001b[1;33m\u001b[0m\u001b[1;33m\u001b[0m\u001b[0m\n\u001b[0m\u001b[0;32m    907\u001b[0m \u001b[1;33m\u001b[0m\u001b[0m\n\u001b[0;32m    908\u001b[0m         \u001b[1;32mif\u001b[0m \u001b[0mself\u001b[0m\u001b[1;33m.\u001b[0m\u001b[0mn_outputs_\u001b[0m \u001b[1;33m==\u001b[0m \u001b[1;36m1\u001b[0m\u001b[1;33m:\u001b[0m\u001b[1;33m\u001b[0m\u001b[1;33m\u001b[0m\u001b[0m\n",
      "\u001b[1;31mKeyboardInterrupt\u001b[0m: "
     ]
    }
   ],
   "source": [
    "#####FINDING BEST PARAMETER######\n",
    "param_grid = { \"criterion\" : [\"gini\", \"entropy\"], \"min_samples_leaf\" : [1, 5, 10, 25, 50, 70], \"min_samples_split\" : [2, 4, 10, 12, 16, 18, 25, 35], \"n_estimators\": [100, 400, 700, 1000, 1500]}\n",
    "from sklearn.model_selection import GridSearchCV, cross_val_score\n",
    "rf = RandomForestClassifier(n_estimators=100, max_features='auto', oob_score=True, random_state=1, n_jobs=1)\n",
    "clf = GridSearchCV(estimator=rf, param_grid=param_grid, n_jobs=1)\n",
    "clf.fit(x_train, y_train)\n",
    "print(clf.best_estimator_)"
   ]
  },
  {
   "cell_type": "code",
   "execution_count": 62,
   "metadata": {},
   "outputs": [
    {
     "name": "stdout",
     "output_type": "stream",
     "text": [
      "0:\tlearn: 1.0809359\ttest: 1.0809359\ttest1: 1.0814830\tbest: 1.0814830 (0)\ttotal: 52.9ms\tremaining: 4m 24s\n",
      "200:\tlearn: 0.7462625\ttest: 0.7462625\ttest1: 0.7585983\tbest: 0.7585983 (200)\ttotal: 11.4s\tremaining: 4m 31s\n",
      "400:\tlearn: 0.7366331\ttest: 0.7366331\ttest1: 0.7505958\tbest: 0.7505958 (400)\ttotal: 22.4s\tremaining: 4m 17s\n",
      "600:\tlearn: 0.7319192\ttest: 0.7319192\ttest1: 0.7477018\tbest: 0.7477018 (600)\ttotal: 33.5s\tremaining: 4m 4s\n",
      "800:\tlearn: 0.7287867\ttest: 0.7287867\ttest1: 0.7463007\tbest: 0.7463007 (800)\ttotal: 44.5s\tremaining: 3m 53s\n",
      "1000:\tlearn: 0.7262491\ttest: 0.7262491\ttest1: 0.7453492\tbest: 0.7453452 (999)\ttotal: 55.8s\tremaining: 3m 43s\n",
      "1200:\tlearn: 0.7240709\ttest: 0.7240709\ttest1: 0.7448510\tbest: 0.7448510 (1200)\ttotal: 1m 6s\tremaining: 3m 31s\n",
      "1400:\tlearn: 0.7220261\ttest: 0.7220261\ttest1: 0.7444959\tbest: 0.7444836 (1392)\ttotal: 1m 19s\tremaining: 3m 23s\n",
      "1600:\tlearn: 0.7202274\ttest: 0.7202274\ttest1: 0.7442692\tbest: 0.7442502 (1594)\ttotal: 1m 30s\tremaining: 3m 11s\n",
      "1800:\tlearn: 0.7185446\ttest: 0.7185446\ttest1: 0.7441395\tbest: 0.7441130 (1770)\ttotal: 1m 41s\tremaining: 2m 59s\n",
      "2000:\tlearn: 0.7168987\ttest: 0.7168987\ttest1: 0.7441868\tbest: 0.7441052 (1841)\ttotal: 1m 52s\tremaining: 2m 48s\n",
      "Stopped by overfitting detector  (200 iterations wait)\n",
      "\n",
      "bestTest = 0.7441051867\n",
      "bestIteration = 1841\n",
      "\n",
      "Shrink model to first 1842 iterations.\n",
      "1  err_lgm:  0.6837548416495784\n",
      "0:\tlearn: 1.0810588\ttest: 1.0810588\ttest1: 1.0806455\tbest: 1.0806455 (0)\ttotal: 94.8ms\tremaining: 7m 54s\n",
      "200:\tlearn: 0.7478202\ttest: 0.7478202\ttest1: 0.7392698\tbest: 0.7392698 (200)\ttotal: 11.7s\tremaining: 4m 38s\n",
      "400:\tlearn: 0.7380365\ttest: 0.7380365\ttest1: 0.7314973\tbest: 0.7314973 (400)\ttotal: 22.6s\tremaining: 4m 19s\n",
      "600:\tlearn: 0.7331176\ttest: 0.7331176\ttest1: 0.7287811\tbest: 0.7287811 (600)\ttotal: 33.8s\tremaining: 4m 7s\n",
      "800:\tlearn: 0.7298882\ttest: 0.7298882\ttest1: 0.7276980\tbest: 0.7276965 (799)\ttotal: 44.8s\tremaining: 3m 54s\n",
      "1000:\tlearn: 0.7273585\ttest: 0.7273585\ttest1: 0.7270947\tbest: 0.7270926 (996)\ttotal: 55.3s\tremaining: 3m 40s\n",
      "1200:\tlearn: 0.7252066\ttest: 0.7252066\ttest1: 0.7268603\tbest: 0.7268497 (1186)\ttotal: 1m 5s\tremaining: 3m 27s\n",
      "1400:\tlearn: 0.7233030\ttest: 0.7233030\ttest1: 0.7267006\tbest: 0.7267006 (1400)\ttotal: 1m 15s\tremaining: 3m 14s\n",
      "1600:\tlearn: 0.7214652\ttest: 0.7214652\ttest1: 0.7266166\tbest: 0.7265583 (1563)\ttotal: 1m 25s\tremaining: 3m 2s\n",
      "1800:\tlearn: 0.7197774\ttest: 0.7197774\ttest1: 0.7265377\tbest: 0.7265284 (1689)\ttotal: 1m 36s\tremaining: 2m 50s\n",
      "2000:\tlearn: 0.7181715\ttest: 0.7181715\ttest1: 0.7262907\tbest: 0.7262822 (1980)\ttotal: 1m 47s\tremaining: 2m 40s\n",
      "2200:\tlearn: 0.7166457\ttest: 0.7166457\ttest1: 0.7262125\tbest: 0.7261979 (2186)\ttotal: 1m 58s\tremaining: 2m 30s\n",
      "2400:\tlearn: 0.7151435\ttest: 0.7151435\ttest1: 0.7262403\tbest: 0.7261824 (2261)\ttotal: 2m 9s\tremaining: 2m 19s\n",
      "Stopped by overfitting detector  (200 iterations wait)\n",
      "\n",
      "bestTest = 0.7261823723\n",
      "bestIteration = 2261\n",
      "\n",
      "Shrink model to first 2262 iterations.\n",
      "2  err_lgm:  0.6919571656413762\n",
      "0:\tlearn: 1.0809860\ttest: 1.0809860\ttest1: 1.0810488\tbest: 1.0810488 (0)\ttotal: 62.4ms\tremaining: 5m 11s\n",
      "200:\tlearn: 0.7469678\ttest: 0.7469678\ttest1: 0.7494543\tbest: 0.7494543 (200)\ttotal: 12s\tremaining: 4m 47s\n",
      "400:\tlearn: 0.7371783\ttest: 0.7371783\ttest1: 0.7417522\tbest: 0.7417522 (400)\ttotal: 23s\tremaining: 4m 23s\n",
      "600:\tlearn: 0.7324588\ttest: 0.7324588\ttest1: 0.7393108\tbest: 0.7393108 (600)\ttotal: 33.9s\tremaining: 4m 7s\n",
      "800:\tlearn: 0.7292280\ttest: 0.7292280\ttest1: 0.7380694\tbest: 0.7380694 (800)\ttotal: 44.9s\tremaining: 3m 55s\n",
      "1000:\tlearn: 0.7266763\ttest: 0.7266763\ttest1: 0.7374284\tbest: 0.7374244 (999)\ttotal: 55.7s\tremaining: 3m 42s\n",
      "1200:\tlearn: 0.7245514\ttest: 0.7245514\ttest1: 0.7371634\tbest: 0.7371634 (1200)\ttotal: 1m 6s\tremaining: 3m 30s\n",
      "1400:\tlearn: 0.7225819\ttest: 0.7225819\ttest1: 0.7368425\tbest: 0.7368342 (1398)\ttotal: 1m 17s\tremaining: 3m 19s\n",
      "1600:\tlearn: 0.7208210\ttest: 0.7208210\ttest1: 0.7368236\tbest: 0.7368050 (1572)\ttotal: 1m 28s\tremaining: 3m 8s\n",
      "1800:\tlearn: 0.7191306\ttest: 0.7191306\ttest1: 0.7367189\tbest: 0.7366975 (1784)\ttotal: 1m 39s\tremaining: 2m 57s\n",
      "2000:\tlearn: 0.7174590\ttest: 0.7174590\ttest1: 0.7366694\tbest: 0.7365912 (1868)\ttotal: 1m 50s\tremaining: 2m 45s\n",
      "Stopped by overfitting detector  (200 iterations wait)\n",
      "\n",
      "bestTest = 0.7365911767\n",
      "bestIteration = 1868\n",
      "\n",
      "Shrink model to first 1869 iterations.\n",
      "3  err_lgm:  0.6868307131465026\n",
      "0:\tlearn: 1.0809930\ttest: 1.0809930\ttest1: 1.0810597\tbest: 1.0810597 (0)\ttotal: 84.3ms\tremaining: 7m 1s\n",
      "200:\tlearn: 0.7467986\ttest: 0.7467986\ttest1: 0.7526451\tbest: 0.7526451 (200)\ttotal: 11.6s\tremaining: 4m 36s\n",
      "400:\tlearn: 0.7370131\ttest: 0.7370131\ttest1: 0.7457744\tbest: 0.7457744 (400)\ttotal: 22.9s\tremaining: 4m 22s\n",
      "600:\tlearn: 0.7322749\ttest: 0.7322749\ttest1: 0.7431807\tbest: 0.7431800 (599)\ttotal: 34s\tremaining: 4m 8s\n",
      "800:\tlearn: 0.7290758\ttest: 0.7290758\ttest1: 0.7420459\tbest: 0.7420459 (800)\ttotal: 45.1s\tremaining: 3m 56s\n",
      "1000:\tlearn: 0.7266027\ttest: 0.7266027\ttest1: 0.7414703\tbest: 0.7414679 (989)\ttotal: 56.2s\tremaining: 3m 44s\n",
      "1200:\tlearn: 0.7244156\ttest: 0.7244156\ttest1: 0.7409807\tbest: 0.7409680 (1194)\ttotal: 1m 7s\tremaining: 3m 32s\n",
      "1400:\tlearn: 0.7224733\ttest: 0.7224733\ttest1: 0.7407625\tbest: 0.7407527 (1396)\ttotal: 1m 18s\tremaining: 3m 21s\n",
      "1600:\tlearn: 0.7206356\ttest: 0.7206356\ttest1: 0.7405285\tbest: 0.7405117 (1593)\ttotal: 1m 30s\tremaining: 3m 12s\n",
      "1800:\tlearn: 0.7189677\ttest: 0.7189677\ttest1: 0.7403728\tbest: 0.7403392 (1745)\ttotal: 1m 42s\tremaining: 3m 2s\n",
      "Stopped by overfitting detector  (200 iterations wait)\n",
      "\n",
      "bestTest = 0.7403392482\n",
      "bestIteration = 1745\n",
      "\n",
      "Shrink model to first 1746 iterations.\n",
      "4  err_lgm:  0.6901344269765323\n",
      "0:\tlearn: 1.0810056\ttest: 1.0810056\ttest1: 1.0809098\tbest: 1.0809098 (0)\ttotal: 69.3ms\tremaining: 5m 46s\n",
      "200:\tlearn: 0.7477114\ttest: 0.7477114\ttest1: 0.7424423\tbest: 0.7424423 (200)\ttotal: 12.3s\tremaining: 4m 54s\n",
      "400:\tlearn: 0.7378960\ttest: 0.7378960\ttest1: 0.7333201\tbest: 0.7333201 (400)\ttotal: 24s\tremaining: 4m 35s\n",
      "600:\tlearn: 0.7331361\ttest: 0.7331361\ttest1: 0.7302794\tbest: 0.7302794 (600)\ttotal: 35s\tremaining: 4m 15s\n",
      "800:\tlearn: 0.7298888\ttest: 0.7298888\ttest1: 0.7288831\tbest: 0.7288831 (800)\ttotal: 45.6s\tremaining: 3m 58s\n",
      "1000:\tlearn: 0.7274070\ttest: 0.7274070\ttest1: 0.7281473\tbest: 0.7281473 (1000)\ttotal: 56.5s\tremaining: 3m 45s\n",
      "1200:\tlearn: 0.7252607\ttest: 0.7252607\ttest1: 0.7278762\tbest: 0.7278555 (1194)\ttotal: 1m 7s\tremaining: 3m 33s\n",
      "1400:\tlearn: 0.7232527\ttest: 0.7232527\ttest1: 0.7276553\tbest: 0.7276492 (1374)\ttotal: 1m 18s\tremaining: 3m 22s\n",
      "1600:\tlearn: 0.7214595\ttest: 0.7214595\ttest1: 0.7276056\tbest: 0.7275496 (1524)\ttotal: 1m 29s\tremaining: 3m 10s\n",
      "1800:\tlearn: 0.7197264\ttest: 0.7197264\ttest1: 0.7275163\tbest: 0.7275095 (1788)\ttotal: 1m 40s\tremaining: 2m 58s\n",
      "2000:\tlearn: 0.7180630\ttest: 0.7180630\ttest1: 0.7275125\tbest: 0.7274376 (1873)\ttotal: 1m 51s\tremaining: 2m 46s\n",
      "Stopped by overfitting detector  (200 iterations wait)\n",
      "\n",
      "bestTest = 0.7274375929\n",
      "bestIteration = 1873\n",
      "\n",
      "Shrink model to first 1874 iterations.\n",
      "5  err_lgm:  0.6909318751424015\n",
      "0:\tlearn: 1.0810239\ttest: 1.0810239\ttest1: 1.0808378\tbest: 1.0808378 (0)\ttotal: 60.5ms\tremaining: 5m 2s\n",
      "200:\tlearn: 0.7473605\ttest: 0.7473605\ttest1: 0.7441288\tbest: 0.7441288 (200)\ttotal: 11.4s\tremaining: 4m 31s\n",
      "400:\tlearn: 0.7377161\ttest: 0.7377161\ttest1: 0.7354262\tbest: 0.7354262 (400)\ttotal: 23.4s\tremaining: 4m 28s\n",
      "600:\tlearn: 0.7330581\ttest: 0.7330581\ttest1: 0.7318712\tbest: 0.7318712 (600)\ttotal: 34.9s\tremaining: 4m 15s\n",
      "800:\tlearn: 0.7298767\ttest: 0.7298767\ttest1: 0.7299830\tbest: 0.7299830 (800)\ttotal: 45.8s\tremaining: 4m\n",
      "1000:\tlearn: 0.7273354\ttest: 0.7273354\ttest1: 0.7289432\tbest: 0.7289432 (1000)\ttotal: 56.7s\tremaining: 3m 46s\n",
      "1200:\tlearn: 0.7251690\ttest: 0.7251690\ttest1: 0.7282423\tbest: 0.7282423 (1200)\ttotal: 1m 7s\tremaining: 3m 33s\n",
      "1400:\tlearn: 0.7231718\ttest: 0.7231718\ttest1: 0.7278121\tbest: 0.7278096 (1398)\ttotal: 1m 18s\tremaining: 3m 21s\n",
      "1600:\tlearn: 0.7213761\ttest: 0.7213761\ttest1: 0.7275675\tbest: 0.7275633 (1599)\ttotal: 1m 29s\tremaining: 3m 10s\n",
      "1800:\tlearn: 0.7196290\ttest: 0.7196290\ttest1: 0.7273235\tbest: 0.7273173 (1798)\ttotal: 1m 40s\tremaining: 2m 58s\n",
      "2000:\tlearn: 0.7179883\ttest: 0.7179883\ttest1: 0.7271127\tbest: 0.7271127 (2000)\ttotal: 1m 51s\tremaining: 2m 47s\n",
      "2200:\tlearn: 0.7164336\ttest: 0.7164336\ttest1: 0.7270372\tbest: 0.7270351 (2199)\ttotal: 2m 2s\tremaining: 2m 35s\n",
      "2400:\tlearn: 0.7149299\ttest: 0.7149299\ttest1: 0.7270650\tbest: 0.7270024 (2222)\ttotal: 2m 13s\tremaining: 2m 24s\n",
      "Stopped by overfitting detector  (200 iterations wait)\n",
      "\n",
      "bestTest = 0.7270024075\n",
      "bestIteration = 2222\n",
      "\n",
      "Shrink model to first 2223 iterations.\n",
      "6  err_lgm:  0.6927546138072453\n",
      "0:\tlearn: 1.0809786\ttest: 1.0809786\ttest1: 1.0811574\tbest: 1.0811574 (0)\ttotal: 65.2ms\tremaining: 5m 25s\n",
      "200:\tlearn: 0.7466709\ttest: 0.7466709\ttest1: 0.7537678\tbest: 0.7537678 (200)\ttotal: 11.4s\tremaining: 4m 33s\n",
      "400:\tlearn: 0.7371394\ttest: 0.7371394\ttest1: 0.7448682\tbest: 0.7448682 (400)\ttotal: 22s\tremaining: 4m 11s\n",
      "600:\tlearn: 0.7324703\ttest: 0.7324703\ttest1: 0.7414770\tbest: 0.7414770 (600)\ttotal: 32s\tremaining: 3m 54s\n",
      "800:\tlearn: 0.7293436\ttest: 0.7293436\ttest1: 0.7397899\tbest: 0.7397899 (800)\ttotal: 42s\tremaining: 3m 40s\n",
      "1000:\tlearn: 0.7268243\ttest: 0.7268243\ttest1: 0.7388332\tbest: 0.7388332 (1000)\ttotal: 52.2s\tremaining: 3m 28s\n",
      "1200:\tlearn: 0.7246914\ttest: 0.7246914\ttest1: 0.7382691\tbest: 0.7382691 (1200)\ttotal: 1m 2s\tremaining: 3m 18s\n",
      "1400:\tlearn: 0.7226909\ttest: 0.7226909\ttest1: 0.7376655\tbest: 0.7376655 (1400)\ttotal: 1m 13s\tremaining: 3m 8s\n",
      "1600:\tlearn: 0.7209187\ttest: 0.7209187\ttest1: 0.7374154\tbest: 0.7374154 (1600)\ttotal: 1m 23s\tremaining: 2m 57s\n",
      "1800:\tlearn: 0.7192734\ttest: 0.7192734\ttest1: 0.7372033\tbest: 0.7371904 (1796)\ttotal: 1m 33s\tremaining: 2m 46s\n",
      "2000:\tlearn: 0.7176853\ttest: 0.7176853\ttest1: 0.7370356\tbest: 0.7370356 (2000)\ttotal: 1m 43s\tremaining: 2m 35s\n",
      "2200:\tlearn: 0.7161268\ttest: 0.7161268\ttest1: 0.7368951\tbest: 0.7368917 (2199)\ttotal: 1m 54s\tremaining: 2m 25s\n",
      "2400:\tlearn: 0.7146325\ttest: 0.7146325\ttest1: 0.7367427\tbest: 0.7367356 (2394)\ttotal: 2m 4s\tremaining: 2m 14s\n",
      "2600:\tlearn: 0.7131720\ttest: 0.7131720\ttest1: 0.7366140\tbest: 0.7366064 (2595)\ttotal: 2m 14s\tremaining: 2m 4s\n",
      "2800:\tlearn: 0.7117894\ttest: 0.7117894\ttest1: 0.7365694\tbest: 0.7365573 (2792)\ttotal: 2m 24s\tremaining: 1m 53s\n",
      "3000:\tlearn: 0.7104196\ttest: 0.7104196\ttest1: 0.7365367\tbest: 0.7365188 (2900)\ttotal: 2m 34s\tremaining: 1m 43s\n",
      "Stopped by overfitting detector  (200 iterations wait)\n",
      "\n",
      "bestTest = 0.7365187854\n",
      "bestIteration = 2900\n",
      "\n",
      "Shrink model to first 2901 iterations.\n",
      "7  err_lgm:  0.6862611073137389\n",
      "0:\tlearn: 1.0809967\ttest: 1.0809967\ttest1: 1.0810670\tbest: 1.0810670 (0)\ttotal: 51.4ms\tremaining: 4m 16s\n",
      "200:\tlearn: 0.7470911\ttest: 0.7470911\ttest1: 0.7491917\tbest: 0.7491917 (200)\ttotal: 10.5s\tremaining: 4m 11s\n",
      "400:\tlearn: 0.7374144\ttest: 0.7374144\ttest1: 0.7403747\tbest: 0.7403747 (400)\ttotal: 20.4s\tremaining: 3m 53s\n",
      "600:\tlearn: 0.7327361\ttest: 0.7327361\ttest1: 0.7368904\tbest: 0.7368904 (600)\ttotal: 30.4s\tremaining: 3m 42s\n",
      "800:\tlearn: 0.7296003\ttest: 0.7296003\ttest1: 0.7352042\tbest: 0.7352042 (800)\ttotal: 40.2s\tremaining: 3m 30s\n",
      "1000:\tlearn: 0.7269386\ttest: 0.7269386\ttest1: 0.7341315\tbest: 0.7341315 (1000)\ttotal: 50.1s\tremaining: 3m 20s\n",
      "1200:\tlearn: 0.7247688\ttest: 0.7247688\ttest1: 0.7333710\tbest: 0.7333610 (1197)\ttotal: 1m\tremaining: 3m 9s\n",
      "1400:\tlearn: 0.7228807\ttest: 0.7228807\ttest1: 0.7330375\tbest: 0.7330135 (1388)\ttotal: 1m 9s\tremaining: 2m 59s\n",
      "1600:\tlearn: 0.7210734\ttest: 0.7210734\ttest1: 0.7328348\tbest: 0.7328007 (1563)\ttotal: 1m 19s\tremaining: 2m 49s\n",
      "1800:\tlearn: 0.7193881\ttest: 0.7193881\ttest1: 0.7327548\tbest: 0.7327251 (1771)\ttotal: 1m 29s\tremaining: 2m 39s\n",
      "2000:\tlearn: 0.7178423\ttest: 0.7178423\ttest1: 0.7326605\tbest: 0.7326507 (1997)\ttotal: 1m 39s\tremaining: 2m 29s\n",
      "2200:\tlearn: 0.7162673\ttest: 0.7162673\ttest1: 0.7325555\tbest: 0.7325217 (2162)\ttotal: 1m 50s\tremaining: 2m 20s\n",
      "2400:\tlearn: 0.7147842\ttest: 0.7147842\ttest1: 0.7325084\tbest: 0.7325000 (2393)\ttotal: 1m 59s\tremaining: 2m 9s\n",
      "2600:\tlearn: 0.7133148\ttest: 0.7133148\ttest1: 0.7324774\tbest: 0.7324485 (2489)\ttotal: 2m 9s\tremaining: 1m 59s\n",
      "Stopped by overfitting detector  (200 iterations wait)\n",
      "\n",
      "bestTest = 0.732448492\n",
      "bestIteration = 2489\n",
      "\n",
      "Shrink model to first 2490 iterations.\n",
      "8  err_lgm:  0.6914663324598382\n",
      "0:\tlearn: 1.0809992\ttest: 1.0809992\ttest1: 1.0809539\tbest: 1.0809539 (0)\ttotal: 51.9ms\tremaining: 4m 19s\n",
      "200:\tlearn: 0.7469133\ttest: 0.7469133\ttest1: 0.7503839\tbest: 0.7503839 (200)\ttotal: 10.9s\tremaining: 4m 21s\n",
      "400:\tlearn: 0.7371974\ttest: 0.7371974\ttest1: 0.7430496\tbest: 0.7430496 (400)\ttotal: 21.1s\tremaining: 4m 1s\n",
      "600:\tlearn: 0.7323797\ttest: 0.7323797\ttest1: 0.7405195\tbest: 0.7405195 (600)\ttotal: 30.9s\tremaining: 3m 46s\n",
      "800:\tlearn: 0.7291707\ttest: 0.7291707\ttest1: 0.7392527\tbest: 0.7392527 (800)\ttotal: 40.9s\tremaining: 3m 34s\n",
      "1000:\tlearn: 0.7266213\ttest: 0.7266213\ttest1: 0.7386048\tbest: 0.7386048 (1000)\ttotal: 51s\tremaining: 3m 23s\n",
      "1200:\tlearn: 0.7244407\ttest: 0.7244407\ttest1: 0.7382146\tbest: 0.7381981 (1196)\ttotal: 1m\tremaining: 3m 12s\n",
      "1400:\tlearn: 0.7224192\ttest: 0.7224192\ttest1: 0.7381467\tbest: 0.7381070 (1343)\ttotal: 1m 10s\tremaining: 3m 1s\n",
      "Stopped by overfitting detector  (200 iterations wait)\n",
      "\n",
      "bestTest = 0.7381070008\n",
      "bestIteration = 1343\n",
      "\n",
      "Shrink model to first 1344 iterations.\n",
      "9  err_lgm:  0.6861114275948502\n",
      "0:\tlearn: 1.0809991\ttest: 1.0809991\ttest1: 1.0809877\tbest: 1.0809877 (0)\ttotal: 51.9ms\tremaining: 4m 19s\n",
      "200:\tlearn: 0.7470812\ttest: 0.7470812\ttest1: 0.7472498\tbest: 0.7472498 (200)\ttotal: 12.3s\tremaining: 4m 53s\n",
      "400:\tlearn: 0.7373142\ttest: 0.7373142\ttest1: 0.7397945\tbest: 0.7397945 (400)\ttotal: 26.6s\tremaining: 5m 5s\n",
      "600:\tlearn: 0.7325879\ttest: 0.7325879\ttest1: 0.7371934\tbest: 0.7371934 (600)\ttotal: 37.5s\tremaining: 4m 34s\n",
      "800:\tlearn: 0.7293616\ttest: 0.7293616\ttest1: 0.7359874\tbest: 0.7359874 (800)\ttotal: 47.6s\tremaining: 4m 9s\n",
      "1000:\tlearn: 0.7268253\ttest: 0.7268253\ttest1: 0.7353767\tbest: 0.7353767 (1000)\ttotal: 57.5s\tremaining: 3m 49s\n",
      "1200:\tlearn: 0.7246599\ttest: 0.7246599\ttest1: 0.7349964\tbest: 0.7349913 (1116)\ttotal: 1m 7s\tremaining: 3m 34s\n",
      "1400:\tlearn: 0.7226718\ttest: 0.7226718\ttest1: 0.7347397\tbest: 0.7347254 (1362)\ttotal: 1m 18s\tremaining: 3m 22s\n",
      "1600:\tlearn: 0.7209223\ttest: 0.7209223\ttest1: 0.7346093\tbest: 0.7345801 (1587)\ttotal: 1m 29s\tremaining: 3m 10s\n",
      "1800:\tlearn: 0.7192447\ttest: 0.7192447\ttest1: 0.7345228\tbest: 0.7345088 (1761)\ttotal: 1m 39s\tremaining: 2m 56s\n",
      "2000:\tlearn: 0.7175833\ttest: 0.7175833\ttest1: 0.7343546\tbest: 0.7343366 (1965)\ttotal: 1m 49s\tremaining: 2m 44s\n",
      "2200:\tlearn: 0.7159890\ttest: 0.7159890\ttest1: 0.7343706\tbest: 0.7343090 (2166)\ttotal: 1m 59s\tremaining: 2m 32s\n",
      "Stopped by overfitting detector  (200 iterations wait)\n",
      "\n",
      "bestTest = 0.7343090063\n",
      "bestIteration = 2166\n",
      "\n",
      "Shrink model to first 2167 iterations.\n",
      "10  err_lgm:  0.6908966617295204\n",
      "0:\tlearn: 1.0810387\ttest: 1.0810387\ttest1: 1.0807753\tbest: 1.0807753 (0)\ttotal: 63.9ms\tremaining: 5m 19s\n",
      "200:\tlearn: 0.7474270\ttest: 0.7474270\ttest1: 0.7437785\tbest: 0.7437785 (200)\ttotal: 11s\tremaining: 4m 22s\n",
      "400:\tlearn: 0.7378369\ttest: 0.7378369\ttest1: 0.7359923\tbest: 0.7359923 (400)\ttotal: 21.4s\tremaining: 4m 5s\n",
      "600:\tlearn: 0.7329757\ttest: 0.7329757\ttest1: 0.7331666\tbest: 0.7331666 (600)\ttotal: 32.4s\tremaining: 3m 57s\n",
      "800:\tlearn: 0.7296668\ttest: 0.7296668\ttest1: 0.7318532\tbest: 0.7318494 (797)\ttotal: 42.6s\tremaining: 3m 43s\n",
      "1000:\tlearn: 0.7270890\ttest: 0.7270890\ttest1: 0.7311413\tbest: 0.7311413 (1000)\ttotal: 52.9s\tremaining: 3m 31s\n",
      "1200:\tlearn: 0.7249947\ttest: 0.7249947\ttest1: 0.7309069\tbest: 0.7308714 (1122)\ttotal: 1m 4s\tremaining: 3m 25s\n",
      "1400:\tlearn: 0.7230472\ttest: 0.7230472\ttest1: 0.7305441\tbest: 0.7305282 (1394)\ttotal: 1m 17s\tremaining: 3m 17s\n",
      "1600:\tlearn: 0.7212793\ttest: 0.7212793\ttest1: 0.7302014\tbest: 0.7301869 (1592)\ttotal: 1m 26s\tremaining: 3m 4s\n",
      "1800:\tlearn: 0.7195985\ttest: 0.7195985\ttest1: 0.7300529\tbest: 0.7300504 (1799)\ttotal: 1m 36s\tremaining: 2m 52s\n",
      "2000:\tlearn: 0.7180171\ttest: 0.7180171\ttest1: 0.7299404\tbest: 0.7299313 (1976)\ttotal: 1m 46s\tremaining: 2m 40s\n",
      "2200:\tlearn: 0.7164107\ttest: 0.7164107\ttest1: 0.7298597\tbest: 0.7298457 (2172)\ttotal: 1m 56s\tremaining: 2m 28s\n",
      "2400:\tlearn: 0.7149478\ttest: 0.7149478\ttest1: 0.7298674\tbest: 0.7298053 (2298)\ttotal: 2m 6s\tremaining: 2m 17s\n",
      "Stopped by overfitting detector  (200 iterations wait)\n",
      "\n",
      "bestTest = 0.7298053428\n",
      "bestIteration = 2298\n",
      "\n",
      "Shrink model to first 2299 iterations.\n",
      "11  err_lgm:  0.6916942007519654\n",
      "0:\tlearn: 1.0810081\ttest: 1.0810081\ttest1: 1.0809359\tbest: 1.0809359 (0)\ttotal: 50.7ms\tremaining: 4m 13s\n",
      "200:\tlearn: 0.7468867\ttest: 0.7468867\ttest1: 0.7480840\tbest: 0.7480840 (200)\ttotal: 10.4s\tremaining: 4m 8s\n",
      "400:\tlearn: 0.7374147\ttest: 0.7374147\ttest1: 0.7405710\tbest: 0.7405710 (400)\ttotal: 21s\tremaining: 4m 1s\n",
      "600:\tlearn: 0.7326416\ttest: 0.7326416\ttest1: 0.7375711\tbest: 0.7375711 (600)\ttotal: 32s\tremaining: 3m 54s\n",
      "800:\tlearn: 0.7294374\ttest: 0.7294374\ttest1: 0.7360059\tbest: 0.7360059 (800)\ttotal: 42.3s\tremaining: 3m 41s\n",
      "1000:\tlearn: 0.7268825\ttest: 0.7268825\ttest1: 0.7351827\tbest: 0.7351827 (1000)\ttotal: 53.9s\tremaining: 3m 35s\n",
      "1200:\tlearn: 0.7247219\ttest: 0.7247219\ttest1: 0.7347400\tbest: 0.7347400 (1200)\ttotal: 1m 4s\tremaining: 3m 24s\n",
      "1400:\tlearn: 0.7227702\ttest: 0.7227702\ttest1: 0.7345488\tbest: 0.7345488 (1400)\ttotal: 1m 15s\tremaining: 3m 14s\n",
      "1600:\tlearn: 0.7209061\ttest: 0.7209061\ttest1: 0.7344645\tbest: 0.7344505 (1522)\ttotal: 1m 26s\tremaining: 3m 4s\n",
      "1800:\tlearn: 0.7192159\ttest: 0.7192159\ttest1: 0.7342613\tbest: 0.7342613 (1800)\ttotal: 1m 38s\tremaining: 2m 54s\n",
      "2000:\tlearn: 0.7176248\ttest: 0.7176248\ttest1: 0.7342766\tbest: 0.7342466 (1883)\ttotal: 1m 48s\tremaining: 2m 43s\n",
      "2200:\tlearn: 0.7160292\ttest: 0.7160292\ttest1: 0.7343017\tbest: 0.7342253 (2052)\ttotal: 1m 59s\tremaining: 2m 32s\n",
      "Stopped by overfitting detector  (200 iterations wait)\n",
      "\n",
      "bestTest = 0.7342253351\n",
      "bestIteration = 2052\n",
      "\n",
      "Shrink model to first 2053 iterations.\n",
      "12  err_lgm:  0.692605673920474\n",
      "0:\tlearn: 1.0809518\ttest: 1.0809518\ttest1: 1.0812854\tbest: 1.0812854 (0)\ttotal: 75.8ms\tremaining: 6m 19s\n",
      "200:\tlearn: 0.7463704\ttest: 0.7463704\ttest1: 0.7569615\tbest: 0.7569615 (200)\ttotal: 12.1s\tremaining: 4m 48s\n",
      "400:\tlearn: 0.7366797\ttest: 0.7366797\ttest1: 0.7501172\tbest: 0.7501172 (400)\ttotal: 22.8s\tremaining: 4m 21s\n",
      "600:\tlearn: 0.7319082\ttest: 0.7319082\ttest1: 0.7473905\tbest: 0.7473905 (600)\ttotal: 33s\tremaining: 4m 1s\n",
      "800:\tlearn: 0.7287493\ttest: 0.7287493\ttest1: 0.7461570\tbest: 0.7461562 (798)\ttotal: 43.3s\tremaining: 3m 46s\n",
      "1000:\tlearn: 0.7262126\ttest: 0.7262126\ttest1: 0.7454380\tbest: 0.7454370 (999)\ttotal: 53.2s\tremaining: 3m 32s\n",
      "1200:\tlearn: 0.7240203\ttest: 0.7240203\ttest1: 0.7450037\tbest: 0.7449767 (1158)\ttotal: 1m 3s\tremaining: 3m 22s\n",
      "1400:\tlearn: 0.7220315\ttest: 0.7220315\ttest1: 0.7447342\tbest: 0.7447327 (1399)\ttotal: 1m 15s\tremaining: 3m 14s\n",
      "1600:\tlearn: 0.7202095\ttest: 0.7202095\ttest1: 0.7447108\tbest: 0.7447009 (1595)\ttotal: 1m 26s\tremaining: 3m 4s\n",
      "1800:\tlearn: 0.7185004\ttest: 0.7185004\ttest1: 0.7444755\tbest: 0.7444706 (1799)\ttotal: 1m 37s\tremaining: 2m 53s\n",
      "2000:\tlearn: 0.7168953\ttest: 0.7168953\ttest1: 0.7444561\tbest: 0.7444073 (1848)\ttotal: 1m 48s\tremaining: 2m 42s\n",
      "Stopped by overfitting detector  (200 iterations wait)\n",
      "\n",
      "bestTest = 0.7444072802\n",
      "bestIteration = 1848\n",
      "\n",
      "Shrink model to first 1849 iterations.\n",
      "13  err_lgm:  0.6848581519881508\n",
      "0:\tlearn: 1.0810393\ttest: 1.0810393\ttest1: 1.0807115\tbest: 1.0807115 (0)\ttotal: 64.9ms\tremaining: 5m 24s\n",
      "200:\tlearn: 0.7475831\ttest: 0.7475831\ttest1: 0.7423643\tbest: 0.7423643 (200)\ttotal: 11.2s\tremaining: 4m 26s\n",
      "400:\tlearn: 0.7379450\ttest: 0.7379450\ttest1: 0.7338647\tbest: 0.7338647 (400)\ttotal: 21.6s\tremaining: 4m 8s\n",
      "600:\tlearn: 0.7330418\ttest: 0.7330418\ttest1: 0.7305877\tbest: 0.7305877 (600)\ttotal: 32.1s\tremaining: 3m 55s\n",
      "800:\tlearn: 0.7298880\ttest: 0.7298880\ttest1: 0.7293162\tbest: 0.7293069 (795)\ttotal: 42.6s\tremaining: 3m 43s\n",
      "1000:\tlearn: 0.7273550\ttest: 0.7273550\ttest1: 0.7286053\tbest: 0.7286052 (978)\ttotal: 53.2s\tremaining: 3m 32s\n",
      "1200:\tlearn: 0.7251366\ttest: 0.7251366\ttest1: 0.7282388\tbest: 0.7282388 (1200)\ttotal: 1m 3s\tremaining: 3m 20s\n",
      "1400:\tlearn: 0.7231881\ttest: 0.7231881\ttest1: 0.7280030\tbest: 0.7280030 (1400)\ttotal: 1m 13s\tremaining: 3m 9s\n",
      "1600:\tlearn: 0.7214537\ttest: 0.7214537\ttest1: 0.7277995\tbest: 0.7277842 (1584)\ttotal: 1m 25s\tremaining: 3m\n",
      "1800:\tlearn: 0.7197715\ttest: 0.7197715\ttest1: 0.7277806\tbest: 0.7277686 (1639)\ttotal: 1m 35s\tremaining: 2m 50s\n",
      "2000:\tlearn: 0.7181889\ttest: 0.7181889\ttest1: 0.7277075\tbest: 0.7276965 (1982)\ttotal: 1m 46s\tremaining: 2m 39s\n",
      "2200:\tlearn: 0.7166138\ttest: 0.7166138\ttest1: 0.7277126\tbest: 0.7276866 (2067)\ttotal: 1m 57s\tremaining: 2m 28s\n",
      "Stopped by overfitting detector  (200 iterations wait)\n",
      "\n",
      "bestTest = 0.7276866038\n",
      "bestIteration = 2067\n",
      "\n",
      "Shrink model to first 2068 iterations.\n",
      "14  err_lgm:  0.6964794348866356\n",
      "0:\tlearn: 1.0809649\ttest: 1.0809649\ttest1: 1.0812037\tbest: 1.0812037 (0)\ttotal: 70.5ms\tremaining: 5m 52s\n",
      "200:\tlearn: 0.7466131\ttest: 0.7466131\ttest1: 0.7529095\tbest: 0.7529095 (200)\ttotal: 11.4s\tremaining: 4m 31s\n",
      "400:\tlearn: 0.7370663\ttest: 0.7370663\ttest1: 0.7459318\tbest: 0.7459318 (400)\ttotal: 21.9s\tremaining: 4m 11s\n",
      "600:\tlearn: 0.7322790\ttest: 0.7322790\ttest1: 0.7430455\tbest: 0.7430455 (600)\ttotal: 32.3s\tremaining: 3m 56s\n",
      "800:\tlearn: 0.7289946\ttest: 0.7289946\ttest1: 0.7417866\tbest: 0.7417866 (800)\ttotal: 43.4s\tremaining: 3m 47s\n",
      "1000:\tlearn: 0.7264410\ttest: 0.7264410\ttest1: 0.7411183\tbest: 0.7411183 (1000)\ttotal: 54.5s\tremaining: 3m 37s\n",
      "1200:\tlearn: 0.7242462\ttest: 0.7242462\ttest1: 0.7406844\tbest: 0.7406844 (1200)\ttotal: 1m 4s\tremaining: 3m 25s\n",
      "1400:\tlearn: 0.7223513\ttest: 0.7223513\ttest1: 0.7405186\tbest: 0.7405186 (1400)\ttotal: 1m 15s\tremaining: 3m 13s\n",
      "1600:\tlearn: 0.7205765\ttest: 0.7205765\ttest1: 0.7404860\tbest: 0.7404474 (1553)\ttotal: 1m 25s\tremaining: 3m 2s\n",
      "1800:\tlearn: 0.7188183\ttest: 0.7188183\ttest1: 0.7404396\tbest: 0.7404019 (1757)\ttotal: 1m 36s\tremaining: 2m 51s\n",
      "Stopped by overfitting detector  (200 iterations wait)\n",
      "\n",
      "bestTest = 0.740401894\n",
      "bestIteration = 1757\n",
      "\n",
      "Shrink model to first 1758 iterations.\n",
      "15  err_lgm:  0.6873647032015495\n"
     ]
    }
   ],
   "source": [
    "#CATBOOST CLASSIFIER#\n",
    "from catboost import CatBoostClassifier,Pool, cv\n",
    "\n",
    "y_pred_tot_cb = []\n",
    "errs = []\n",
    "\n",
    "from sklearn.model_selection import KFold,StratifiedKFold\n",
    "\n",
    "fold = StratifiedKFold(n_splits=15)\n",
    "i = 1\n",
    "for train_index, test_index in fold.split(X,y):\n",
    "    x_train, x_val = X.iloc[train_index], X.iloc[test_index]\n",
    "    y_train, y_val = y[train_index], y[test_index]\n",
    "    m = CatBoostClassifier(n_estimators=5000,\n",
    "                           random_state=1994,\n",
    "                           learning_rate=0.03, max_depth=5)\n",
    "    m.fit(x_train, y_train,\n",
    "          eval_set=[(x_train,y_train),(x_val, y_val)],\n",
    "          early_stopping_rounds=200,\n",
    "          verbose=200)\n",
    "    pred = m.predict(x_val)\n",
    "    print(i, \" err_lgm: \", accuracy_score(y_val, pred))\n",
    "    errs.append(accuracy_score(y_val, pred))\n",
    "    pred_test = m.predict(X_test)\n",
    "    i+=1\n",
    "    y_pred_tot_cb.append(pred_test)\n",
    "    \n",
    "    "
   ]
  },
  {
   "cell_type": "code",
   "execution_count": 63,
   "metadata": {},
   "outputs": [],
   "source": [
    "submission = pd.DataFrame()\n",
    "submission['Trip_ID'] = master[master['Surge_Pricing_Type'].isnull()==True]['Trip_ID']\n",
    "submission['Surge_Pricing_Type'] = y_pred_tot_cb[14]\n",
    "submission.to_csv('normal.csv', index=False, header=True)"
   ]
  },
  {
   "cell_type": "code",
   "execution_count": 55,
   "metadata": {},
   "outputs": [
    {
     "name": "stdout",
     "output_type": "stream",
     "text": [
      "0.7933040664732421 0.5691391593626103 0.6375567741641476\n"
     ]
    }
   ],
   "source": [
    "# These are the class weights for each class\n",
    "class_1 =( len(y) - len(y[y==1]))/len(y)\n",
    "class_2 =( len(y) - len(y[y==2]))/len(y)\n",
    "class_3 =( len(y) - len(y[y==3]))/len(y)\n",
    "print(class_1,class_2,class_3)"
   ]
  },
  {
   "cell_type": "code",
   "execution_count": 57,
   "metadata": {},
   "outputs": [
    {
     "name": "stdout",
     "output_type": "stream",
     "text": [
      "Training until validation scores don't improve for 200 rounds\n",
      "[200]\ttraining's multi_logloss: 0.739236\tvalid_1's multi_logloss: 0.744852\n",
      "[400]\ttraining's multi_logloss: 0.726378\tvalid_1's multi_logloss: 0.741963\n",
      "[600]\ttraining's multi_logloss: 0.715825\tvalid_1's multi_logloss: 0.741683\n",
      "Early stopping, best iteration is:\n",
      "[523]\ttraining's multi_logloss: 0.719714\tvalid_1's multi_logloss: 0.741549\n",
      "1  err_lgm:  0.6892230576441103\n",
      "Training until validation scores don't improve for 200 rounds\n",
      "[200]\ttraining's multi_logloss: 0.739501\tvalid_1's multi_logloss: 0.742184\n",
      "[400]\ttraining's multi_logloss: 0.726816\tvalid_1's multi_logloss: 0.739437\n",
      "[600]\ttraining's multi_logloss: 0.716642\tvalid_1's multi_logloss: 0.739439\n",
      "Early stopping, best iteration is:\n",
      "[493]\ttraining's multi_logloss: 0.721953\tvalid_1's multi_logloss: 0.739313\n",
      "2  err_lgm:  0.6891091364775576\n",
      "Training until validation scores don't improve for 200 rounds\n",
      "[200]\ttraining's multi_logloss: 0.738935\tvalid_1's multi_logloss: 0.747112\n",
      "[400]\ttraining's multi_logloss: 0.726041\tvalid_1's multi_logloss: 0.745412\n",
      "Early stopping, best iteration is:\n",
      "[359]\ttraining's multi_logloss: 0.728318\tvalid_1's multi_logloss: 0.745306\n",
      "3  err_lgm:  0.688425609478241\n",
      "Training until validation scores don't improve for 200 rounds\n",
      "[200]\ttraining's multi_logloss: 0.739231\tvalid_1's multi_logloss: 0.74421\n",
      "[400]\ttraining's multi_logloss: 0.726244\tvalid_1's multi_logloss: 0.740436\n",
      "[600]\ttraining's multi_logloss: 0.71599\tvalid_1's multi_logloss: 0.740079\n",
      "Early stopping, best iteration is:\n",
      "[560]\ttraining's multi_logloss: 0.717905\tvalid_1's multi_logloss: 0.739992\n",
      "4  err_lgm:  0.6847801321485532\n",
      "Training until validation scores don't improve for 200 rounds\n",
      "[200]\ttraining's multi_logloss: 0.739198\tvalid_1's multi_logloss: 0.7458\n",
      "[400]\ttraining's multi_logloss: 0.726163\tvalid_1's multi_logloss: 0.74311\n",
      "[600]\ttraining's multi_logloss: 0.715791\tvalid_1's multi_logloss: 0.742566\n",
      "[800]\ttraining's multi_logloss: 0.70618\tvalid_1's multi_logloss: 0.742863\n",
      "Early stopping, best iteration is:\n",
      "[607]\ttraining's multi_logloss: 0.715425\tvalid_1's multi_logloss: 0.742547\n",
      "5  err_lgm:  0.6878560036454773\n",
      "Training until validation scores don't improve for 200 rounds\n",
      "[200]\ttraining's multi_logloss: 0.739965\tvalid_1's multi_logloss: 0.737507\n",
      "[400]\ttraining's multi_logloss: 0.727205\tvalid_1's multi_logloss: 0.733985\n",
      "[600]\ttraining's multi_logloss: 0.716765\tvalid_1's multi_logloss: 0.73364\n",
      "Early stopping, best iteration is:\n",
      "[585]\ttraining's multi_logloss: 0.717441\tvalid_1's multi_logloss: 0.73356\n",
      "6  err_lgm:  0.6889952153110048\n",
      "Training until validation scores don't improve for 200 rounds\n",
      "[200]\ttraining's multi_logloss: 0.738302\tvalid_1's multi_logloss: 0.754353\n",
      "[400]\ttraining's multi_logloss: 0.725041\tvalid_1's multi_logloss: 0.752074\n",
      "[600]\ttraining's multi_logloss: 0.714498\tvalid_1's multi_logloss: 0.752149\n",
      "Early stopping, best iteration is:\n",
      "[403]\ttraining's multi_logloss: 0.724881\tvalid_1's multi_logloss: 0.752047\n",
      "7  err_lgm:  0.6803372066529961\n",
      "Training until validation scores don't improve for 200 rounds\n",
      "[200]\ttraining's multi_logloss: 0.738957\tvalid_1's multi_logloss: 0.749731\n",
      "[400]\ttraining's multi_logloss: 0.725997\tvalid_1's multi_logloss: 0.746725\n",
      "[600]\ttraining's multi_logloss: 0.715352\tvalid_1's multi_logloss: 0.746474\n",
      "Early stopping, best iteration is:\n",
      "[524]\ttraining's multi_logloss: 0.719365\tvalid_1's multi_logloss: 0.746322\n",
      "8  err_lgm:  0.6857696251566594\n",
      "Training until validation scores don't improve for 200 rounds\n",
      "[200]\ttraining's multi_logloss: 0.739701\tvalid_1's multi_logloss: 0.740967\n",
      "[400]\ttraining's multi_logloss: 0.727031\tvalid_1's multi_logloss: 0.738405\n",
      "[600]\ttraining's multi_logloss: 0.716736\tvalid_1's multi_logloss: 0.738546\n",
      "Early stopping, best iteration is:\n",
      "[424]\ttraining's multi_logloss: 0.725746\tvalid_1's multi_logloss: 0.738363\n",
      "9  err_lgm:  0.6894155178306939\n",
      "Training until validation scores don't improve for 200 rounds\n",
      "[200]\ttraining's multi_logloss: 0.739537\tvalid_1's multi_logloss: 0.745064\n",
      "[400]\ttraining's multi_logloss: 0.72643\tvalid_1's multi_logloss: 0.742726\n",
      "[600]\ttraining's multi_logloss: 0.716075\tvalid_1's multi_logloss: 0.742632\n",
      "Early stopping, best iteration is:\n",
      "[563]\ttraining's multi_logloss: 0.717915\tvalid_1's multi_logloss: 0.742554\n",
      "10  err_lgm:  0.6842884812578329\n",
      "Training until validation scores don't improve for 200 rounds\n",
      "[200]\ttraining's multi_logloss: 0.739593\tvalid_1's multi_logloss: 0.742063\n",
      "[400]\ttraining's multi_logloss: 0.726631\tvalid_1's multi_logloss: 0.74015\n",
      "[600]\ttraining's multi_logloss: 0.715843\tvalid_1's multi_logloss: 0.740145\n",
      "Early stopping, best iteration is:\n",
      "[423]\ttraining's multi_logloss: 0.725333\tvalid_1's multi_logloss: 0.739989\n",
      "11  err_lgm:  0.6951122251338726\n",
      "Training until validation scores don't improve for 200 rounds\n",
      "[200]\ttraining's multi_logloss: 0.738678\tvalid_1's multi_logloss: 0.751698\n",
      "[400]\ttraining's multi_logloss: 0.725429\tvalid_1's multi_logloss: 0.749414\n",
      "[600]\ttraining's multi_logloss: 0.715052\tvalid_1's multi_logloss: 0.749672\n",
      "Early stopping, best iteration is:\n",
      "[446]\ttraining's multi_logloss: 0.722919\tvalid_1's multi_logloss: 0.74922\n",
      "12  err_lgm:  0.6795032471231628\n",
      "Training until validation scores don't improve for 200 rounds\n",
      "[200]\ttraining's multi_logloss: 0.739247\tvalid_1's multi_logloss: 0.747124\n",
      "[400]\ttraining's multi_logloss: 0.725989\tvalid_1's multi_logloss: 0.743389\n",
      "[600]\ttraining's multi_logloss: 0.71565\tvalid_1's multi_logloss: 0.742335\n",
      "[800]\ttraining's multi_logloss: 0.706135\tvalid_1's multi_logloss: 0.742334\n",
      "Early stopping, best iteration is:\n",
      "[733]\ttraining's multi_logloss: 0.709246\tvalid_1's multi_logloss: 0.742144\n",
      "13  err_lgm:  0.6871368349094223\n",
      "Training until validation scores don't improve for 200 rounds\n",
      "[200]\ttraining's multi_logloss: 0.738937\tvalid_1's multi_logloss: 0.747849\n",
      "[400]\ttraining's multi_logloss: 0.725901\tvalid_1's multi_logloss: 0.745167\n",
      "[600]\ttraining's multi_logloss: 0.715586\tvalid_1's multi_logloss: 0.745251\n",
      "Early stopping, best iteration is:\n",
      "[451]\ttraining's multi_logloss: 0.72328\tvalid_1's multi_logloss: 0.744999\n",
      "14  err_lgm:  0.6840606129657059\n",
      "Training until validation scores don't improve for 200 rounds\n",
      "[200]\ttraining's multi_logloss: 0.740419\tvalid_1's multi_logloss: 0.734003\n",
      "[400]\ttraining's multi_logloss: 0.727494\tvalid_1's multi_logloss: 0.729649\n",
      "[600]\ttraining's multi_logloss: 0.716823\tvalid_1's multi_logloss: 0.728994\n",
      "Early stopping, best iteration is:\n",
      "[548]\ttraining's multi_logloss: 0.719449\tvalid_1's multi_logloss: 0.728949\n",
      "15  err_lgm:  0.6922638714822832\n"
     ]
    }
   ],
   "source": [
    "#LIGHT GBM#\n",
    "\n",
    "weight = {1: '0.79', 2: '0.56', 3: '0.63'}\n",
    "from lightgbm import LGBMClassifier\n",
    "from sklearn.model_selection import StratifiedKFold\n",
    "\n",
    "err = []\n",
    "y_pred_tot_lgm = []\n",
    "\n",
    "from sklearn.model_selection import StratifiedKFold\n",
    "\n",
    "fold = StratifiedKFold(n_splits=15, shuffle=True, random_state=42)\n",
    "i = 1\n",
    "for train_index, test_index in fold.split(X, y):\n",
    "    x_train, x_val = X.iloc[train_index], X.iloc[test_index]\n",
    "    y_train, y_val = y.iloc[train_index], y.iloc[test_index]\n",
    "    m = LGBMClassifier(boosting_type='gbdt',\n",
    "                       max_depth=5,\n",
    "                       learning_rate=0.05,\n",
    "                       n_estimators=5000,\n",
    "                       class_weight = weight,\n",
    "                       min_child_weight = 0.02,\n",
    "                       colsample_bytree=0.6, \n",
    "                       random_state=7,\n",
    "                       objective='multiclass')\n",
    "    m.fit(x_train, y_train,\n",
    "          eval_set=[(x_train,y_train),(x_val, y_val)],\n",
    "          early_stopping_rounds=200,\n",
    "          verbose=200)\n",
    "    pred_y = m.predict(x_val)\n",
    "    print(i, \" err_lgm: \", accuracy_score(y_val, pred_y))\n",
    "    err.append(accuracy_score(y_val, pred_y))\n",
    "    pred_test = m.predict(X_test)\n",
    "    i = i + 1\n",
    "    y_pred_tot_lgm.append(pred_test)\n",
    "  "
   ]
  },
  {
   "cell_type": "code",
   "execution_count": 60,
   "metadata": {},
   "outputs": [],
   "source": [
    "submission = pd.DataFrame()\n",
    "submission['Trip_ID'] = master[master['Surge_Pricing_Type'].isnull()==True]['Trip_ID']\n",
    "submission['Surge_Pricing_Type'] = y_pred_tot_lgm[11]\n",
    "submission.to_csv('normal_kfolds.csv', index=False, header=True)"
   ]
  }
 ],
 "metadata": {
  "kernelspec": {
   "display_name": "Python 3",
   "language": "python",
   "name": "python3"
  },
  "language_info": {
   "codemirror_mode": {
    "name": "ipython",
    "version": 3
   },
   "file_extension": ".py",
   "mimetype": "text/x-python",
   "name": "python",
   "nbconvert_exporter": "python",
   "pygments_lexer": "ipython3",
   "version": "3.7.6"
  }
 },
 "nbformat": 4,
 "nbformat_minor": 4
}
